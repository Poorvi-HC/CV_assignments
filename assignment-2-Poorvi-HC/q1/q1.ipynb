{
 "cells": [
  {
   "cell_type": "code",
   "execution_count": 1,
   "metadata": {},
   "outputs": [],
   "source": [
    "import torch\n",
    "import torch.nn as nn\n",
    "import torch.optim as optim\n",
    "import torchvision.models as models\n",
    "import torch.nn.functional as F\n",
    "import torchvision.transforms as transforms\n",
    "from torch.utils.data import Dataset, DataLoader, TensorDataset\n",
    "import torchvision.transforms as transforms\n",
    "import matplotlib.pyplot as plt\n",
    "import numpy as np\n",
    "import pandas as pd\n",
    "from tabulate import tabulate\n",
    "from sklearn.metrics import confusion_matrix, f1_score\n",
    "import seaborn as sns\n",
    "import wandb"
   ]
  },
  {
   "cell_type": "code",
   "execution_count": 2,
   "metadata": {},
   "outputs": [],
   "source": [
    "def load_dataset():\n",
    "    train_data = torch.load(\"./data/train_data.pt\").float() / 255.0  \n",
    "    train_labels = torch.load(\"./data/train_labels.pt\").long()  \n",
    "    test_data = torch.load(\"./data/test_data.pt\").float() / 255.0  \n",
    "    test_labels = torch.load(\"./data/test_labels.pt\").long()\n",
    "\n",
    "    train_dataset = TensorDataset(train_data, train_labels)\n",
    "    test_dataset = TensorDataset(test_data, test_labels)\n",
    "\n",
    "    return train_dataset, test_dataset"
   ]
  },
  {
   "cell_type": "code",
   "execution_count": 3,
   "metadata": {},
   "outputs": [],
   "source": [
    "def plot_confusion_matrix(y_true, y_pred, num_classes):\n",
    "    cm = confusion_matrix(y_true, y_pred)\n",
    "    plt.figure(figsize=(10, 8))\n",
    "    sns.heatmap(cm, annot=True, fmt='d', cmap='Blues')\n",
    "    plt.title('Confusion Matrix')\n",
    "    plt.ylabel('True Label')\n",
    "    plt.xlabel('Predicted Label')\n",
    "    return plt\n"
   ]
  },
  {
   "cell_type": "code",
   "execution_count": 4,
   "metadata": {},
   "outputs": [],
   "source": [
    "def evaluate_model(model, test_loader, wandb_run=None):\n",
    "    model.eval()\n",
    "    device = next(model.parameters()).device\n",
    "    correct, total = 0, 0\n",
    "    all_preds, all_labels = [], []\n",
    "\n",
    "    with torch.no_grad():\n",
    "        for images, labels in test_loader:\n",
    "            images, labels = images.to(device), labels.to(device)\n",
    "            outputs = model(images)\n",
    "            _, predicted = outputs.max(1)\n",
    "            total += labels.size(0)\n",
    "            correct += predicted.eq(labels).sum().item()\n",
    "            all_preds.extend(predicted.cpu().numpy())\n",
    "            all_labels.extend(labels.cpu().numpy())\n",
    "\n",
    "    accuracy = 100 * correct / total\n",
    "    f1 = f1_score(all_labels, all_preds, average='weighted')\n",
    "\n",
    "    if wandb_run:\n",
    "        plot_confusion_matrix(all_labels, all_preds, \"Test Confusion Matrix\", wandb_run)\n",
    "        wandb_run.log({\"test_accuracy\": accuracy, \"test_f1_score\": f1})\n",
    "\n",
    "    print(f\"Test Accuracy: {accuracy:.2f}% | F1 Score: {f1:.4f}\")\n",
    "    return accuracy, f1\n",
    "\n",
    "def plot_confusion_matrix(true_labels, pred_labels, title, wandb_run):\n",
    "    plt.figure(figsize=(8, 6))\n",
    "    cm = confusion_matrix(true_labels, pred_labels)\n",
    "    sns.heatmap(cm, annot=True, fmt='d', cmap='Blues')\n",
    "    plt.title(title)\n",
    "    plt.ylabel('True Label')\n",
    "    plt.xlabel('Predicted Label')\n",
    "    wandb_run.log({title: wandb.Image(plt)})\n",
    "    plt.close()\n",
    "\n",
    "def train_model(model, train_loader, test_loader, num_epochs=10, lr=0.001, experiment_name=\"default\"):\n",
    "    device = torch.device(\"cuda\" if torch.cuda.is_available() else \"cpu\")\n",
    "    model.to(device)\n",
    "    \n",
    "    wandb_run = wandb.init(\n",
    "        project=\"resnet18-comparison\",\n",
    "        name=experiment_name,\n",
    "        config={\"learning_rate\": lr, \"epochs\": num_epochs, \"batch_size\": train_loader.batch_size}\n",
    "    )\n",
    "    wandb_run.watch(model, log=\"all\")\n",
    "    \n",
    "    criterion = nn.CrossEntropyLoss()\n",
    "    optimizer = optim.Adam(model.parameters(), lr=lr)\n",
    "    \n",
    "    history = {\"losses\": [], \"train_acc\": [], \"test_acc\": [], \"train_f1\": [], \"test_f1\": []}\n",
    "    \n",
    "    for epoch in range(num_epochs):\n",
    "        model.train()\n",
    "        total_loss, correct, total = 0, 0, 0\n",
    "        epoch_preds, epoch_labels = [], []\n",
    "        \n",
    "        for images, labels in train_loader:\n",
    "            images, labels = images.to(device), labels.to(device)\n",
    "            optimizer.zero_grad()\n",
    "            outputs = model(images)\n",
    "            loss = criterion(outputs, labels)\n",
    "            loss.backward()\n",
    "            optimizer.step()\n",
    "            \n",
    "            total_loss += loss.item()\n",
    "            _, predicted = outputs.max(1)\n",
    "            correct += predicted.eq(labels).sum().item()\n",
    "            total += labels.size(0)\n",
    "            \n",
    "            epoch_preds.extend(predicted.cpu().numpy())\n",
    "            epoch_labels.extend(labels.cpu().numpy())\n",
    "        \n",
    "        train_accuracy = 100 * correct / total\n",
    "        train_f1 = f1_score(epoch_labels, epoch_preds, average='weighted')\n",
    "        test_accuracy, test_f1 = evaluate_model(model, test_loader)\n",
    "        \n",
    "        history[\"losses\"].append(total_loss)\n",
    "        history[\"train_acc\"].append(train_accuracy)\n",
    "        history[\"test_acc\"].append(test_accuracy)\n",
    "        history[\"train_f1\"].append(train_f1)\n",
    "        history[\"test_f1\"].append(test_f1)\n",
    "        \n",
    "        plot_confusion_matrix(epoch_labels, epoch_preds, f\"Training Confusion Matrix - Epoch {epoch+1}\", wandb_run)\n",
    "        \n",
    "        wandb_run.log({\n",
    "            \"epoch\": epoch + 1, \"train_loss\": total_loss,\n",
    "            \"train_accuracy\": train_accuracy, \"test_accuracy\": test_accuracy,\n",
    "            \"train_f1\": train_f1, \"test_f1\": test_f1\n",
    "        })\n",
    "        \n",
    "        print(f\"Epoch {epoch+1}: Loss={total_loss:.4f}, Train Acc={train_accuracy:.2f}%, F1={train_f1:.4f}\")\n",
    "    \n",
    "    history[\"final_test_accuracy\"], history[\"final_test_f1\"] = evaluate_model(model, test_loader, wandb_run)\n",
    "    wandb_run.finish()\n",
    "    return history\n"
   ]
  },
  {
   "cell_type": "code",
   "execution_count": 5,
   "metadata": {},
   "outputs": [],
   "source": [
    "def get_standard_resnet(num_classes):\n",
    "    model = models.resnet18(weights=None) \n",
    "    model.fc = nn.Linear(model.fc.in_features, num_classes)  \n",
    "    return model\n",
    "\n",
    "def get_pretrained_resnet(num_classes):\n",
    "    model = models.resnet18(weights=\"IMAGENET1K_V1\")  \n",
    "    model.fc = nn.Linear(model.fc.in_features, num_classes)  \n",
    "    return model"
   ]
  },
  {
   "cell_type": "code",
   "execution_count": 25,
   "metadata": {},
   "outputs": [],
   "source": [
    "train_dataset, test_dataset = load_dataset()\n",
    "num_classes = len(torch.unique(train_dataset.tensors[1]))\n",
    "\n",
    "train_loader = DataLoader(train_dataset, batch_size=32, shuffle=True)\n",
    "test_loader = DataLoader(test_dataset, batch_size=32, shuffle=False)"
   ]
  },
  {
   "cell_type": "code",
   "execution_count": 7,
   "metadata": {},
   "outputs": [
    {
     "data": {
      "text/plain": [
       "10"
      ]
     },
     "execution_count": 7,
     "metadata": {},
     "output_type": "execute_result"
    }
   ],
   "source": [
    "num_classes"
   ]
  },
  {
   "cell_type": "code",
   "execution_count": 8,
   "metadata": {},
   "outputs": [
    {
     "name": "stderr",
     "output_type": "stream",
     "text": [
      "\u001b[34m\u001b[1mwandb\u001b[0m: \u001b[33mWARNING\u001b[0m If you're specifying your api key in code, ensure this code is not shared publicly.\n",
      "\u001b[34m\u001b[1mwandb\u001b[0m: \u001b[33mWARNING\u001b[0m Consider setting the WANDB_API_KEY environment variable, or running `wandb login` from the command line.\n",
      "\u001b[34m\u001b[1mwandb\u001b[0m: Appending key for api.wandb.ai to your netrc file: /home2/poorvi.c/.netrc\n"
     ]
    },
    {
     "name": "stderr",
     "output_type": "stream",
     "text": [
      "\u001b[34m\u001b[1mwandb\u001b[0m: Currently logged in as: \u001b[33mpoorvi-c\u001b[0m (\u001b[33mpoorvi-c-iiit-hyderabad\u001b[0m) to \u001b[32mhttps://api.wandb.ai\u001b[0m. Use \u001b[1m`wandb login --relogin`\u001b[0m to force relogin\n"
     ]
    },
    {
     "data": {
      "text/plain": [
       "True"
      ]
     },
     "execution_count": 8,
     "metadata": {},
     "output_type": "execute_result"
    }
   ],
   "source": [
    "wandb.login(key=\"adaae359c8f78abbd7f4b739f52905b2ffcc5e4e\")"
   ]
  },
  {
   "cell_type": "code",
   "execution_count": 9,
   "metadata": {},
   "outputs": [
    {
     "name": "stdout",
     "output_type": "stream",
     "text": [
      "\n",
      "Training Standard ResNet-18 from Scratch...\n"
     ]
    },
    {
     "name": "stderr",
     "output_type": "stream",
     "text": [
      "\u001b[34m\u001b[1mwandb\u001b[0m: Using wandb-core as the SDK backend.  Please refer to https://wandb.me/wandb-core for more information.\n"
     ]
    },
    {
     "data": {
      "text/html": [
       "Tracking run with wandb version 0.19.5"
      ],
      "text/plain": [
       "<IPython.core.display.HTML object>"
      ]
     },
     "metadata": {},
     "output_type": "display_data"
    },
    {
     "data": {
      "text/html": [
       "Run data is saved locally in <code>/home2/poorvi.c/Documents/CV/assignment-2-Poorvi-HC/q1/wandb/run-20250204_172138-nn9xae2f</code>"
      ],
      "text/plain": [
       "<IPython.core.display.HTML object>"
      ]
     },
     "metadata": {},
     "output_type": "display_data"
    },
    {
     "data": {
      "text/html": [
       "Syncing run <strong><a href='https://wandb.ai/poorvi-c-iiit-hyderabad/resnet18-comparison/runs/nn9xae2f' target=\"_blank\">Standard_ResNet18</a></strong> to <a href='https://wandb.ai/poorvi-c-iiit-hyderabad/resnet18-comparison' target=\"_blank\">Weights & Biases</a> (<a href='https://wandb.me/developer-guide' target=\"_blank\">docs</a>)<br>"
      ],
      "text/plain": [
       "<IPython.core.display.HTML object>"
      ]
     },
     "metadata": {},
     "output_type": "display_data"
    },
    {
     "data": {
      "text/html": [
       " View project at <a href='https://wandb.ai/poorvi-c-iiit-hyderabad/resnet18-comparison' target=\"_blank\">https://wandb.ai/poorvi-c-iiit-hyderabad/resnet18-comparison</a>"
      ],
      "text/plain": [
       "<IPython.core.display.HTML object>"
      ]
     },
     "metadata": {},
     "output_type": "display_data"
    },
    {
     "data": {
      "text/html": [
       " View run at <a href='https://wandb.ai/poorvi-c-iiit-hyderabad/resnet18-comparison/runs/nn9xae2f' target=\"_blank\">https://wandb.ai/poorvi-c-iiit-hyderabad/resnet18-comparison/runs/nn9xae2f</a>"
      ],
      "text/plain": [
       "<IPython.core.display.HTML object>"
      ]
     },
     "metadata": {},
     "output_type": "display_data"
    },
    {
     "name": "stdout",
     "output_type": "stream",
     "text": [
      "Test Accuracy: 53.23%\n",
      "F1 Score: 0.5416\n",
      "Epoch 1; Loss=2127.2241; Train Acc=51.17%, F1=0.5092\n",
      "Test Accuracy: 68.44%\n",
      "F1 Score: 0.6887\n",
      "Epoch 2; Loss=1510.7613; Train Acc=66.16%, F1=0.6607\n",
      "Test Accuracy: 69.14%\n",
      "F1 Score: 0.6968\n",
      "Epoch 3; Loss=1218.4441; Train Acc=72.89%, F1=0.7283\n",
      "Test Accuracy: 71.50%\n",
      "F1 Score: 0.7151\n",
      "Epoch 4; Loss=999.3149; Train Acc=77.77%, F1=0.7773\n",
      "Test Accuracy: 67.61%\n",
      "F1 Score: 0.6842\n",
      "Epoch 5; Loss=819.2302; Train Acc=81.79%, F1=0.8177\n",
      "Test Accuracy: 75.45%\n",
      "F1 Score: 0.7528\n",
      "Epoch 6; Loss=648.3713; Train Acc=85.63%, F1=0.8561\n",
      "Test Accuracy: 76.87%\n",
      "F1 Score: 0.7670\n",
      "Epoch 7; Loss=495.7954; Train Acc=88.97%, F1=0.8896\n",
      "Test Accuracy: 75.62%\n",
      "F1 Score: 0.7603\n",
      "Epoch 8; Loss=372.6156; Train Acc=91.55%, F1=0.9155\n",
      "Test Accuracy: 75.74%\n",
      "F1 Score: 0.7584\n",
      "Epoch 9; Loss=300.2729; Train Acc=93.11%, F1=0.9311\n",
      "Test Accuracy: 74.54%\n",
      "F1 Score: 0.7448\n",
      "Epoch 10; Loss=233.6598; Train Acc=94.75%, F1=0.9475\n",
      "Test Accuracy: 74.54%\n",
      "F1 Score: 0.7448\n"
     ]
    },
    {
     "data": {
      "text/html": [],
      "text/plain": [
       "<IPython.core.display.HTML object>"
      ]
     },
     "metadata": {},
     "output_type": "display_data"
    },
    {
     "data": {
      "text/html": [
       "<br>    <style><br>        .wandb-row {<br>            display: flex;<br>            flex-direction: row;<br>            flex-wrap: wrap;<br>            justify-content: flex-start;<br>            width: 100%;<br>        }<br>        .wandb-col {<br>            display: flex;<br>            flex-direction: column;<br>            flex-basis: 100%;<br>            flex: 1;<br>            padding: 10px;<br>        }<br>    </style><br><div class=\"wandb-row\"><div class=\"wandb-col\"><h3>Run history:</h3><br/><table class=\"wandb\"><tr><td>batch</td><td>▁▁▁▂▂▂▂▂▃▃▄▄▄▄▄▄▅▅▅▅▅▅▆▆▆▆▆▆▇▇▇▇▇▇▇▇████</td></tr><tr><td>batch_loss</td><td>█▇█▆▅▅▅▆▄▄▄▅▅▅▄▄▃▂▃▃▂▃▂▃▃▂▂▂▂▃▃▂▂▁▂▁▂▁▃▁</td></tr><tr><td>epoch</td><td>▁▂▃▃▄▅▆▆▇█</td></tr><tr><td>test_accuracy</td><td>▁▆▆▆▅████▇▇</td></tr><tr><td>test_f1</td><td>▁▆▆▆▅████▇</td></tr><tr><td>test_f1_score</td><td>▁</td></tr><tr><td>train_accuracy</td><td>▁▃▄▅▆▇▇▇██</td></tr><tr><td>train_f1</td><td>▁▃▄▅▆▇▇▇██</td></tr><tr><td>train_loss</td><td>█▆▅▄▃▃▂▂▁▁</td></tr></table><br/></div><div class=\"wandb-col\"><h3>Run summary:</h3><br/><table class=\"wandb\"><tr><td>batch</td><td>15627</td></tr><tr><td>batch_loss</td><td>0.20301</td></tr><tr><td>epoch</td><td>9</td></tr><tr><td>test_accuracy</td><td>74.54</td></tr><tr><td>test_f1</td><td>0.74479</td></tr><tr><td>test_f1_score</td><td>0.74479</td></tr><tr><td>train_accuracy</td><td>94.752</td></tr><tr><td>train_f1</td><td>0.94751</td></tr><tr><td>train_loss</td><td>233.65983</td></tr></table><br/></div></div>"
      ],
      "text/plain": [
       "<IPython.core.display.HTML object>"
      ]
     },
     "metadata": {},
     "output_type": "display_data"
    },
    {
     "data": {
      "text/html": [
       " View run <strong style=\"color:#cdcd00\">Standard_ResNet18</strong> at: <a href='https://wandb.ai/poorvi-c-iiit-hyderabad/resnet18-comparison/runs/nn9xae2f' target=\"_blank\">https://wandb.ai/poorvi-c-iiit-hyderabad/resnet18-comparison/runs/nn9xae2f</a><br> View project at: <a href='https://wandb.ai/poorvi-c-iiit-hyderabad/resnet18-comparison' target=\"_blank\">https://wandb.ai/poorvi-c-iiit-hyderabad/resnet18-comparison</a><br>Synced 5 W&B file(s), 11 media file(s), 0 artifact file(s) and 0 other file(s)"
      ],
      "text/plain": [
       "<IPython.core.display.HTML object>"
      ]
     },
     "metadata": {},
     "output_type": "display_data"
    },
    {
     "data": {
      "text/html": [
       "Find logs at: <code>./wandb/run-20250204_172138-nn9xae2f/logs</code>"
      ],
      "text/plain": [
       "<IPython.core.display.HTML object>"
      ]
     },
     "metadata": {},
     "output_type": "display_data"
    }
   ],
   "source": [
    "print(\"\\nTraining Standard ResNet-18 from Scratch...\")\n",
    "model1 = get_standard_resnet(num_classes)\n",
    "std_results = train_model(\n",
    "    model1, \n",
    "    train_loader, \n",
    "    test_loader, \n",
    "    num_epochs=10,\n",
    "    experiment_name=\"Standard_ResNet18\"\n",
    ")"
   ]
  },
  {
   "cell_type": "code",
   "execution_count": 10,
   "metadata": {},
   "outputs": [
    {
     "name": "stdout",
     "output_type": "stream",
     "text": [
      "\n",
      "Fine-Tuning Pretrained ResNet-18...\n"
     ]
    },
    {
     "data": {
      "text/html": [
       "Tracking run with wandb version 0.19.5"
      ],
      "text/plain": [
       "<IPython.core.display.HTML object>"
      ]
     },
     "metadata": {},
     "output_type": "display_data"
    },
    {
     "data": {
      "text/html": [
       "Run data is saved locally in <code>/home2/poorvi.c/Documents/CV/assignment-2-Poorvi-HC/q1/wandb/run-20250204_172556-i6rjxht7</code>"
      ],
      "text/plain": [
       "<IPython.core.display.HTML object>"
      ]
     },
     "metadata": {},
     "output_type": "display_data"
    },
    {
     "data": {
      "text/html": [
       "Syncing run <strong><a href='https://wandb.ai/poorvi-c-iiit-hyderabad/resnet18-comparison/runs/i6rjxht7' target=\"_blank\">Pretrained_ResNet18</a></strong> to <a href='https://wandb.ai/poorvi-c-iiit-hyderabad/resnet18-comparison' target=\"_blank\">Weights & Biases</a> (<a href='https://wandb.me/developer-guide' target=\"_blank\">docs</a>)<br>"
      ],
      "text/plain": [
       "<IPython.core.display.HTML object>"
      ]
     },
     "metadata": {},
     "output_type": "display_data"
    },
    {
     "data": {
      "text/html": [
       " View project at <a href='https://wandb.ai/poorvi-c-iiit-hyderabad/resnet18-comparison' target=\"_blank\">https://wandb.ai/poorvi-c-iiit-hyderabad/resnet18-comparison</a>"
      ],
      "text/plain": [
       "<IPython.core.display.HTML object>"
      ]
     },
     "metadata": {},
     "output_type": "display_data"
    },
    {
     "data": {
      "text/html": [
       " View run at <a href='https://wandb.ai/poorvi-c-iiit-hyderabad/resnet18-comparison/runs/i6rjxht7' target=\"_blank\">https://wandb.ai/poorvi-c-iiit-hyderabad/resnet18-comparison/runs/i6rjxht7</a>"
      ],
      "text/plain": [
       "<IPython.core.display.HTML object>"
      ]
     },
     "metadata": {},
     "output_type": "display_data"
    },
    {
     "name": "stdout",
     "output_type": "stream",
     "text": [
      "Test Accuracy: 67.24%\n",
      "F1 Score: 0.6732\n",
      "Epoch 1; Loss=1541.1256; Train Acc=66.87%, F1=0.6678\n",
      "Test Accuracy: 76.45%\n",
      "F1 Score: 0.7624\n",
      "Epoch 2; Loss=1061.8984; Train Acc=77.08%, F1=0.7704\n",
      "Test Accuracy: 76.64%\n",
      "F1 Score: 0.7688\n",
      "Epoch 3; Loss=844.6784; Train Acc=81.68%, F1=0.8164\n",
      "Test Accuracy: 80.03%\n",
      "F1 Score: 0.8013\n",
      "Epoch 4; Loss=684.6034; Train Acc=85.14%, F1=0.8512\n",
      "Test Accuracy: 79.17%\n",
      "F1 Score: 0.7877\n",
      "Epoch 5; Loss=543.4623; Train Acc=88.22%, F1=0.8821\n",
      "Test Accuracy: 80.71%\n",
      "F1 Score: 0.8059\n",
      "Epoch 6; Loss=421.0830; Train Acc=90.70%, F1=0.9069\n",
      "Test Accuracy: 80.56%\n",
      "F1 Score: 0.8060\n",
      "Epoch 7; Loss=339.4887; Train Acc=92.76%, F1=0.9276\n",
      "Test Accuracy: 79.59%\n",
      "F1 Score: 0.7960\n",
      "Epoch 8; Loss=271.7261; Train Acc=94.03%, F1=0.9403\n",
      "Test Accuracy: 78.88%\n",
      "F1 Score: 0.7902\n",
      "Epoch 9; Loss=223.6098; Train Acc=95.06%, F1=0.9506\n",
      "Test Accuracy: 81.18%\n",
      "F1 Score: 0.8109\n",
      "Epoch 10; Loss=221.3776; Train Acc=95.24%, F1=0.9524\n",
      "Test Accuracy: 81.18%\n",
      "F1 Score: 0.8109\n"
     ]
    },
    {
     "data": {
      "text/html": [],
      "text/plain": [
       "<IPython.core.display.HTML object>"
      ]
     },
     "metadata": {},
     "output_type": "display_data"
    },
    {
     "data": {
      "text/html": [
       "<br>    <style><br>        .wandb-row {<br>            display: flex;<br>            flex-direction: row;<br>            flex-wrap: wrap;<br>            justify-content: flex-start;<br>            width: 100%;<br>        }<br>        .wandb-col {<br>            display: flex;<br>            flex-direction: column;<br>            flex-basis: 100%;<br>            flex: 1;<br>            padding: 10px;<br>        }<br>    </style><br><div class=\"wandb-row\"><div class=\"wandb-col\"><h3>Run history:</h3><br/><table class=\"wandb\"><tr><td>batch</td><td>▁▁▁▁▁▂▂▂▂▂▂▃▃▃▃▄▄▄▄▄▄▄▄▅▅▅▅▅▆▆▆▆▇▇▇█████</td></tr><tr><td>batch_loss</td><td>█▆▆▇▆▆▆▇▅▅▅▄▅▅▃▃▄▃▃▂▃▂▃▃▃▂▁▂▃▁▂▂▁▂▂▃▂▁▂▁</td></tr><tr><td>epoch</td><td>▁▂▃▃▄▅▆▆▇█</td></tr><tr><td>test_accuracy</td><td>▁▆▆▇▇██▇▇██</td></tr><tr><td>test_f1</td><td>▁▆▆█▇██▇▇█</td></tr><tr><td>test_f1_score</td><td>▁</td></tr><tr><td>train_accuracy</td><td>▁▄▅▆▆▇▇███</td></tr><tr><td>train_f1</td><td>▁▄▅▆▆▇▇███</td></tr><tr><td>train_loss</td><td>█▅▄▃▃▂▂▁▁▁</td></tr></table><br/></div><div class=\"wandb-col\"><h3>Run summary:</h3><br/><table class=\"wandb\"><tr><td>batch</td><td>15627</td></tr><tr><td>batch_loss</td><td>0.3302</td></tr><tr><td>epoch</td><td>9</td></tr><tr><td>test_accuracy</td><td>81.18</td></tr><tr><td>test_f1</td><td>0.81089</td></tr><tr><td>test_f1_score</td><td>0.81089</td></tr><tr><td>train_accuracy</td><td>95.244</td></tr><tr><td>train_f1</td><td>0.95244</td></tr><tr><td>train_loss</td><td>221.37763</td></tr></table><br/></div></div>"
      ],
      "text/plain": [
       "<IPython.core.display.HTML object>"
      ]
     },
     "metadata": {},
     "output_type": "display_data"
    },
    {
     "data": {
      "text/html": [
       " View run <strong style=\"color:#cdcd00\">Pretrained_ResNet18</strong> at: <a href='https://wandb.ai/poorvi-c-iiit-hyderabad/resnet18-comparison/runs/i6rjxht7' target=\"_blank\">https://wandb.ai/poorvi-c-iiit-hyderabad/resnet18-comparison/runs/i6rjxht7</a><br> View project at: <a href='https://wandb.ai/poorvi-c-iiit-hyderabad/resnet18-comparison' target=\"_blank\">https://wandb.ai/poorvi-c-iiit-hyderabad/resnet18-comparison</a><br>Synced 5 W&B file(s), 11 media file(s), 0 artifact file(s) and 0 other file(s)"
      ],
      "text/plain": [
       "<IPython.core.display.HTML object>"
      ]
     },
     "metadata": {},
     "output_type": "display_data"
    },
    {
     "data": {
      "text/html": [
       "Find logs at: <code>./wandb/run-20250204_172556-i6rjxht7/logs</code>"
      ],
      "text/plain": [
       "<IPython.core.display.HTML object>"
      ]
     },
     "metadata": {},
     "output_type": "display_data"
    }
   ],
   "source": [
    "print(\"\\nFine-Tuning Pretrained ResNet-18...\")\n",
    "model2 = get_pretrained_resnet(num_classes)\n",
    "fine_results = train_model(\n",
    "    model2, \n",
    "    train_loader, \n",
    "    test_loader, \n",
    "    num_epochs=10,\n",
    "    experiment_name=\"Pretrained_ResNet18\"\n",
    ")"
   ]
  },
  {
   "cell_type": "code",
   "execution_count": 46,
   "metadata": {},
   "outputs": [
    {
     "name": "stdout",
     "output_type": "stream",
     "text": [
      "+----+--------------------------------+-----------------------------------+---------------------+\n",
      "|    | Layer / Block                  | Operation                         | Output Size (HxW)   |\n",
      "|----+--------------------------------+-----------------------------------+---------------------|\n",
      "|  0 | Input                          | -                                 | 36 × 36             |\n",
      "|  1 | Conv1 (7×7, stride=2)          | Conv2D (7×7, stride=2, padding=3) | 18 × 18             |\n",
      "|  2 | MaxPool (3×3, stride=2)        | 3×3 Max Pooling (stride=2)        | 9 × 9               |\n",
      "|  3 | Layer1 (ResBlock x2)           | 3×3 Conv + Identity Mapping       | 9 × 9               |\n",
      "|  4 | Layer2 (ResBlock x2, stride=2) | 3×3 Conv (stride=2)               | 5 × 5               |\n",
      "|  5 | Layer3 (ResBlock x2, stride=2) | 3×3 Conv (stride=2)               | 3 × 3               |\n",
      "|  6 | Layer4 (ResBlock x2, stride=2) | 3×3 Conv (stride=2)               | 2 × 2               |\n",
      "|  7 | Before Average Pooling         | -                                 | 2 × 2               |\n",
      "|  8 | Global Average Pooling         | Avg Pooling → 1 × 1 feature map   | 1 × 1               |\n",
      "|  9 | Fully Connected Layer (FC)     | FC layer → num_classes output     | num_classes(10)     |\n",
      "+----+--------------------------------+-----------------------------------+---------------------+\n"
     ]
    }
   ],
   "source": [
    "data = {\n",
    "    \"Layer / Block\": [\n",
    "        \"Input\", \"Conv1 (7×7, stride=2)\", \"MaxPool (3×3, stride=2)\",\n",
    "        \"Layer1 (ResBlock x2)\", \"Layer2 (ResBlock x2, stride=2)\",\n",
    "        \"Layer3 (ResBlock x2, stride=2)\", \"Layer4 (ResBlock x2, stride=2)\",\n",
    "        \"Before Average Pooling\", \"Global Average Pooling\",\n",
    "        \"Fully Connected Layer (FC)\"\n",
    "    ],\n",
    "    \"Operation\": [\n",
    "        \"-\", \"Conv2D (7×7, stride=2, padding=3)\", \"3×3 Max Pooling (stride=2)\",\n",
    "        \"3×3 Conv + Identity Mapping\", \"3×3 Conv (stride=2)\",\n",
    "        \"3×3 Conv (stride=2)\", \"3×3 Conv (stride=2)\", \"-\",\n",
    "        \"Avg Pooling → 1 × 1 feature map\", \"FC layer → num_classes output\"\n",
    "    ],\n",
    "    \"Output Size (HxW)\": [\n",
    "        \"36 × 36\", \"18 × 18\", \"9 × 9\",\n",
    "        \"9 × 9\", \"5 × 5\",\n",
    "        \"3 × 3\", \"2 × 2\", \"2 × 2\",\n",
    "        \"1 × 1\", \"num_classes(10)\"\n",
    "    ]\n",
    "}\n",
    "\n",
    "df = pd.DataFrame(data)\n",
    "\n",
    "print(tabulate(df, headers='keys', tablefmt='psql'))\n"
   ]
  },
  {
   "cell_type": "markdown",
   "metadata": {},
   "source": [
    "#### Resized Images"
   ]
  },
  {
   "cell_type": "code",
   "execution_count": 13,
   "metadata": {},
   "outputs": [],
   "source": [
    "def load_resized_dataset():\n",
    "    resize_transform = transforms.Compose([\n",
    "        transforms.Resize((224, 224)),  \n",
    "        transforms.Lambda(lambda x: x / 255.0)\n",
    "    ])\n",
    "    \n",
    "    class CustomImageDataset(Dataset):\n",
    "        def __init__(self, data_path, labels_path, transform=None):\n",
    "            self.data = torch.load(data_path)\n",
    "            self.labels = torch.load(labels_path)\n",
    "            self.transform = transform\n",
    "        \n",
    "        def __len__(self):\n",
    "            return len(self.labels)\n",
    "        \n",
    "        def __getitem__(self, idx):\n",
    "            image = self.data[idx].float()\n",
    "            if self.transform:\n",
    "                image = self.transform(image)\n",
    "            return image, self.labels[idx].long()\n",
    "    \n",
    "    train_dataset = CustomImageDataset(\n",
    "        \"./data/train_data.pt\",\n",
    "        \"./data/train_labels.pt\",\n",
    "        transform=resize_transform\n",
    "    )\n",
    "    \n",
    "    test_dataset = CustomImageDataset(\n",
    "        \"./data/test_data.pt\",\n",
    "        \"./data/test_labels.pt\",\n",
    "        transform=resize_transform\n",
    "    )\n",
    "    \n",
    "    return train_dataset, test_dataset"
   ]
  },
  {
   "cell_type": "code",
   "execution_count": 14,
   "metadata": {},
   "outputs": [],
   "source": [
    "train_resized_dataset, test_resized_dataset = load_resized_dataset()\n",
    "num_classes = len(torch.unique(train_resized_dataset.labels))\n",
    "\n",
    "train_loader = DataLoader(train_resized_dataset, batch_size=32, shuffle=True)\n",
    "test_loader = DataLoader(test_resized_dataset, batch_size=32, shuffle=False)"
   ]
  },
  {
   "cell_type": "code",
   "execution_count": 15,
   "metadata": {},
   "outputs": [
    {
     "name": "stdout",
     "output_type": "stream",
     "text": [
      "\n",
      "Training Standard ResNet-18 from Scratch on resized images...\n"
     ]
    },
    {
     "data": {
      "text/html": [
       "Tracking run with wandb version 0.19.5"
      ],
      "text/plain": [
       "<IPython.core.display.HTML object>"
      ]
     },
     "metadata": {},
     "output_type": "display_data"
    },
    {
     "data": {
      "text/html": [
       "Run data is saved locally in <code>/home2/poorvi.c/Documents/CV/assignment-2-Poorvi-HC/q1/wandb/run-20250204_173150-e3oixufi</code>"
      ],
      "text/plain": [
       "<IPython.core.display.HTML object>"
      ]
     },
     "metadata": {},
     "output_type": "display_data"
    },
    {
     "data": {
      "text/html": [
       "Syncing run <strong><a href='https://wandb.ai/poorvi-c-iiit-hyderabad/resnet18-comparison/runs/e3oixufi' target=\"_blank\">Standard_ResNet18_Resized</a></strong> to <a href='https://wandb.ai/poorvi-c-iiit-hyderabad/resnet18-comparison' target=\"_blank\">Weights & Biases</a> (<a href='https://wandb.me/developer-guide' target=\"_blank\">docs</a>)<br>"
      ],
      "text/plain": [
       "<IPython.core.display.HTML object>"
      ]
     },
     "metadata": {},
     "output_type": "display_data"
    },
    {
     "data": {
      "text/html": [
       " View project at <a href='https://wandb.ai/poorvi-c-iiit-hyderabad/resnet18-comparison' target=\"_blank\">https://wandb.ai/poorvi-c-iiit-hyderabad/resnet18-comparison</a>"
      ],
      "text/plain": [
       "<IPython.core.display.HTML object>"
      ]
     },
     "metadata": {},
     "output_type": "display_data"
    },
    {
     "data": {
      "text/html": [
       " View run at <a href='https://wandb.ai/poorvi-c-iiit-hyderabad/resnet18-comparison/runs/e3oixufi' target=\"_blank\">https://wandb.ai/poorvi-c-iiit-hyderabad/resnet18-comparison/runs/e3oixufi</a>"
      ],
      "text/plain": [
       "<IPython.core.display.HTML object>"
      ]
     },
     "metadata": {},
     "output_type": "display_data"
    },
    {
     "name": "stdout",
     "output_type": "stream",
     "text": [
      "Test Accuracy: 64.29%\n",
      "F1 Score: 0.6438\n",
      "Epoch 1; Loss=2148.7248; Train Acc=50.17%, F1=0.4987\n",
      "Test Accuracy: 74.31%\n",
      "F1 Score: 0.7432\n",
      "Epoch 2; Loss=1306.1625; Train Acc=70.88%, F1=0.7081\n",
      "Test Accuracy: 75.64%\n",
      "F1 Score: 0.7603\n",
      "Epoch 3; Loss=1006.3156; Train Acc=77.76%, F1=0.7772\n",
      "Test Accuracy: 80.79%\n",
      "F1 Score: 0.8103\n",
      "Epoch 4; Loss=803.0939; Train Acc=82.12%, F1=0.8209\n",
      "Test Accuracy: 81.95%\n",
      "F1 Score: 0.8210\n",
      "Epoch 5; Loss=638.4421; Train Acc=85.75%, F1=0.8573\n",
      "Test Accuracy: 81.21%\n",
      "F1 Score: 0.8108\n",
      "Epoch 6; Loss=493.7011; Train Acc=89.03%, F1=0.8901\n",
      "Test Accuracy: 82.31%\n",
      "F1 Score: 0.8252\n",
      "Epoch 7; Loss=355.6636; Train Acc=92.04%, F1=0.9203\n",
      "Test Accuracy: 82.82%\n",
      "F1 Score: 0.8269\n",
      "Epoch 8; Loss=263.4163; Train Acc=93.94%, F1=0.9394\n",
      "Test Accuracy: 81.56%\n",
      "F1 Score: 0.8179\n",
      "Epoch 9; Loss=183.4760; Train Acc=95.85%, F1=0.9585\n",
      "Test Accuracy: 83.42%\n",
      "F1 Score: 0.8346\n",
      "Epoch 10; Loss=151.8948; Train Acc=96.59%, F1=0.9659\n",
      "Test Accuracy: 83.42%\n",
      "F1 Score: 0.8346\n"
     ]
    },
    {
     "data": {
      "text/html": [],
      "text/plain": [
       "<IPython.core.display.HTML object>"
      ]
     },
     "metadata": {},
     "output_type": "display_data"
    },
    {
     "data": {
      "text/html": [
       "<br>    <style><br>        .wandb-row {<br>            display: flex;<br>            flex-direction: row;<br>            flex-wrap: wrap;<br>            justify-content: flex-start;<br>            width: 100%;<br>        }<br>        .wandb-col {<br>            display: flex;<br>            flex-direction: column;<br>            flex-basis: 100%;<br>            flex: 1;<br>            padding: 10px;<br>        }<br>    </style><br><div class=\"wandb-row\"><div class=\"wandb-col\"><h3>Run history:</h3><br/><table class=\"wandb\"><tr><td>batch</td><td>▁▁▁▁▂▂▂▂▂▂▃▃▄▄▄▄▄▅▅▅▅▅▅▆▆▆▆▆▇▇▇▇▇▇▇█████</td></tr><tr><td>batch_loss</td><td>█▆▇▇▄▅▃▄▄▄▂▃▂▄▂▂▃▃▃▃▂▁▂▂▃▂▁▁▁▁▁▂▁▁▁▁▁▁▁▁</td></tr><tr><td>epoch</td><td>▁▂▃▃▄▅▆▆▇█</td></tr><tr><td>test_accuracy</td><td>▁▅▅▇▇▇██▇██</td></tr><tr><td>test_f1</td><td>▁▅▅▇█▇██▇█</td></tr><tr><td>test_f1_score</td><td>▁</td></tr><tr><td>train_accuracy</td><td>▁▄▅▆▆▇▇███</td></tr><tr><td>train_f1</td><td>▁▄▅▆▆▇▇███</td></tr><tr><td>train_loss</td><td>█▅▄▃▃▂▂▁▁▁</td></tr></table><br/></div><div class=\"wandb-col\"><h3>Run summary:</h3><br/><table class=\"wandb\"><tr><td>batch</td><td>15627</td></tr><tr><td>batch_loss</td><td>0.07048</td></tr><tr><td>epoch</td><td>9</td></tr><tr><td>test_accuracy</td><td>83.42</td></tr><tr><td>test_f1</td><td>0.83456</td></tr><tr><td>test_f1_score</td><td>0.83456</td></tr><tr><td>train_accuracy</td><td>96.59</td></tr><tr><td>train_f1</td><td>0.96589</td></tr><tr><td>train_loss</td><td>151.89481</td></tr></table><br/></div></div>"
      ],
      "text/plain": [
       "<IPython.core.display.HTML object>"
      ]
     },
     "metadata": {},
     "output_type": "display_data"
    },
    {
     "data": {
      "text/html": [
       " View run <strong style=\"color:#cdcd00\">Standard_ResNet18_Resized</strong> at: <a href='https://wandb.ai/poorvi-c-iiit-hyderabad/resnet18-comparison/runs/e3oixufi' target=\"_blank\">https://wandb.ai/poorvi-c-iiit-hyderabad/resnet18-comparison/runs/e3oixufi</a><br> View project at: <a href='https://wandb.ai/poorvi-c-iiit-hyderabad/resnet18-comparison' target=\"_blank\">https://wandb.ai/poorvi-c-iiit-hyderabad/resnet18-comparison</a><br>Synced 5 W&B file(s), 11 media file(s), 0 artifact file(s) and 0 other file(s)"
      ],
      "text/plain": [
       "<IPython.core.display.HTML object>"
      ]
     },
     "metadata": {},
     "output_type": "display_data"
    },
    {
     "data": {
      "text/html": [
       "Find logs at: <code>./wandb/run-20250204_173150-e3oixufi/logs</code>"
      ],
      "text/plain": [
       "<IPython.core.display.HTML object>"
      ]
     },
     "metadata": {},
     "output_type": "display_data"
    }
   ],
   "source": [
    "print(\"\\nTraining Standard ResNet-18 from Scratch on resized images...\")\n",
    "model3 = get_standard_resnet(num_classes)\n",
    "std_results_resized = train_model(\n",
    "    model3, \n",
    "    train_loader, \n",
    "    test_loader, \n",
    "    num_epochs=10,\n",
    "    experiment_name=\"Standard_ResNet18_Resized\"\n",
    ")\n",
    "    "
   ]
  },
  {
   "cell_type": "code",
   "execution_count": 16,
   "metadata": {},
   "outputs": [
    {
     "name": "stdout",
     "output_type": "stream",
     "text": [
      "\n",
      "Fine-Tuning Pretrained ResNet-18...\n"
     ]
    },
    {
     "data": {
      "text/html": [
       "Tracking run with wandb version 0.19.5"
      ],
      "text/plain": [
       "<IPython.core.display.HTML object>"
      ]
     },
     "metadata": {},
     "output_type": "display_data"
    },
    {
     "data": {
      "text/html": [
       "Run data is saved locally in <code>/home2/poorvi.c/Documents/CV/assignment-2-Poorvi-HC/q1/wandb/run-20250204_174939-kpefmx3e</code>"
      ],
      "text/plain": [
       "<IPython.core.display.HTML object>"
      ]
     },
     "metadata": {},
     "output_type": "display_data"
    },
    {
     "data": {
      "text/html": [
       "Syncing run <strong><a href='https://wandb.ai/poorvi-c-iiit-hyderabad/resnet18-comparison/runs/kpefmx3e' target=\"_blank\">Pretrained_ResNet18_Resized</a></strong> to <a href='https://wandb.ai/poorvi-c-iiit-hyderabad/resnet18-comparison' target=\"_blank\">Weights & Biases</a> (<a href='https://wandb.me/developer-guide' target=\"_blank\">docs</a>)<br>"
      ],
      "text/plain": [
       "<IPython.core.display.HTML object>"
      ]
     },
     "metadata": {},
     "output_type": "display_data"
    },
    {
     "data": {
      "text/html": [
       " View project at <a href='https://wandb.ai/poorvi-c-iiit-hyderabad/resnet18-comparison' target=\"_blank\">https://wandb.ai/poorvi-c-iiit-hyderabad/resnet18-comparison</a>"
      ],
      "text/plain": [
       "<IPython.core.display.HTML object>"
      ]
     },
     "metadata": {},
     "output_type": "display_data"
    },
    {
     "data": {
      "text/html": [
       " View run at <a href='https://wandb.ai/poorvi-c-iiit-hyderabad/resnet18-comparison/runs/kpefmx3e' target=\"_blank\">https://wandb.ai/poorvi-c-iiit-hyderabad/resnet18-comparison/runs/kpefmx3e</a>"
      ],
      "text/plain": [
       "<IPython.core.display.HTML object>"
      ]
     },
     "metadata": {},
     "output_type": "display_data"
    },
    {
     "name": "stdout",
     "output_type": "stream",
     "text": [
      "Test Accuracy: 83.50%\n",
      "F1 Score: 0.8344\n",
      "Epoch 1; Loss=1106.0997; Train Acc=75.88%, F1=0.7585\n",
      "Test Accuracy: 84.06%\n",
      "F1 Score: 0.8408\n",
      "Epoch 2; Loss=660.0258; Train Acc=85.50%, F1=0.8549\n",
      "Test Accuracy: 87.71%\n",
      "F1 Score: 0.8767\n",
      "Epoch 3; Loss=478.2064; Train Acc=89.57%, F1=0.8956\n",
      "Test Accuracy: 88.07%\n",
      "F1 Score: 0.8800\n",
      "Epoch 4; Loss=362.1395; Train Acc=92.01%, F1=0.9201\n",
      "Test Accuracy: 88.62%\n",
      "F1 Score: 0.8870\n",
      "Epoch 5; Loss=260.9106; Train Acc=94.13%, F1=0.9413\n",
      "Test Accuracy: 89.36%\n",
      "F1 Score: 0.8937\n",
      "Epoch 6; Loss=203.1388; Train Acc=95.58%, F1=0.9558\n",
      "Test Accuracy: 89.36%\n",
      "F1 Score: 0.8938\n",
      "Epoch 7; Loss=155.1594; Train Acc=96.60%, F1=0.9660\n",
      "Test Accuracy: 88.62%\n",
      "F1 Score: 0.8859\n",
      "Epoch 8; Loss=132.8596; Train Acc=97.02%, F1=0.9702\n",
      "Test Accuracy: 88.63%\n",
      "F1 Score: 0.8874\n",
      "Epoch 9; Loss=114.4891; Train Acc=97.47%, F1=0.9747\n",
      "Test Accuracy: 89.65%\n",
      "F1 Score: 0.8966\n",
      "Epoch 10; Loss=97.6690; Train Acc=97.87%, F1=0.9787\n",
      "Test Accuracy: 89.65%\n",
      "F1 Score: 0.8966\n"
     ]
    },
    {
     "data": {
      "text/html": [],
      "text/plain": [
       "<IPython.core.display.HTML object>"
      ]
     },
     "metadata": {},
     "output_type": "display_data"
    },
    {
     "data": {
      "text/html": [
       "<br>    <style><br>        .wandb-row {<br>            display: flex;<br>            flex-direction: row;<br>            flex-wrap: wrap;<br>            justify-content: flex-start;<br>            width: 100%;<br>        }<br>        .wandb-col {<br>            display: flex;<br>            flex-direction: column;<br>            flex-basis: 100%;<br>            flex: 1;<br>            padding: 10px;<br>        }<br>    </style><br><div class=\"wandb-row\"><div class=\"wandb-col\"><h3>Run history:</h3><br/><table class=\"wandb\"><tr><td>batch</td><td>▁▁▁▂▂▂▂▂▂▂▃▃▃▃▃▄▄▄▄▄▄▄▄▅▅▆▆▆▆▆▇▇▇▇▇█████</td></tr><tr><td>batch_loss</td><td>█▆▇▅▄▂▂▂▂▂▂▁▁▂▁▂▁▂▁▁▁▂▂▁▂▂▁▁▂▁▂▁▁▂▁▁▁▁▁▁</td></tr><tr><td>epoch</td><td>▁▂▃▃▄▅▆▆▇█</td></tr><tr><td>test_accuracy</td><td>▁▂▆▆▇██▇▇██</td></tr><tr><td>test_f1</td><td>▁▂▆▆▇██▇▇█</td></tr><tr><td>test_f1_score</td><td>▁</td></tr><tr><td>train_accuracy</td><td>▁▄▅▆▇▇████</td></tr><tr><td>train_f1</td><td>▁▄▅▆▇▇████</td></tr><tr><td>train_loss</td><td>█▅▄▃▂▂▁▁▁▁</td></tr></table><br/></div><div class=\"wandb-col\"><h3>Run summary:</h3><br/><table class=\"wandb\"><tr><td>batch</td><td>15627</td></tr><tr><td>batch_loss</td><td>0.003</td></tr><tr><td>epoch</td><td>9</td></tr><tr><td>test_accuracy</td><td>89.65</td></tr><tr><td>test_f1</td><td>0.89658</td></tr><tr><td>test_f1_score</td><td>0.89658</td></tr><tr><td>train_accuracy</td><td>97.874</td></tr><tr><td>train_f1</td><td>0.97874</td></tr><tr><td>train_loss</td><td>97.66898</td></tr></table><br/></div></div>"
      ],
      "text/plain": [
       "<IPython.core.display.HTML object>"
      ]
     },
     "metadata": {},
     "output_type": "display_data"
    },
    {
     "data": {
      "text/html": [
       " View run <strong style=\"color:#cdcd00\">Pretrained_ResNet18_Resized</strong> at: <a href='https://wandb.ai/poorvi-c-iiit-hyderabad/resnet18-comparison/runs/kpefmx3e' target=\"_blank\">https://wandb.ai/poorvi-c-iiit-hyderabad/resnet18-comparison/runs/kpefmx3e</a><br> View project at: <a href='https://wandb.ai/poorvi-c-iiit-hyderabad/resnet18-comparison' target=\"_blank\">https://wandb.ai/poorvi-c-iiit-hyderabad/resnet18-comparison</a><br>Synced 5 W&B file(s), 11 media file(s), 0 artifact file(s) and 0 other file(s)"
      ],
      "text/plain": [
       "<IPython.core.display.HTML object>"
      ]
     },
     "metadata": {},
     "output_type": "display_data"
    },
    {
     "data": {
      "text/html": [
       "Find logs at: <code>./wandb/run-20250204_174939-kpefmx3e/logs</code>"
      ],
      "text/plain": [
       "<IPython.core.display.HTML object>"
      ]
     },
     "metadata": {},
     "output_type": "display_data"
    }
   ],
   "source": [
    "print(\"\\nFine-Tuning Pretrained ResNet-18...\")\n",
    "model4 = get_pretrained_resnet(num_classes)\n",
    "fine_results_resized = train_model(\n",
    "    model4, \n",
    "    train_loader, \n",
    "    test_loader, \n",
    "    num_epochs=10,\n",
    "    experiment_name=\"Pretrained_ResNet18_Resized\"\n",
    ")"
   ]
  },
  {
   "cell_type": "markdown",
   "metadata": {},
   "source": [
    "1. Training Accuracy:\n",
    "\n",
    "    The models are achieving high training accuracy, with Pretrained_ResNet18_Resized leading.\n",
    "    The accuracy increases steadily, showing that the models are learning well.\n",
    "\n",
    "2. Test Accuracy:\n",
    "\n",
    "    Pretrained_ResNet18_Resized has the highest test accuracy, but the gap between training and test accuracy suggests a potential overfitting issue.\n",
    "    Other models (Standard_ResNet18 and Pretrained_ResNet18) show more stable test accuracy, indicating better generalization.\n",
    "\n",
    "3. Training Loss:\n",
    "\n",
    "    The loss decreases as expected, but the Pretrained_ResNet18_Resized has the lowest training loss, which again suggests it might be overfitting to the training data.\n"
   ]
  },
  {
   "cell_type": "markdown",
   "metadata": {},
   "source": [
    "Better accuracy may come at a cost. What changed/degraded from the previous setup?\n",
    "\n",
    "- The Pretrained_ResNet18_Resized model has improved training accuracy but does not show a proportional improvement in test accuracy. This suggests it is fitting the training data too well while generalizing poorly.\n",
    "\n",
    "- The test accuracy curves show that Pretrained_ResNet18_Resized fluctuates more, indicating that the model may not be robust across different test samples.\n",
    "\n",
    "- The resizing step might have introduced biases, benefiting training but not helping generalization.\n",
    "\n",
    "- Other models might not reach the same peak training accuracy but generalize better, meaning a model with slightly lower training accuracy could still perform better on unseen data."
   ]
  },
  {
   "cell_type": "markdown",
   "metadata": {},
   "source": [
    "### Modify initial layers of Resnet18"
   ]
  },
  {
   "cell_type": "code",
   "execution_count": 5,
   "metadata": {},
   "outputs": [],
   "source": [
    "def get_modified_resnet_v1(num_classes):\n",
    "    # Smaller stride in first layer\n",
    "    model = models.resnet18(weights=None)\n",
    "    model.conv1 = nn.Conv2d(3, 64, kernel_size=7,stride=1, padding=3, bias=False)\n",
    "    model.fc = nn.Linear(model.fc.in_features, num_classes)\n",
    "    return model\n",
    "\n",
    "def get_modified_resnet_v2(num_classes):\n",
    "    # Smaller kernel size in first layer\n",
    "    model = models.resnet18(weights=None)\n",
    "    model.conv1 = nn.Conv2d(3, 64, kernel_size=3,stride=2, padding=1, bias=False)\n",
    "    model.fc = nn.Linear(model.fc.in_features, num_classes)\n",
    "    return model\n",
    "\n",
    "def get_modified_resnet_v3(num_classes):\n",
    "    # Remove maxpool layer\n",
    "    model = models.resnet18(weights=None)\n",
    "    model.maxpool = nn.Identity()\n",
    "    model.fc = nn.Linear(model.fc.in_features, num_classes)\n",
    "    return model"
   ]
  },
  {
   "cell_type": "code",
   "execution_count": 6,
   "metadata": {},
   "outputs": [],
   "source": [
    "def get_modified_pretrained_v1(num_classes):\n",
    "    # Smaller stride in first layer\n",
    "    model = models.resnet18(weights=\"IMAGENET1K_V1\")\n",
    "    model.conv1 = nn.Conv2d(3, 64, kernel_size=7,stride=1, padding=3, bias=False)\n",
    "    model.fc = nn.Linear(model.fc.in_features, num_classes)\n",
    "    return model\n",
    "\n",
    "def get_modified_pretrained_v2(num_classes):\n",
    "    # Smaller kernel size in first layer and no max pool\n",
    "    model = models.resnet18(weights=\"IMAGENET1K_V1\")\n",
    "    model.conv1 = nn.Conv2d(3, 64, kernel_size=3,stride=2, padding=1, bias=False)\n",
    "    model.maxpool = nn.Identity()\n",
    "    model.fc = nn.Linear(model.fc.in_features, num_classes)\n",
    "    return model\n",
    "\n",
    "def get_modified_pretrained_v3(num_classes):\n",
    "    # Custom first layers with pretrained weights\n",
    "    model = models.resnet18(weights=\"IMAGENET1K_V1\")\n",
    "    # Replace first conv with two smaller conv layers\n",
    "    model.conv1 = nn.Sequential(\n",
    "        nn.Conv2d(3, 32, kernel_size=3, stride=1, padding=1, bias=False),\n",
    "        nn.BatchNorm2d(32),\n",
    "        nn.ReLU(inplace=True),\n",
    "        nn.Conv2d(32, 64, kernel_size=3, stride=1, padding=1, bias=False)\n",
    "    )\n",
    "    model.fc = nn.Linear(model.fc.in_features, num_classes)\n",
    "    return model"
   ]
  },
  {
   "cell_type": "code",
   "execution_count": 7,
   "metadata": {},
   "outputs": [],
   "source": [
    "model_configs = [\n",
    "        (\"ResNet18_Modified_Stride\", get_modified_resnet_v1, False),\n",
    "        (\"ResNet18_Modified_Kernel\", get_modified_resnet_v2, False),\n",
    "        (\"ResNet18_No_Maxpool\", get_modified_resnet_v3, False),        \n",
    "        (\"Pretrained_Modified_Stride\", get_modified_pretrained_v1, True),\n",
    "        (\"Pretrained_Modified_Kernel\", get_modified_pretrained_v2, True),\n",
    "        (\"Pretrained_Custom_First\", get_modified_pretrained_v3, True)\n",
    "    ]"
   ]
  },
  {
   "cell_type": "code",
   "execution_count": 8,
   "metadata": {},
   "outputs": [],
   "source": [
    "def train_modifications_model(model_fn, train_loader, test_loader, num_classes=10, num_epochs=10, lr=0.001, model_name=\"default\", is_pretrained=False):\n",
    "    model = model_fn(num_classes)\n",
    "    \n",
    "    run = wandb.init(\n",
    "        project=\"resnet18-modifications\",\n",
    "        name=model_name,\n",
    "        config={\n",
    "            \"model_type\": model_name,\n",
    "            \"learning_rate\": lr,\n",
    "            \"batch_size\": train_loader.batch_size,\n",
    "            \"epochs\": num_epochs,\n",
    "            \"optimizer\": \"Adam\",\n",
    "            \"architecture\": \"ResNet18\"\n",
    "        }\n",
    "    )\n",
    "    \n",
    "    device = torch.device(\"cuda\" if torch.cuda.is_available() else \"cpu\")\n",
    "    model.to(device)\n",
    "    \n",
    "    criterion = nn.CrossEntropyLoss()\n",
    "    optimizer = optim.Adam(model.parameters(), lr=lr)\n",
    "\n",
    "    run.watch(model, log=\"all\")\n",
    "\n",
    "    for epoch in range(num_epochs):\n",
    "        model.train()\n",
    "        total_loss = 0\n",
    "        epoch_preds = []\n",
    "        epoch_labels = []\n",
    "        \n",
    "        for batch_idx, (images, labels) in enumerate(train_loader):\n",
    "            images, labels = images.to(device), labels.to(device)\n",
    "            \n",
    "            optimizer.zero_grad()\n",
    "            outputs = model(images)\n",
    "            loss = criterion(outputs, labels)\n",
    "            loss.backward()\n",
    "            optimizer.step()\n",
    "\n",
    "            total_loss += loss.item()\n",
    "            _, predicted = outputs.max(1)\n",
    "            \n",
    "            epoch_preds.extend(predicted.cpu().numpy())\n",
    "            epoch_labels.extend(labels.cpu().numpy())\n",
    "\n",
    "            if batch_idx % 10 == 0:\n",
    "                run.log({\n",
    "                    \"batch_loss\": loss.item(),\n",
    "                    \"batch\": batch_idx + epoch * len(train_loader)\n",
    "                })\n",
    "\n",
    "        train_accuracy = 100 * np.mean(np.array(epoch_preds) == np.array(epoch_labels))\n",
    "        train_f1 = f1_score(epoch_labels, epoch_preds, average='weighted')\n",
    "        \n",
    "        test_accuracy, test_f1 = evaluate_model(model, test_loader, None)  # Don't log test metrics here\n",
    "\n",
    "        plt.figure(figsize=(10, 8))\n",
    "        train_cm = confusion_matrix(epoch_labels, epoch_preds)\n",
    "        sns.heatmap(train_cm, annot=True, fmt='d', cmap='Blues')\n",
    "        plt.title(f'Training Confusion Matrix - Epoch {epoch+1}')\n",
    "        plt.ylabel('True Label')\n",
    "        plt.xlabel('Predicted Label')\n",
    "\n",
    "        run.log({\n",
    "            \"epoch\": epoch,\n",
    "            \"train_loss\": total_loss,\n",
    "            \"train_accuracy\": train_accuracy,\n",
    "            \"test_accuracy\": test_accuracy,\n",
    "            \"train_f1\": train_f1,\n",
    "            \"test_f1\": test_f1,\n",
    "            \"train_confusion_matrix\": wandb.Image(plt),\n",
    "        })\n",
    "        plt.close()\n",
    "\n",
    "        print(f\"Epoch {epoch+1}; Loss={total_loss:.4f}; Train Acc={train_accuracy:.2f}%, F1={train_f1:.4f}\")\n",
    "\n",
    "    evaluate_model(model, test_loader, run)\n",
    "    \n",
    "    run.finish()"
   ]
  },
  {
   "cell_type": "code",
   "execution_count": 9,
   "metadata": {},
   "outputs": [],
   "source": [
    "train_dataset, test_dataset = load_dataset()\n",
    "num_classes = len(torch.unique(train_dataset.tensors[1]))\n",
    "\n",
    "train_loader = DataLoader(train_dataset, batch_size=32, shuffle=True)\n",
    "test_loader = DataLoader(test_dataset, batch_size=32, shuffle=False)"
   ]
  },
  {
   "cell_type": "code",
   "execution_count": 10,
   "metadata": {},
   "outputs": [
    {
     "name": "stdout",
     "output_type": "stream",
     "text": [
      "\n",
      "Training ResNet18_Modified_Stride...\n"
     ]
    },
    {
     "name": "stderr",
     "output_type": "stream",
     "text": [
      "\u001b[34m\u001b[1mwandb\u001b[0m: Currently logged in as: \u001b[33mpoorvi-c\u001b[0m (\u001b[33mpoorvi-c-iiit-hyderabad\u001b[0m) to \u001b[32mhttps://api.wandb.ai\u001b[0m. Use \u001b[1m`wandb login --relogin`\u001b[0m to force relogin\n",
      "\u001b[34m\u001b[1mwandb\u001b[0m: Using wandb-core as the SDK backend.  Please refer to https://wandb.me/wandb-core for more information.\n"
     ]
    },
    {
     "data": {
      "text/html": [
       "Tracking run with wandb version 0.19.5"
      ],
      "text/plain": [
       "<IPython.core.display.HTML object>"
      ]
     },
     "metadata": {},
     "output_type": "display_data"
    },
    {
     "data": {
      "text/html": [
       "Run data is saved locally in <code>/home2/poorvi.c/Documents/CV/assignment-2-Poorvi-HC/q1/wandb/run-20250204_184258-7q315ivt</code>"
      ],
      "text/plain": [
       "<IPython.core.display.HTML object>"
      ]
     },
     "metadata": {},
     "output_type": "display_data"
    },
    {
     "data": {
      "text/html": [
       "Syncing run <strong><a href='https://wandb.ai/poorvi-c-iiit-hyderabad/resnet18-modifications/runs/7q315ivt' target=\"_blank\">ResNet18_Modified_Stride</a></strong> to <a href='https://wandb.ai/poorvi-c-iiit-hyderabad/resnet18-modifications' target=\"_blank\">Weights & Biases</a> (<a href='https://wandb.me/developer-guide' target=\"_blank\">docs</a>)<br>"
      ],
      "text/plain": [
       "<IPython.core.display.HTML object>"
      ]
     },
     "metadata": {},
     "output_type": "display_data"
    },
    {
     "data": {
      "text/html": [
       " View project at <a href='https://wandb.ai/poorvi-c-iiit-hyderabad/resnet18-modifications' target=\"_blank\">https://wandb.ai/poorvi-c-iiit-hyderabad/resnet18-modifications</a>"
      ],
      "text/plain": [
       "<IPython.core.display.HTML object>"
      ]
     },
     "metadata": {},
     "output_type": "display_data"
    },
    {
     "data": {
      "text/html": [
       " View run at <a href='https://wandb.ai/poorvi-c-iiit-hyderabad/resnet18-modifications/runs/7q315ivt' target=\"_blank\">https://wandb.ai/poorvi-c-iiit-hyderabad/resnet18-modifications/runs/7q315ivt</a>"
      ],
      "text/plain": [
       "<IPython.core.display.HTML object>"
      ]
     },
     "metadata": {},
     "output_type": "display_data"
    },
    {
     "name": "stdout",
     "output_type": "stream",
     "text": [
      "Test Accuracy: 61.79%\n",
      "F1 Score: 0.6087\n",
      "Epoch 1; Loss=2105.5178; Train Acc=51.40%, F1=0.5115\n",
      "Test Accuracy: 67.70%\n",
      "F1 Score: 0.6835\n",
      "Epoch 2; Loss=1407.2558; Train Acc=68.53%, F1=0.6847\n",
      "Test Accuracy: 71.69%\n",
      "F1 Score: 0.7084\n",
      "Epoch 3; Loss=1091.2341; Train Acc=75.53%, F1=0.7550\n",
      "Test Accuracy: 76.27%\n",
      "F1 Score: 0.7636\n",
      "Epoch 4; Loss=861.3336; Train Acc=80.81%, F1=0.8078\n",
      "Test Accuracy: 76.05%\n",
      "F1 Score: 0.7604\n",
      "Epoch 5; Loss=668.3356; Train Acc=85.05%, F1=0.8504\n",
      "Test Accuracy: 78.94%\n",
      "F1 Score: 0.7882\n",
      "Epoch 6; Loss=488.4661; Train Acc=88.99%, F1=0.8898\n",
      "Test Accuracy: 79.38%\n",
      "F1 Score: 0.7913\n",
      "Epoch 7; Loss=342.3967; Train Acc=92.22%, F1=0.9222\n",
      "Test Accuracy: 78.21%\n",
      "F1 Score: 0.7847\n",
      "Epoch 8; Loss=249.0162; Train Acc=94.36%, F1=0.9436\n",
      "Test Accuracy: 74.71%\n",
      "F1 Score: 0.7499\n",
      "Epoch 9; Loss=184.0450; Train Acc=95.91%, F1=0.9591\n",
      "Test Accuracy: 77.43%\n",
      "F1 Score: 0.7748\n",
      "Epoch 10; Loss=159.1762; Train Acc=96.33%, F1=0.9633\n",
      "Test Accuracy: 77.43%\n",
      "F1 Score: 0.7748\n"
     ]
    },
    {
     "data": {
      "text/html": [],
      "text/plain": [
       "<IPython.core.display.HTML object>"
      ]
     },
     "metadata": {},
     "output_type": "display_data"
    },
    {
     "data": {
      "text/html": [
       "<br>    <style><br>        .wandb-row {<br>            display: flex;<br>            flex-direction: row;<br>            flex-wrap: wrap;<br>            justify-content: flex-start;<br>            width: 100%;<br>        }<br>        .wandb-col {<br>            display: flex;<br>            flex-direction: column;<br>            flex-basis: 100%;<br>            flex: 1;<br>            padding: 10px;<br>        }<br>    </style><br><div class=\"wandb-row\"><div class=\"wandb-col\"><h3>Run history:</h3><br/><table class=\"wandb\"><tr><td>batch</td><td>▁▁▁▁▂▂▂▂▃▃▃▃▃▄▄▄▄▄▄▅▅▅▅▅▅▆▆▆▆▆▆▇▇▇▇▇████</td></tr><tr><td>batch_loss</td><td>█▆▅▅▄▄▃▄▄▃▄▃▄▃▂▃▂▂▂▃▂▁▂▂▂▁▂▁▁▁▂▁▂▁▂▁▁▁▁▁</td></tr><tr><td>epoch</td><td>▁▂▃▃▄▅▆▆▇█</td></tr><tr><td>test_accuracy</td><td>▁▃▅▇▇███▆▇▇</td></tr><tr><td>test_f1</td><td>▁▄▅▇▇███▆▇</td></tr><tr><td>test_f1_score</td><td>▁</td></tr><tr><td>train_accuracy</td><td>▁▄▅▆▆▇▇███</td></tr><tr><td>train_f1</td><td>▁▄▅▆▆▇▇███</td></tr><tr><td>train_loss</td><td>█▅▄▄▃▂▂▁▁▁</td></tr></table><br/></div><div class=\"wandb-col\"><h3>Run summary:</h3><br/><table class=\"wandb\"><tr><td>batch</td><td>15627</td></tr><tr><td>batch_loss</td><td>0.12028</td></tr><tr><td>epoch</td><td>9</td></tr><tr><td>test_accuracy</td><td>77.43</td></tr><tr><td>test_f1</td><td>0.77482</td></tr><tr><td>test_f1_score</td><td>0.77482</td></tr><tr><td>train_accuracy</td><td>96.334</td></tr><tr><td>train_f1</td><td>0.96335</td></tr><tr><td>train_loss</td><td>159.17621</td></tr></table><br/></div></div>"
      ],
      "text/plain": [
       "<IPython.core.display.HTML object>"
      ]
     },
     "metadata": {},
     "output_type": "display_data"
    },
    {
     "data": {
      "text/html": [
       " View run <strong style=\"color:#cdcd00\">ResNet18_Modified_Stride</strong> at: <a href='https://wandb.ai/poorvi-c-iiit-hyderabad/resnet18-modifications/runs/7q315ivt' target=\"_blank\">https://wandb.ai/poorvi-c-iiit-hyderabad/resnet18-modifications/runs/7q315ivt</a><br> View project at: <a href='https://wandb.ai/poorvi-c-iiit-hyderabad/resnet18-modifications' target=\"_blank\">https://wandb.ai/poorvi-c-iiit-hyderabad/resnet18-modifications</a><br>Synced 5 W&B file(s), 11 media file(s), 0 artifact file(s) and 0 other file(s)"
      ],
      "text/plain": [
       "<IPython.core.display.HTML object>"
      ]
     },
     "metadata": {},
     "output_type": "display_data"
    },
    {
     "data": {
      "text/html": [
       "Find logs at: <code>./wandb/run-20250204_184258-7q315ivt/logs</code>"
      ],
      "text/plain": [
       "<IPython.core.display.HTML object>"
      ]
     },
     "metadata": {},
     "output_type": "display_data"
    },
    {
     "name": "stdout",
     "output_type": "stream",
     "text": [
      "\n",
      "Training ResNet18_Modified_Kernel...\n"
     ]
    },
    {
     "data": {
      "text/html": [
       "Tracking run with wandb version 0.19.5"
      ],
      "text/plain": [
       "<IPython.core.display.HTML object>"
      ]
     },
     "metadata": {},
     "output_type": "display_data"
    },
    {
     "data": {
      "text/html": [
       "Run data is saved locally in <code>/home2/poorvi.c/Documents/CV/assignment-2-Poorvi-HC/q1/wandb/run-20250204_184753-4uuurjog</code>"
      ],
      "text/plain": [
       "<IPython.core.display.HTML object>"
      ]
     },
     "metadata": {},
     "output_type": "display_data"
    },
    {
     "data": {
      "text/html": [
       "Syncing run <strong><a href='https://wandb.ai/poorvi-c-iiit-hyderabad/resnet18-modifications/runs/4uuurjog' target=\"_blank\">ResNet18_Modified_Kernel</a></strong> to <a href='https://wandb.ai/poorvi-c-iiit-hyderabad/resnet18-modifications' target=\"_blank\">Weights & Biases</a> (<a href='https://wandb.me/developer-guide' target=\"_blank\">docs</a>)<br>"
      ],
      "text/plain": [
       "<IPython.core.display.HTML object>"
      ]
     },
     "metadata": {},
     "output_type": "display_data"
    },
    {
     "data": {
      "text/html": [
       " View project at <a href='https://wandb.ai/poorvi-c-iiit-hyderabad/resnet18-modifications' target=\"_blank\">https://wandb.ai/poorvi-c-iiit-hyderabad/resnet18-modifications</a>"
      ],
      "text/plain": [
       "<IPython.core.display.HTML object>"
      ]
     },
     "metadata": {},
     "output_type": "display_data"
    },
    {
     "data": {
      "text/html": [
       " View run at <a href='https://wandb.ai/poorvi-c-iiit-hyderabad/resnet18-modifications/runs/4uuurjog' target=\"_blank\">https://wandb.ai/poorvi-c-iiit-hyderabad/resnet18-modifications/runs/4uuurjog</a>"
      ],
      "text/plain": [
       "<IPython.core.display.HTML object>"
      ]
     },
     "metadata": {},
     "output_type": "display_data"
    },
    {
     "name": "stdout",
     "output_type": "stream",
     "text": [
      "Test Accuracy: 63.12%\n",
      "F1 Score: 0.6361\n",
      "Epoch 1; Loss=2021.6472; Train Acc=53.65%, F1=0.5346\n",
      "Test Accuracy: 69.25%\n",
      "F1 Score: 0.6875\n",
      "Epoch 2; Loss=1419.6505; Train Acc=68.58%, F1=0.6850\n",
      "Test Accuracy: 70.37%\n",
      "F1 Score: 0.7088\n",
      "Epoch 3; Loss=1145.1464; Train Acc=74.46%, F1=0.7441\n",
      "Test Accuracy: 71.16%\n",
      "F1 Score: 0.7132\n",
      "Epoch 4; Loss=930.5949; Train Acc=79.48%, F1=0.7945\n",
      "Test Accuracy: 75.26%\n",
      "F1 Score: 0.7479\n",
      "Epoch 5; Loss=754.1536; Train Acc=83.35%, F1=0.8333\n",
      "Test Accuracy: 75.90%\n",
      "F1 Score: 0.7564\n",
      "Epoch 6; Loss=588.4804; Train Acc=87.01%, F1=0.8700\n",
      "Test Accuracy: 74.77%\n",
      "F1 Score: 0.7481\n",
      "Epoch 7; Loss=445.7455; Train Acc=90.09%, F1=0.9009\n",
      "Test Accuracy: 75.98%\n",
      "F1 Score: 0.7621\n",
      "Epoch 8; Loss=343.8973; Train Acc=92.28%, F1=0.9227\n",
      "Test Accuracy: 76.15%\n",
      "F1 Score: 0.7619\n",
      "Epoch 9; Loss=263.8606; Train Acc=94.18%, F1=0.9418\n",
      "Test Accuracy: 76.03%\n",
      "F1 Score: 0.7610\n",
      "Epoch 10; Loss=219.9937; Train Acc=95.09%, F1=0.9509\n",
      "Test Accuracy: 76.03%\n",
      "F1 Score: 0.7610\n"
     ]
    },
    {
     "data": {
      "text/html": [],
      "text/plain": [
       "<IPython.core.display.HTML object>"
      ]
     },
     "metadata": {},
     "output_type": "display_data"
    },
    {
     "data": {
      "text/html": [
       "<br>    <style><br>        .wandb-row {<br>            display: flex;<br>            flex-direction: row;<br>            flex-wrap: wrap;<br>            justify-content: flex-start;<br>            width: 100%;<br>        }<br>        .wandb-col {<br>            display: flex;<br>            flex-direction: column;<br>            flex-basis: 100%;<br>            flex: 1;<br>            padding: 10px;<br>        }<br>    </style><br><div class=\"wandb-row\"><div class=\"wandb-col\"><h3>Run history:</h3><br/><table class=\"wandb\"><tr><td>batch</td><td>▁▁▁▂▂▂▂▂▃▃▃▃▃▄▄▄▄▅▅▅▅▅▆▆▆▆▆▆▆▆▇▇▇▇▇█████</td></tr><tr><td>batch_loss</td><td>█▇▅▄▅▄▅▄▆▅▄▅▄▄▃▄▄▄▅▃▃▅▃▄▂▂▃▂▂▂▁▁▂▂▁▁▁▃▂▂</td></tr><tr><td>epoch</td><td>▁▂▃▃▄▅▆▆▇█</td></tr><tr><td>test_accuracy</td><td>▁▄▅▅██▇████</td></tr><tr><td>test_f1</td><td>▁▄▅▅▇█▇███</td></tr><tr><td>test_f1_score</td><td>▁</td></tr><tr><td>train_accuracy</td><td>▁▄▅▅▆▇▇███</td></tr><tr><td>train_f1</td><td>▁▄▅▅▆▇▇███</td></tr><tr><td>train_loss</td><td>█▆▅▄▃▂▂▁▁▁</td></tr></table><br/></div><div class=\"wandb-col\"><h3>Run summary:</h3><br/><table class=\"wandb\"><tr><td>batch</td><td>15627</td></tr><tr><td>batch_loss</td><td>0.37964</td></tr><tr><td>epoch</td><td>9</td></tr><tr><td>test_accuracy</td><td>76.03</td></tr><tr><td>test_f1</td><td>0.76101</td></tr><tr><td>test_f1_score</td><td>0.76101</td></tr><tr><td>train_accuracy</td><td>95.092</td></tr><tr><td>train_f1</td><td>0.95092</td></tr><tr><td>train_loss</td><td>219.99366</td></tr></table><br/></div></div>"
      ],
      "text/plain": [
       "<IPython.core.display.HTML object>"
      ]
     },
     "metadata": {},
     "output_type": "display_data"
    },
    {
     "data": {
      "text/html": [
       " View run <strong style=\"color:#cdcd00\">ResNet18_Modified_Kernel</strong> at: <a href='https://wandb.ai/poorvi-c-iiit-hyderabad/resnet18-modifications/runs/4uuurjog' target=\"_blank\">https://wandb.ai/poorvi-c-iiit-hyderabad/resnet18-modifications/runs/4uuurjog</a><br> View project at: <a href='https://wandb.ai/poorvi-c-iiit-hyderabad/resnet18-modifications' target=\"_blank\">https://wandb.ai/poorvi-c-iiit-hyderabad/resnet18-modifications</a><br>Synced 5 W&B file(s), 11 media file(s), 0 artifact file(s) and 0 other file(s)"
      ],
      "text/plain": [
       "<IPython.core.display.HTML object>"
      ]
     },
     "metadata": {},
     "output_type": "display_data"
    },
    {
     "data": {
      "text/html": [
       "Find logs at: <code>./wandb/run-20250204_184753-4uuurjog/logs</code>"
      ],
      "text/plain": [
       "<IPython.core.display.HTML object>"
      ]
     },
     "metadata": {},
     "output_type": "display_data"
    },
    {
     "name": "stdout",
     "output_type": "stream",
     "text": [
      "\n",
      "Training ResNet18_No_Maxpool...\n"
     ]
    },
    {
     "data": {
      "text/html": [
       "Tracking run with wandb version 0.19.5"
      ],
      "text/plain": [
       "<IPython.core.display.HTML object>"
      ]
     },
     "metadata": {},
     "output_type": "display_data"
    },
    {
     "data": {
      "text/html": [
       "Run data is saved locally in <code>/home2/poorvi.c/Documents/CV/assignment-2-Poorvi-HC/q1/wandb/run-20250204_185209-wwf0ot4h</code>"
      ],
      "text/plain": [
       "<IPython.core.display.HTML object>"
      ]
     },
     "metadata": {},
     "output_type": "display_data"
    },
    {
     "data": {
      "text/html": [
       "Syncing run <strong><a href='https://wandb.ai/poorvi-c-iiit-hyderabad/resnet18-modifications/runs/wwf0ot4h' target=\"_blank\">ResNet18_No_Maxpool</a></strong> to <a href='https://wandb.ai/poorvi-c-iiit-hyderabad/resnet18-modifications' target=\"_blank\">Weights & Biases</a> (<a href='https://wandb.me/developer-guide' target=\"_blank\">docs</a>)<br>"
      ],
      "text/plain": [
       "<IPython.core.display.HTML object>"
      ]
     },
     "metadata": {},
     "output_type": "display_data"
    },
    {
     "data": {
      "text/html": [
       " View project at <a href='https://wandb.ai/poorvi-c-iiit-hyderabad/resnet18-modifications' target=\"_blank\">https://wandb.ai/poorvi-c-iiit-hyderabad/resnet18-modifications</a>"
      ],
      "text/plain": [
       "<IPython.core.display.HTML object>"
      ]
     },
     "metadata": {},
     "output_type": "display_data"
    },
    {
     "data": {
      "text/html": [
       " View run at <a href='https://wandb.ai/poorvi-c-iiit-hyderabad/resnet18-modifications/runs/wwf0ot4h' target=\"_blank\">https://wandb.ai/poorvi-c-iiit-hyderabad/resnet18-modifications/runs/wwf0ot4h</a>"
      ],
      "text/plain": [
       "<IPython.core.display.HTML object>"
      ]
     },
     "metadata": {},
     "output_type": "display_data"
    },
    {
     "name": "stdout",
     "output_type": "stream",
     "text": [
      "Test Accuracy: 61.03%\n",
      "F1 Score: 0.6089\n",
      "Epoch 1; Loss=2164.4769; Train Acc=49.87%, F1=0.4956\n",
      "Test Accuracy: 70.87%\n",
      "F1 Score: 0.7064\n",
      "Epoch 2; Loss=1421.8274; Train Acc=67.84%, F1=0.6776\n",
      "Test Accuracy: 71.79%\n",
      "F1 Score: 0.7154\n",
      "Epoch 3; Loss=1089.4894; Train Acc=75.79%, F1=0.7576\n",
      "Test Accuracy: 74.37%\n",
      "F1 Score: 0.7380\n",
      "Epoch 4; Loss=843.2414; Train Acc=81.27%, F1=0.8125\n",
      "Test Accuracy: 78.17%\n",
      "F1 Score: 0.7795\n",
      "Epoch 5; Loss=636.9084; Train Acc=85.81%, F1=0.8580\n",
      "Test Accuracy: 77.87%\n",
      "F1 Score: 0.7808\n",
      "Epoch 6; Loss=453.8191; Train Acc=89.91%, F1=0.8991\n",
      "Test Accuracy: 78.67%\n",
      "F1 Score: 0.7881\n",
      "Epoch 7; Loss=307.3722; Train Acc=93.19%, F1=0.9319\n",
      "Test Accuracy: 79.22%\n",
      "F1 Score: 0.7935\n",
      "Epoch 8; Loss=227.7895; Train Acc=94.87%, F1=0.9487\n",
      "Test Accuracy: 78.86%\n",
      "F1 Score: 0.7891\n",
      "Epoch 9; Loss=173.7152; Train Acc=96.18%, F1=0.9618\n",
      "Test Accuracy: 78.71%\n",
      "F1 Score: 0.7902\n",
      "Epoch 10; Loss=146.7544; Train Acc=96.78%, F1=0.9678\n",
      "Test Accuracy: 78.71%\n",
      "F1 Score: 0.7902\n"
     ]
    },
    {
     "data": {
      "text/html": [],
      "text/plain": [
       "<IPython.core.display.HTML object>"
      ]
     },
     "metadata": {},
     "output_type": "display_data"
    },
    {
     "data": {
      "text/html": [
       "<br>    <style><br>        .wandb-row {<br>            display: flex;<br>            flex-direction: row;<br>            flex-wrap: wrap;<br>            justify-content: flex-start;<br>            width: 100%;<br>        }<br>        .wandb-col {<br>            display: flex;<br>            flex-direction: column;<br>            flex-basis: 100%;<br>            flex: 1;<br>            padding: 10px;<br>        }<br>    </style><br><div class=\"wandb-row\"><div class=\"wandb-col\"><h3>Run history:</h3><br/><table class=\"wandb\"><tr><td>batch</td><td>▁▁▁▁▁▂▂▂▂▂▃▃▃▃▃▄▄▄▄▄▄▅▅▅▅▅▅▅▆▆▆▆▆▇▇▇▇▇██</td></tr><tr><td>batch_loss</td><td>█▆███▅▅▄▄▃▄▄▃▂▃▂▂▂▃▃▂▃▂▂▁▃▁▂▄▃▂▂▁▁▁▁▁▁▂▂</td></tr><tr><td>epoch</td><td>▁▂▃▃▄▅▆▆▇█</td></tr><tr><td>test_accuracy</td><td>▁▅▅▆█▇█████</td></tr><tr><td>test_f1</td><td>▁▅▅▆▇█████</td></tr><tr><td>test_f1_score</td><td>▁</td></tr><tr><td>train_accuracy</td><td>▁▄▅▆▆▇▇███</td></tr><tr><td>train_f1</td><td>▁▄▅▆▆▇▇███</td></tr><tr><td>train_loss</td><td>█▅▄▃▃▂▂▁▁▁</td></tr></table><br/></div><div class=\"wandb-col\"><h3>Run summary:</h3><br/><table class=\"wandb\"><tr><td>batch</td><td>15627</td></tr><tr><td>batch_loss</td><td>0.06549</td></tr><tr><td>epoch</td><td>9</td></tr><tr><td>test_accuracy</td><td>78.71</td></tr><tr><td>test_f1</td><td>0.7902</td></tr><tr><td>test_f1_score</td><td>0.7902</td></tr><tr><td>train_accuracy</td><td>96.78</td></tr><tr><td>train_f1</td><td>0.96779</td></tr><tr><td>train_loss</td><td>146.75442</td></tr></table><br/></div></div>"
      ],
      "text/plain": [
       "<IPython.core.display.HTML object>"
      ]
     },
     "metadata": {},
     "output_type": "display_data"
    },
    {
     "data": {
      "text/html": [
       " View run <strong style=\"color:#cdcd00\">ResNet18_No_Maxpool</strong> at: <a href='https://wandb.ai/poorvi-c-iiit-hyderabad/resnet18-modifications/runs/wwf0ot4h' target=\"_blank\">https://wandb.ai/poorvi-c-iiit-hyderabad/resnet18-modifications/runs/wwf0ot4h</a><br> View project at: <a href='https://wandb.ai/poorvi-c-iiit-hyderabad/resnet18-modifications' target=\"_blank\">https://wandb.ai/poorvi-c-iiit-hyderabad/resnet18-modifications</a><br>Synced 5 W&B file(s), 11 media file(s), 0 artifact file(s) and 0 other file(s)"
      ],
      "text/plain": [
       "<IPython.core.display.HTML object>"
      ]
     },
     "metadata": {},
     "output_type": "display_data"
    },
    {
     "data": {
      "text/html": [
       "Find logs at: <code>./wandb/run-20250204_185209-wwf0ot4h/logs</code>"
      ],
      "text/plain": [
       "<IPython.core.display.HTML object>"
      ]
     },
     "metadata": {},
     "output_type": "display_data"
    },
    {
     "name": "stdout",
     "output_type": "stream",
     "text": [
      "\n",
      "Training Pretrained_Modified_Stride...\n"
     ]
    },
    {
     "data": {
      "text/html": [
       "Tracking run with wandb version 0.19.5"
      ],
      "text/plain": [
       "<IPython.core.display.HTML object>"
      ]
     },
     "metadata": {},
     "output_type": "display_data"
    },
    {
     "data": {
      "text/html": [
       "Run data is saved locally in <code>/home2/poorvi.c/Documents/CV/assignment-2-Poorvi-HC/q1/wandb/run-20250204_185618-rqas36xr</code>"
      ],
      "text/plain": [
       "<IPython.core.display.HTML object>"
      ]
     },
     "metadata": {},
     "output_type": "display_data"
    },
    {
     "data": {
      "text/html": [
       "Syncing run <strong><a href='https://wandb.ai/poorvi-c-iiit-hyderabad/resnet18-modifications/runs/rqas36xr' target=\"_blank\">Pretrained_Modified_Stride</a></strong> to <a href='https://wandb.ai/poorvi-c-iiit-hyderabad/resnet18-modifications' target=\"_blank\">Weights & Biases</a> (<a href='https://wandb.me/developer-guide' target=\"_blank\">docs</a>)<br>"
      ],
      "text/plain": [
       "<IPython.core.display.HTML object>"
      ]
     },
     "metadata": {},
     "output_type": "display_data"
    },
    {
     "data": {
      "text/html": [
       " View project at <a href='https://wandb.ai/poorvi-c-iiit-hyderabad/resnet18-modifications' target=\"_blank\">https://wandb.ai/poorvi-c-iiit-hyderabad/resnet18-modifications</a>"
      ],
      "text/plain": [
       "<IPython.core.display.HTML object>"
      ]
     },
     "metadata": {},
     "output_type": "display_data"
    },
    {
     "data": {
      "text/html": [
       " View run at <a href='https://wandb.ai/poorvi-c-iiit-hyderabad/resnet18-modifications/runs/rqas36xr' target=\"_blank\">https://wandb.ai/poorvi-c-iiit-hyderabad/resnet18-modifications/runs/rqas36xr</a>"
      ],
      "text/plain": [
       "<IPython.core.display.HTML object>"
      ]
     },
     "metadata": {},
     "output_type": "display_data"
    },
    {
     "name": "stdout",
     "output_type": "stream",
     "text": [
      "Test Accuracy: 65.30%\n",
      "F1 Score: 0.6419\n",
      "Epoch 1; Loss=1815.7091; Train Acc=59.70%, F1=0.5959\n",
      "Test Accuracy: 75.92%\n",
      "F1 Score: 0.7603\n",
      "Epoch 2; Loss=1168.3753; Train Acc=74.52%, F1=0.7446\n",
      "Test Accuracy: 77.02%\n",
      "F1 Score: 0.7698\n",
      "Epoch 3; Loss=904.5928; Train Acc=80.38%, F1=0.8035\n",
      "Test Accuracy: 79.82%\n",
      "F1 Score: 0.7963\n",
      "Epoch 4; Loss=687.0563; Train Acc=85.13%, F1=0.8512\n",
      "Test Accuracy: 78.74%\n",
      "F1 Score: 0.7897\n",
      "Epoch 5; Loss=505.0700; Train Acc=88.88%, F1=0.8888\n",
      "Test Accuracy: 79.90%\n",
      "F1 Score: 0.7978\n",
      "Epoch 6; Loss=367.1254; Train Acc=91.84%, F1=0.9183\n",
      "Test Accuracy: 78.28%\n",
      "F1 Score: 0.7825\n",
      "Epoch 7; Loss=273.7776; Train Acc=94.03%, F1=0.9403\n",
      "Test Accuracy: 80.16%\n",
      "F1 Score: 0.8034\n",
      "Epoch 8; Loss=218.1647; Train Acc=95.19%, F1=0.9519\n",
      "Test Accuracy: 79.36%\n",
      "F1 Score: 0.7932\n",
      "Epoch 9; Loss=180.5000; Train Acc=96.00%, F1=0.9600\n",
      "Test Accuracy: 79.30%\n",
      "F1 Score: 0.7954\n",
      "Epoch 10; Loss=155.4323; Train Acc=96.67%, F1=0.9667\n",
      "Test Accuracy: 79.30%\n",
      "F1 Score: 0.7954\n"
     ]
    },
    {
     "data": {
      "text/html": [],
      "text/plain": [
       "<IPython.core.display.HTML object>"
      ]
     },
     "metadata": {},
     "output_type": "display_data"
    },
    {
     "data": {
      "text/html": [
       "<br>    <style><br>        .wandb-row {<br>            display: flex;<br>            flex-direction: row;<br>            flex-wrap: wrap;<br>            justify-content: flex-start;<br>            width: 100%;<br>        }<br>        .wandb-col {<br>            display: flex;<br>            flex-direction: column;<br>            flex-basis: 100%;<br>            flex: 1;<br>            padding: 10px;<br>        }<br>    </style><br><div class=\"wandb-row\"><div class=\"wandb-col\"><h3>Run history:</h3><br/><table class=\"wandb\"><tr><td>batch</td><td>▁▁▁▂▂▃▃▃▃▃▄▄▄▄▄▄▄▄▄▅▅▅▅▅▅▆▆▆▆▆▆▇▇▇▇▇▇███</td></tr><tr><td>batch_loss</td><td>█▆▇▄▄▄▄▃▄▄▄▄▃▃▃▂▃▃▂▁▁▃▂▁▁▃▁▂▂▁▁▁▁▁▁▂▁▁▁▁</td></tr><tr><td>epoch</td><td>▁▂▃▃▄▅▆▆▇█</td></tr><tr><td>test_accuracy</td><td>▁▆▇█▇█▇████</td></tr><tr><td>test_f1</td><td>▁▆▇█▇█▇███</td></tr><tr><td>test_f1_score</td><td>▁</td></tr><tr><td>train_accuracy</td><td>▁▄▅▆▇▇████</td></tr><tr><td>train_f1</td><td>▁▄▅▆▇▇████</td></tr><tr><td>train_loss</td><td>█▅▄▃▂▂▁▁▁▁</td></tr></table><br/></div><div class=\"wandb-col\"><h3>Run summary:</h3><br/><table class=\"wandb\"><tr><td>batch</td><td>15627</td></tr><tr><td>batch_loss</td><td>0.05669</td></tr><tr><td>epoch</td><td>9</td></tr><tr><td>test_accuracy</td><td>79.3</td></tr><tr><td>test_f1</td><td>0.79544</td></tr><tr><td>test_f1_score</td><td>0.79544</td></tr><tr><td>train_accuracy</td><td>96.668</td></tr><tr><td>train_f1</td><td>0.96668</td></tr><tr><td>train_loss</td><td>155.4323</td></tr></table><br/></div></div>"
      ],
      "text/plain": [
       "<IPython.core.display.HTML object>"
      ]
     },
     "metadata": {},
     "output_type": "display_data"
    },
    {
     "data": {
      "text/html": [
       " View run <strong style=\"color:#cdcd00\">Pretrained_Modified_Stride</strong> at: <a href='https://wandb.ai/poorvi-c-iiit-hyderabad/resnet18-modifications/runs/rqas36xr' target=\"_blank\">https://wandb.ai/poorvi-c-iiit-hyderabad/resnet18-modifications/runs/rqas36xr</a><br> View project at: <a href='https://wandb.ai/poorvi-c-iiit-hyderabad/resnet18-modifications' target=\"_blank\">https://wandb.ai/poorvi-c-iiit-hyderabad/resnet18-modifications</a><br>Synced 5 W&B file(s), 11 media file(s), 0 artifact file(s) and 0 other file(s)"
      ],
      "text/plain": [
       "<IPython.core.display.HTML object>"
      ]
     },
     "metadata": {},
     "output_type": "display_data"
    },
    {
     "data": {
      "text/html": [
       "Find logs at: <code>./wandb/run-20250204_185618-rqas36xr/logs</code>"
      ],
      "text/plain": [
       "<IPython.core.display.HTML object>"
      ]
     },
     "metadata": {},
     "output_type": "display_data"
    },
    {
     "name": "stdout",
     "output_type": "stream",
     "text": [
      "\n",
      "Training Pretrained_Modified_Kernel...\n"
     ]
    },
    {
     "data": {
      "text/html": [
       "Tracking run with wandb version 0.19.5"
      ],
      "text/plain": [
       "<IPython.core.display.HTML object>"
      ]
     },
     "metadata": {},
     "output_type": "display_data"
    },
    {
     "data": {
      "text/html": [
       "Run data is saved locally in <code>/home2/poorvi.c/Documents/CV/assignment-2-Poorvi-HC/q1/wandb/run-20250204_190036-q3qokmza</code>"
      ],
      "text/plain": [
       "<IPython.core.display.HTML object>"
      ]
     },
     "metadata": {},
     "output_type": "display_data"
    },
    {
     "data": {
      "text/html": [
       "Syncing run <strong><a href='https://wandb.ai/poorvi-c-iiit-hyderabad/resnet18-modifications/runs/q3qokmza' target=\"_blank\">Pretrained_Modified_Kernel</a></strong> to <a href='https://wandb.ai/poorvi-c-iiit-hyderabad/resnet18-modifications' target=\"_blank\">Weights & Biases</a> (<a href='https://wandb.me/developer-guide' target=\"_blank\">docs</a>)<br>"
      ],
      "text/plain": [
       "<IPython.core.display.HTML object>"
      ]
     },
     "metadata": {},
     "output_type": "display_data"
    },
    {
     "data": {
      "text/html": [
       " View project at <a href='https://wandb.ai/poorvi-c-iiit-hyderabad/resnet18-modifications' target=\"_blank\">https://wandb.ai/poorvi-c-iiit-hyderabad/resnet18-modifications</a>"
      ],
      "text/plain": [
       "<IPython.core.display.HTML object>"
      ]
     },
     "metadata": {},
     "output_type": "display_data"
    },
    {
     "data": {
      "text/html": [
       " View run at <a href='https://wandb.ai/poorvi-c-iiit-hyderabad/resnet18-modifications/runs/q3qokmza' target=\"_blank\">https://wandb.ai/poorvi-c-iiit-hyderabad/resnet18-modifications/runs/q3qokmza</a>"
      ],
      "text/plain": [
       "<IPython.core.display.HTML object>"
      ]
     },
     "metadata": {},
     "output_type": "display_data"
    },
    {
     "name": "stdout",
     "output_type": "stream",
     "text": [
      "Test Accuracy: 71.42%\n",
      "F1 Score: 0.7150\n",
      "Epoch 1; Loss=1711.4744; Train Acc=61.87%, F1=0.6176\n",
      "Test Accuracy: 76.55%\n",
      "F1 Score: 0.7666\n",
      "Epoch 2; Loss=1056.6976; Train Acc=77.13%, F1=0.7709\n",
      "Test Accuracy: 79.19%\n",
      "F1 Score: 0.7916\n",
      "Epoch 3; Loss=787.0344; Train Acc=82.88%, F1=0.8286\n",
      "Test Accuracy: 79.86%\n",
      "F1 Score: 0.7979\n",
      "Epoch 4; Loss=589.2962; Train Acc=87.15%, F1=0.8714\n",
      "Test Accuracy: 81.12%\n",
      "F1 Score: 0.8118\n",
      "Epoch 5; Loss=429.7756; Train Acc=90.63%, F1=0.9063\n",
      "Test Accuracy: 81.49%\n",
      "F1 Score: 0.8149\n",
      "Epoch 6; Loss=317.9325; Train Acc=92.99%, F1=0.9298\n",
      "Test Accuracy: 81.44%\n",
      "F1 Score: 0.8155\n",
      "Epoch 7; Loss=237.5101; Train Acc=94.76%, F1=0.9476\n",
      "Test Accuracy: 81.15%\n",
      "F1 Score: 0.8108\n",
      "Epoch 8; Loss=189.2645; Train Acc=95.97%, F1=0.9597\n",
      "Test Accuracy: 81.68%\n",
      "F1 Score: 0.8163\n",
      "Epoch 9; Loss=164.8763; Train Acc=96.44%, F1=0.9644\n",
      "Test Accuracy: 82.05%\n",
      "F1 Score: 0.8190\n",
      "Epoch 10; Loss=139.4342; Train Acc=97.00%, F1=0.9700\n",
      "Test Accuracy: 82.05%\n",
      "F1 Score: 0.8190\n"
     ]
    },
    {
     "data": {
      "text/html": [],
      "text/plain": [
       "<IPython.core.display.HTML object>"
      ]
     },
     "metadata": {},
     "output_type": "display_data"
    },
    {
     "data": {
      "text/html": [
       "<br>    <style><br>        .wandb-row {<br>            display: flex;<br>            flex-direction: row;<br>            flex-wrap: wrap;<br>            justify-content: flex-start;<br>            width: 100%;<br>        }<br>        .wandb-col {<br>            display: flex;<br>            flex-direction: column;<br>            flex-basis: 100%;<br>            flex: 1;<br>            padding: 10px;<br>        }<br>    </style><br><div class=\"wandb-row\"><div class=\"wandb-col\"><h3>Run history:</h3><br/><table class=\"wandb\"><tr><td>batch</td><td>▁▁▁▂▂▂▂▃▃▃▄▄▄▄▄▄▄▄▄▅▅▅▅▅▅▆▆▆▆▆▇▇▇▇▇█████</td></tr><tr><td>batch_loss</td><td>█▅▅▅▃▃▅▂▂▂▂▃▂▂▁▂▂▁▂▁▂▂▂▁▁▁▁▁▁▁▂▁▁▁▁▁▁▁▂▁</td></tr><tr><td>epoch</td><td>▁▂▃▃▄▅▆▆▇█</td></tr><tr><td>test_accuracy</td><td>▁▄▆▇▇██▇███</td></tr><tr><td>test_f1</td><td>▁▄▆▇███▇██</td></tr><tr><td>test_f1_score</td><td>▁</td></tr><tr><td>train_accuracy</td><td>▁▄▅▆▇▇████</td></tr><tr><td>train_f1</td><td>▁▄▅▆▇▇████</td></tr><tr><td>train_loss</td><td>█▅▄▃▂▂▁▁▁▁</td></tr></table><br/></div><div class=\"wandb-col\"><h3>Run summary:</h3><br/><table class=\"wandb\"><tr><td>batch</td><td>15627</td></tr><tr><td>batch_loss</td><td>0.00916</td></tr><tr><td>epoch</td><td>9</td></tr><tr><td>test_accuracy</td><td>82.05</td></tr><tr><td>test_f1</td><td>0.81898</td></tr><tr><td>test_f1_score</td><td>0.81898</td></tr><tr><td>train_accuracy</td><td>96.998</td></tr><tr><td>train_f1</td><td>0.96998</td></tr><tr><td>train_loss</td><td>139.43422</td></tr></table><br/></div></div>"
      ],
      "text/plain": [
       "<IPython.core.display.HTML object>"
      ]
     },
     "metadata": {},
     "output_type": "display_data"
    },
    {
     "data": {
      "text/html": [
       " View run <strong style=\"color:#cdcd00\">Pretrained_Modified_Kernel</strong> at: <a href='https://wandb.ai/poorvi-c-iiit-hyderabad/resnet18-modifications/runs/q3qokmza' target=\"_blank\">https://wandb.ai/poorvi-c-iiit-hyderabad/resnet18-modifications/runs/q3qokmza</a><br> View project at: <a href='https://wandb.ai/poorvi-c-iiit-hyderabad/resnet18-modifications' target=\"_blank\">https://wandb.ai/poorvi-c-iiit-hyderabad/resnet18-modifications</a><br>Synced 5 W&B file(s), 11 media file(s), 0 artifact file(s) and 0 other file(s)"
      ],
      "text/plain": [
       "<IPython.core.display.HTML object>"
      ]
     },
     "metadata": {},
     "output_type": "display_data"
    },
    {
     "data": {
      "text/html": [
       "Find logs at: <code>./wandb/run-20250204_190036-q3qokmza/logs</code>"
      ],
      "text/plain": [
       "<IPython.core.display.HTML object>"
      ]
     },
     "metadata": {},
     "output_type": "display_data"
    },
    {
     "name": "stdout",
     "output_type": "stream",
     "text": [
      "\n",
      "Training Pretrained_Custom_First...\n"
     ]
    },
    {
     "data": {
      "text/html": [
       "Tracking run with wandb version 0.19.5"
      ],
      "text/plain": [
       "<IPython.core.display.HTML object>"
      ]
     },
     "metadata": {},
     "output_type": "display_data"
    },
    {
     "data": {
      "text/html": [
       "Run data is saved locally in <code>/home2/poorvi.c/Documents/CV/assignment-2-Poorvi-HC/q1/wandb/run-20250204_190450-ndk16y0j</code>"
      ],
      "text/plain": [
       "<IPython.core.display.HTML object>"
      ]
     },
     "metadata": {},
     "output_type": "display_data"
    },
    {
     "data": {
      "text/html": [
       "Syncing run <strong><a href='https://wandb.ai/poorvi-c-iiit-hyderabad/resnet18-modifications/runs/ndk16y0j' target=\"_blank\">Pretrained_Custom_First</a></strong> to <a href='https://wandb.ai/poorvi-c-iiit-hyderabad/resnet18-modifications' target=\"_blank\">Weights & Biases</a> (<a href='https://wandb.me/developer-guide' target=\"_blank\">docs</a>)<br>"
      ],
      "text/plain": [
       "<IPython.core.display.HTML object>"
      ]
     },
     "metadata": {},
     "output_type": "display_data"
    },
    {
     "data": {
      "text/html": [
       " View project at <a href='https://wandb.ai/poorvi-c-iiit-hyderabad/resnet18-modifications' target=\"_blank\">https://wandb.ai/poorvi-c-iiit-hyderabad/resnet18-modifications</a>"
      ],
      "text/plain": [
       "<IPython.core.display.HTML object>"
      ]
     },
     "metadata": {},
     "output_type": "display_data"
    },
    {
     "data": {
      "text/html": [
       " View run at <a href='https://wandb.ai/poorvi-c-iiit-hyderabad/resnet18-modifications/runs/ndk16y0j' target=\"_blank\">https://wandb.ai/poorvi-c-iiit-hyderabad/resnet18-modifications/runs/ndk16y0j</a>"
      ],
      "text/plain": [
       "<IPython.core.display.HTML object>"
      ]
     },
     "metadata": {},
     "output_type": "display_data"
    },
    {
     "name": "stdout",
     "output_type": "stream",
     "text": [
      "Test Accuracy: 74.55%\n",
      "F1 Score: 0.7427\n",
      "Epoch 1; Loss=1645.5820; Train Acc=63.65%, F1=0.6357\n",
      "Test Accuracy: 79.23%\n",
      "F1 Score: 0.7964\n",
      "Epoch 2; Loss=997.3183; Train Acc=78.45%, F1=0.7840\n",
      "Test Accuracy: 81.57%\n",
      "F1 Score: 0.8163\n",
      "Epoch 3; Loss=737.0838; Train Acc=84.10%, F1=0.8408\n",
      "Test Accuracy: 83.05%\n",
      "F1 Score: 0.8318\n",
      "Epoch 4; Loss=559.0420; Train Acc=87.83%, F1=0.8782\n",
      "Test Accuracy: 82.79%\n",
      "F1 Score: 0.8262\n",
      "Epoch 5; Loss=399.9726; Train Acc=91.30%, F1=0.9130\n",
      "Test Accuracy: 82.60%\n",
      "F1 Score: 0.8258\n",
      "Epoch 6; Loss=304.9962; Train Acc=93.33%, F1=0.9333\n",
      "Test Accuracy: 82.55%\n",
      "F1 Score: 0.8254\n",
      "Epoch 7; Loss=217.1242; Train Acc=95.30%, F1=0.9530\n",
      "Test Accuracy: 81.95%\n",
      "F1 Score: 0.8194\n",
      "Epoch 8; Loss=184.1495; Train Acc=95.95%, F1=0.9595\n",
      "Test Accuracy: 82.59%\n",
      "F1 Score: 0.8240\n",
      "Epoch 9; Loss=155.8418; Train Acc=96.67%, F1=0.9667\n",
      "Test Accuracy: 82.37%\n",
      "F1 Score: 0.8239\n",
      "Epoch 10; Loss=136.7596; Train Acc=97.11%, F1=0.9711\n",
      "Test Accuracy: 82.37%\n",
      "F1 Score: 0.8239\n"
     ]
    },
    {
     "data": {
      "text/html": [],
      "text/plain": [
       "<IPython.core.display.HTML object>"
      ]
     },
     "metadata": {},
     "output_type": "display_data"
    },
    {
     "data": {
      "text/html": [
       "<br>    <style><br>        .wandb-row {<br>            display: flex;<br>            flex-direction: row;<br>            flex-wrap: wrap;<br>            justify-content: flex-start;<br>            width: 100%;<br>        }<br>        .wandb-col {<br>            display: flex;<br>            flex-direction: column;<br>            flex-basis: 100%;<br>            flex: 1;<br>            padding: 10px;<br>        }<br>    </style><br><div class=\"wandb-row\"><div class=\"wandb-col\"><h3>Run history:</h3><br/><table class=\"wandb\"><tr><td>batch</td><td>▁▁▁▁▁▂▂▂▂▂▂▂▂▂▂▃▃▃▃▃▄▄▄▅▅▅▅▅▆▆▇▇▇▇▇█████</td></tr><tr><td>batch_loss</td><td>█▅▄▄▃▂▃▂▂▃▃▂▂▂▂▃▂▂▂▃▄▂▂▂▁▁▁▁▁▂▂▁▁▂▁▁▂▂▂▁</td></tr><tr><td>epoch</td><td>▁▂▃▃▄▅▆▆▇█</td></tr><tr><td>test_accuracy</td><td>▁▅▇████▇█▇▇</td></tr><tr><td>test_f1</td><td>▁▅▇████▇▇▇</td></tr><tr><td>test_f1_score</td><td>▁</td></tr><tr><td>train_accuracy</td><td>▁▄▅▆▇▇████</td></tr><tr><td>train_f1</td><td>▁▄▅▆▇▇████</td></tr><tr><td>train_loss</td><td>█▅▄▃▂▂▁▁▁▁</td></tr></table><br/></div><div class=\"wandb-col\"><h3>Run summary:</h3><br/><table class=\"wandb\"><tr><td>batch</td><td>15627</td></tr><tr><td>batch_loss</td><td>0.07633</td></tr><tr><td>epoch</td><td>9</td></tr><tr><td>test_accuracy</td><td>82.37</td></tr><tr><td>test_f1</td><td>0.82386</td></tr><tr><td>test_f1_score</td><td>0.82386</td></tr><tr><td>train_accuracy</td><td>97.11</td></tr><tr><td>train_f1</td><td>0.9711</td></tr><tr><td>train_loss</td><td>136.75963</td></tr></table><br/></div></div>"
      ],
      "text/plain": [
       "<IPython.core.display.HTML object>"
      ]
     },
     "metadata": {},
     "output_type": "display_data"
    },
    {
     "data": {
      "text/html": [
       " View run <strong style=\"color:#cdcd00\">Pretrained_Custom_First</strong> at: <a href='https://wandb.ai/poorvi-c-iiit-hyderabad/resnet18-modifications/runs/ndk16y0j' target=\"_blank\">https://wandb.ai/poorvi-c-iiit-hyderabad/resnet18-modifications/runs/ndk16y0j</a><br> View project at: <a href='https://wandb.ai/poorvi-c-iiit-hyderabad/resnet18-modifications' target=\"_blank\">https://wandb.ai/poorvi-c-iiit-hyderabad/resnet18-modifications</a><br>Synced 5 W&B file(s), 11 media file(s), 0 artifact file(s) and 0 other file(s)"
      ],
      "text/plain": [
       "<IPython.core.display.HTML object>"
      ]
     },
     "metadata": {},
     "output_type": "display_data"
    },
    {
     "data": {
      "text/html": [
       "Find logs at: <code>./wandb/run-20250204_190450-ndk16y0j/logs</code>"
      ],
      "text/plain": [
       "<IPython.core.display.HTML object>"
      ]
     },
     "metadata": {},
     "output_type": "display_data"
    }
   ],
   "source": [
    "for model_name, model_fn, is_pretrained in model_configs:\n",
    "    print(f\"\\nTraining {model_name}...\")\n",
    "\n",
    "    train_modifications_model(\n",
    "        model_fn, \n",
    "        train_loader, \n",
    "        test_loader, \n",
    "        num_epochs=10,\n",
    "        model_name=model_name,\n",
    "        is_pretrained=is_pretrained\n",
    "    )"
   ]
  },
  {
   "cell_type": "markdown",
   "metadata": {},
   "source": [
    "- The first layer is initialized randomly, while other layers use pretrained weights, leading to mismatched distributions.\n",
    "\n",
    "- The randomly initialized first layer may take longer to adapt and align with the pretrained feature maps.\n",
    "\n",
    "- The pretrained layers expect a certain feature representation from the first layer, which is disrupted by custom initialization.\n",
    "\n",
    "- With sufficient training, the model can still learn effectively, though it may require more epochs to stabilize.\n",
    "\n",
    "- More drastic changes (e.g., replacing conv1 with multiple layers) may worsen the issue compared to smaller kernel/stride changes."
   ]
  },
  {
   "cell_type": "markdown",
   "metadata": {},
   "source": [
    "### Comparison Report\n",
    "\n",
    "The provided graphs show that pretrained models (e.g., 'Pretrained_Custom_First', 'Pretrained_Modified_Kernel', 'Pretrained_Modified_Stride') generally outperform non-pretrained ResNet18 models ('ResNet18_No_Maxpool', 'ResNet18_Modified_Kernel', 'ResNet18_Modified_Stride') across all metrics (accuracy, loss, F1-score). \n",
    "\n",
    "Modifications to kernel size and stride within both pretrained and non-pretrained models show varying impacts; some modifications improve performance while others don't. The 'Pretrained_Custom_First' model achieves the highest test F1-score, suggesting a strong balance between precision and recall. The training graphs show pretrained models converge faster and to higher accuracy. Image size isn't explicitly shown, precluding direct comparison based on that factor.\n",
    "\n",
    "Regarding F1-score and confusion matrices (not shown), the F1-score is a more robust metric than accuracy alone, as it considers both precision and recall, particularly important when dealing with imbalanced datasets. A confusion matrix would provide a granular view of classification performance, revealing which classes are more accurately predicted than others.\n",
    "\n",
    "The performance differences are likely due to the pretrained models leveraging learned features from a large dataset. This gives them a significant head start, leading to faster convergence and potentially higher accuracy. Modifications to kernel size and stride can affect the model's ability to learn features at different resolutions and receptive fields. The optimal choice depends on the specific dataset and architecture."
   ]
  }
 ],
 "metadata": {
  "kernelspec": {
   "display_name": "research",
   "language": "python",
   "name": "python3"
  },
  "language_info": {
   "codemirror_mode": {
    "name": "ipython",
    "version": 3
   },
   "file_extension": ".py",
   "mimetype": "text/x-python",
   "name": "python",
   "nbconvert_exporter": "python",
   "pygments_lexer": "ipython3",
   "version": "3.12.8"
  }
 },
 "nbformat": 4,
 "nbformat_minor": 2
}
