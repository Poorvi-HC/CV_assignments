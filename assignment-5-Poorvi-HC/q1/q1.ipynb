{
 "cells": [
  {
   "cell_type": "markdown",
   "metadata": {},
   "source": [
    "# Question 1"
   ]
  },
  {
   "cell_type": "code",
   "execution_count": 1,
   "metadata": {},
   "outputs": [],
   "source": [
    "import torch\n",
    "import torch.nn as nn\n",
    "import torch.optim as optim\n",
    "import torchvision\n",
    "import torchvision.transforms as transforms\n",
    "import matplotlib.pyplot as plt\n",
    "import numpy as np\n",
    "from tqdm import tqdm\n",
    "import copy\n",
    "import json\n",
    "import os"
   ]
  },
  {
   "cell_type": "code",
   "execution_count": 2,
   "metadata": {},
   "outputs": [],
   "source": [
    "class ScaledDotProductAttention(nn.Module):\n",
    "    def __init__(self):\n",
    "        super().__init__()\n",
    "        self.softmax = nn.Softmax(dim=-1)\n",
    "        \n",
    "    def forward(self, q, k, v, mask=None):\n",
    "        d_k = k.size(-1)\n",
    "        scores = torch.matmul(q, k.transpose(-2, -1)) / np.sqrt(d_k)\n",
    "        if mask is not None:\n",
    "            scores = scores.masked_fill(mask == 0, -1e9)\n",
    "        attention = self.softmax(scores)\n",
    "        output = torch.matmul(attention, v)\n",
    "        return output, attention\n",
    "\n",
    "class MultiHeadAttention(nn.Module):\n",
    "    def __init__(self, embed_dim, n_heads):\n",
    "        super().__init__()\n",
    "        self.embed_dim = embed_dim\n",
    "        self.n_heads = n_heads\n",
    "        self.head_dim = embed_dim // n_heads\n",
    "        \n",
    "        self.q_linear = nn.Linear(embed_dim, embed_dim)\n",
    "        self.k_linear = nn.Linear(embed_dim, embed_dim)\n",
    "        self.v_linear = nn.Linear(embed_dim, embed_dim)\n",
    "        \n",
    "        self.attention = ScaledDotProductAttention()\n",
    "        self.out_linear = nn.Linear(embed_dim, embed_dim)\n",
    "        \n",
    "    def forward(self, q, k, v, mask=None):\n",
    "        batch_size = q.size(0)\n",
    "        \n",
    "        q = self.q_linear(q).view(batch_size, -1, self.n_heads, self.head_dim).transpose(1, 2)\n",
    "        k = self.k_linear(k).view(batch_size, -1, self.n_heads, self.head_dim).transpose(1, 2)\n",
    "        v = self.v_linear(v).view(batch_size, -1, self.n_heads, self.head_dim).transpose(1, 2)\n",
    "        \n",
    "        output, attention = self.attention(q, k, v, mask)\n",
    "        \n",
    "        output = output.transpose(1, 2).contiguous().view(batch_size, -1, self.embed_dim)\n",
    "        output = self.out_linear(output)\n",
    "        \n",
    "        return output, attention\n",
    "\n",
    "class MLPBlock(nn.Module):\n",
    "    def __init__(self, embed_dim, mlp_dim, dropout=0.1):\n",
    "        super().__init__()\n",
    "        self.fc1 = nn.Linear(embed_dim, mlp_dim)\n",
    "        self.fc2 = nn.Linear(mlp_dim, embed_dim)\n",
    "        self.act = nn.GELU()\n",
    "        self.dropout = nn.Dropout(dropout)\n",
    "        \n",
    "    def forward(self, x):\n",
    "        x = self.fc1(x)\n",
    "        x = self.act(x)\n",
    "        x = self.dropout(x)\n",
    "        x = self.fc2(x)\n",
    "        x = self.dropout(x)\n",
    "        return x\n",
    "\n",
    "class TransformerEncoderLayer(nn.Module):\n",
    "    def __init__(self, embed_dim, n_heads, mlp_dim, dropout=0.1):\n",
    "        super().__init__()\n",
    "        self.attention = MultiHeadAttention(embed_dim, n_heads)\n",
    "        self.norm1 = nn.LayerNorm(embed_dim)\n",
    "        self.norm2 = nn.LayerNorm(embed_dim)\n",
    "        self.mlp = MLPBlock(embed_dim, mlp_dim, dropout)\n",
    "        self.dropout = nn.Dropout(dropout)\n",
    "        \n",
    "    def forward(self, x):\n",
    "        attn_output, _ = self.attention(x, x, x)\n",
    "        x = x + self.dropout(attn_output)\n",
    "        x = self.norm1(x)\n",
    "        \n",
    "        mlp_output = self.mlp(x)\n",
    "        x = x + self.dropout(mlp_output)\n",
    "        x = self.norm2(x)\n",
    "        \n",
    "        return x\n"
   ]
  },
  {
   "cell_type": "code",
   "execution_count": 3,
   "metadata": {},
   "outputs": [],
   "source": [
    "class VisionTransformer(nn.Module):\n",
    "    def __init__(\n",
    "        self,\n",
    "        img_size=32,\n",
    "        patch_size=4,\n",
    "        in_channels=3,\n",
    "        num_classes=10,\n",
    "        embed_dim=256,\n",
    "        depth=6,\n",
    "        n_heads=8,\n",
    "        mlp_dim=512,\n",
    "        dropout=0.1,\n",
    "    ):\n",
    "        super().__init__()\n",
    "        \n",
    "        self.patch_size = patch_size\n",
    "        self.num_patches = (img_size // patch_size) ** 2\n",
    "        \n",
    "        self.patch_embed = nn.Conv2d(\n",
    "            in_channels, embed_dim, \n",
    "            kernel_size=patch_size, stride=patch_size\n",
    "        )\n",
    "      \n",
    "        self.cls_token = nn.Parameter(torch.zeros(1, 1, embed_dim))\n",
    "        \n",
    "        self.pos_embed = nn.Parameter(torch.zeros(1, self.num_patches + 1, embed_dim))\n",
    "        \n",
    "        self.dropout = nn.Dropout(dropout)\n",
    "        \n",
    "        self.transformer_encoder = nn.ModuleList([\n",
    "            TransformerEncoderLayer(embed_dim, n_heads, mlp_dim, dropout)\n",
    "            for _ in range(depth)\n",
    "        ])\n",
    "        \n",
    "        self.norm = nn.LayerNorm(embed_dim)\n",
    "        self.head = nn.Linear(embed_dim, num_classes)\n",
    "\n",
    "        self._init_weights()\n",
    "        \n",
    "    def _init_weights(self):\n",
    "        nn.init.normal_(self.cls_token, std=0.02)\n",
    "        nn.init.normal_(self.pos_embed, std=0.02)\n",
    "        self.apply(self._init_linear_weights)\n",
    "            \n",
    "    def _init_linear_weights(self, m):\n",
    "        if isinstance(m, nn.Linear):\n",
    "            nn.init.normal_(m.weight, std=0.02)\n",
    "            if m.bias is not None:\n",
    "                nn.init.zeros_(m.bias)\n",
    "        elif isinstance(m, nn.LayerNorm):\n",
    "            nn.init.zeros_(m.bias)\n",
    "            nn.init.ones_(m.weight)\n",
    "        \n",
    "    def forward(self, x):\n",
    "        batch_size = x.size(0)\n",
    "        \n",
    "        x = self.patch_embed(x)\n",
    "       \n",
    "        x = x.flatten(2)\n",
    "        x = x.transpose(1, 2)\n",
    "      \n",
    "        cls_tokens = self.cls_token.expand(batch_size, -1, -1)\n",
    "        x = torch.cat((cls_tokens, x), dim=1)\n",
    "        \n",
    "        x = x + self.pos_embed\n",
    "        x = self.dropout(x)\n",
    "        \n",
    "        for layer in self.transformer_encoder:\n",
    "            x = layer(x)\n",
    "        \n",
    "        x = self.norm(x)\n",
    "        x = x[:, 0]\n",
    "        \n",
    "        x = self.head(x)\n",
    "        \n",
    "        return x"
   ]
  },
  {
   "cell_type": "code",
   "execution_count": 4,
   "metadata": {},
   "outputs": [],
   "source": [
    "def train_epoch(model, train_loader, criterion, optimizer, device):\n",
    "    model.train()\n",
    "    running_loss = 0.0\n",
    "    correct = 0\n",
    "    total = 0\n",
    "    \n",
    "    train_pbar = tqdm(train_loader, desc=\"Training\")\n",
    "    \n",
    "    for images, labels in train_pbar:\n",
    "        images, labels = images.to(device), labels.to(device)\n",
    "        \n",
    "        optimizer.zero_grad()\n",
    "        outputs = model(images)\n",
    "        loss = criterion(outputs, labels)\n",
    "        \n",
    "        loss.backward()\n",
    "        optimizer.step()\n",
    "        \n",
    "        running_loss += loss.item()\n",
    "        _, predicted = outputs.max(1)\n",
    "        total += labels.size(0)\n",
    "        correct += predicted.eq(labels).sum().item()\n",
    "        \n",
    "        train_pbar.set_postfix({\n",
    "            'loss': running_loss / (train_pbar.n + 1),\n",
    "            'acc': 100. * correct / total\n",
    "        })\n",
    "    \n",
    "    train_loss = running_loss / len(train_loader)\n",
    "    train_acc = 100. * correct / total\n",
    "    \n",
    "    return train_loss, train_acc\n",
    "\n",
    "def evaluate(model, test_loader, criterion, device):\n",
    "    model.eval()\n",
    "    running_loss = 0.0\n",
    "    correct = 0\n",
    "    total = 0\n",
    "    \n",
    "    with torch.no_grad():\n",
    "        for images, labels in test_loader:\n",
    "            images, labels = images.to(device), labels.to(device)\n",
    "            \n",
    "            outputs = model(images)\n",
    "            loss = criterion(outputs, labels)\n",
    "            \n",
    "            running_loss += loss.item()\n",
    "            _, predicted = outputs.max(1)\n",
    "            total += labels.size(0)\n",
    "            correct += predicted.eq(labels).sum().item()\n",
    "    \n",
    "    test_loss = running_loss / len(test_loader)\n",
    "    test_acc = 100. * correct / total\n",
    "    \n",
    "    return test_loss, test_acc"
   ]
  },
  {
   "cell_type": "code",
   "execution_count": 5,
   "metadata": {},
   "outputs": [],
   "source": [
    "def get_data_loaders(batch_size=128, augmentation='default'):\n",
    "    if augmentation == 'default':\n",
    "        transform_train = transforms.Compose([\n",
    "            transforms.RandomCrop(32, padding=4),\n",
    "            transforms.RandomHorizontalFlip(),\n",
    "            transforms.ToTensor(),\n",
    "            transforms.Normalize((0.4914, 0.4822, 0.4465), (0.2470, 0.2435, 0.2616)),\n",
    "        ])\n",
    "    elif augmentation == 'strong':\n",
    "        transform_train = transforms.Compose([\n",
    "            transforms.RandomCrop(32, padding=4),\n",
    "            transforms.RandomHorizontalFlip(),\n",
    "            transforms.RandomRotation(15),\n",
    "            transforms.ColorJitter(brightness=0.2, contrast=0.2, saturation=0.2),\n",
    "            transforms.ToTensor(),\n",
    "            transforms.Normalize((0.4914, 0.4822, 0.4465), (0.2470, 0.2435, 0.2616)),\n",
    "            transforms.RandomErasing(p=0.5, scale=(0.02, 0.33), ratio=(0.3, 3.3)),\n",
    "        ])\n",
    "    elif augmentation == 'autoaugment':\n",
    "        transform_train = transforms.Compose([\n",
    "            transforms.RandomCrop(32, padding=4),\n",
    "            transforms.RandomHorizontalFlip(),\n",
    "            transforms.AutoAugment(transforms.AutoAugmentPolicy.CIFAR10),\n",
    "            transforms.ToTensor(),\n",
    "            transforms.Normalize((0.4914, 0.4822, 0.4465), (0.2470, 0.2435, 0.2616)),\n",
    "        ])\n",
    "    elif augmentation == 'cutmix':\n",
    "        transform_train = transforms.Compose([\n",
    "            transforms.RandomCrop(32, padding=4),\n",
    "            transforms.RandomHorizontalFlip(),\n",
    "            transforms.ToTensor(),\n",
    "            transforms.Normalize((0.4914, 0.4822, 0.4465), (0.2470, 0.2435, 0.2616)),\n",
    "        ])\n",
    "    else:\n",
    "        raise ValueError(f\"Unknown augmentation: {augmentation}\")\n",
    "    \n",
    "    transform_test = transforms.Compose([\n",
    "        transforms.ToTensor(),\n",
    "        transforms.Normalize((0.4914, 0.4822, 0.4465), (0.2470, 0.2435, 0.2616)),\n",
    "    ])\n",
    "    \n",
    "    train_dataset = torchvision.datasets.CIFAR10(\n",
    "        root='./data', train=True, download=True, transform=transform_train)\n",
    "    \n",
    "    test_dataset = torchvision.datasets.CIFAR10(\n",
    "        root='./data', train=False, download=True, transform=transform_test)\n",
    "    \n",
    "    train_loader = torch.utils.data.DataLoader(\n",
    "        train_dataset, batch_size=batch_size, shuffle=True, num_workers=2)\n",
    "    \n",
    "    test_loader = torch.utils.data.DataLoader(\n",
    "        test_dataset, batch_size=batch_size, shuffle=False, num_workers=2)\n",
    "    \n",
    "    return train_loader, test_loader"
   ]
  },
  {
   "cell_type": "code",
   "execution_count": 6,
   "metadata": {},
   "outputs": [],
   "source": [
    "def train_model(config, device, num_epochs=20):\n",
    "    patch_size = config['patch_size']\n",
    "    embed_dim = config['embed_dim']\n",
    "    depth = config['depth']\n",
    "    n_heads = config['n_heads']\n",
    "    mlp_dim = config['mlp_dim']\n",
    "    batch_size = config['batch_size']\n",
    "    lr = config['lr']\n",
    "    weight_decay = config['weight_decay']\n",
    "    augmentation = config.get('augmentation', 'default')\n",
    "   \n",
    "    train_loader, test_loader = get_data_loaders(batch_size, augmentation)\n",
    "    \n",
    "    model = VisionTransformer(\n",
    "        img_size=32,\n",
    "        patch_size=patch_size,\n",
    "        in_channels=3,\n",
    "        num_classes=10,\n",
    "        embed_dim=embed_dim,\n",
    "        depth=depth,\n",
    "        n_heads=n_heads,\n",
    "        mlp_dim=mlp_dim,\n",
    "        dropout=0.1\n",
    "    ).to(device)\n",
    "    \n",
    "    criterion = nn.CrossEntropyLoss()\n",
    "    optimizer = optim.AdamW(model.parameters(), lr=lr, weight_decay=weight_decay)\n",
    "    scheduler = optim.lr_scheduler.CosineAnnealingLR(optimizer, T_max=num_epochs)\n",
    "    \n",
    "    train_losses, train_accs = [], []\n",
    "    test_losses, test_accs = [], []\n",
    "    best_acc = 0.0\n",
    "    best_model_state = None\n",
    "    \n",
    "    for epoch in range(num_epochs):\n",
    "        print(f\"\\nEpoch {epoch+1}/{num_epochs}\")\n",
    "        \n",
    "        train_loss, train_acc = train_epoch(model, train_loader, criterion, optimizer, device)\n",
    "        test_loss, test_acc = evaluate(model, test_loader, criterion, device)\n",
    "        \n",
    "        scheduler.step()\n",
    "        \n",
    "        train_losses.append(train_loss)\n",
    "        train_accs.append(train_acc)\n",
    "        test_losses.append(test_loss)\n",
    "        test_accs.append(test_acc)\n",
    "        \n",
    "        print(f'Train Loss: {train_loss:.4f}, Train Acc: {train_acc:.2f}%')\n",
    "        print(f'Test Loss: {test_loss:.4f}, Test Acc: {test_acc:.2f}%')\n",
    "        \n",
    "        if test_acc > best_acc:\n",
    "            best_acc = test_acc\n",
    "            best_model_state = copy.deepcopy(model.state_dict())\n",
    "    \n",
    "    if best_model_state is not None:\n",
    "        model.load_state_dict(best_model_state)\n",
    "    \n",
    "    results = {\n",
    "        'config': config,\n",
    "        'train_losses': train_losses,\n",
    "        'train_accs': train_accs,\n",
    "        'test_losses': test_losses,\n",
    "        'test_accs': test_accs,\n",
    "        'best_test_acc': best_acc\n",
    "    }\n",
    "    \n",
    "    exp_name = f\"vit_ps{patch_size}_e{embed_dim}_d{depth}_h{n_heads}_mlp{mlp_dim}\"\n",
    "    if augmentation != 'default':\n",
    "        exp_name += f\"_aug{augmentation}\"\n",
    "    \n",
    "    if not os.path.exists('results'):\n",
    "        os.makedirs('results')\n",
    "    \n",
    "    torch.save(model.state_dict(), f'results/{exp_name}_model.pth')\n",
    "    with open(f'results/{exp_name}_results.json', 'w') as f:\n",
    "        json.dump({k: v if not isinstance(v, list) else [float(i) for i in v] \n",
    "                  for k, v in results.items() if k != 'config'}, f)\n",
    "    \n",
    "    return model, results\n"
   ]
  },
  {
   "cell_type": "code",
   "execution_count": 7,
   "metadata": {},
   "outputs": [],
   "source": [
    "def plot_comparison_results(all_results, comparison_name, filename):\n",
    "    plt.figure(figsize=(15, 10))\n",
    "    \n",
    "    keys = list(all_results.keys())\n",
    "    \n",
    "    plt.subplot(2, 2, 1)\n",
    "    for key in keys:\n",
    "        plt.plot(all_results[key]['train_losses'], label=f'{comparison_name} = {key}')\n",
    "    plt.xlabel('Epoch')\n",
    "    plt.ylabel('Training Loss')\n",
    "    plt.legend()\n",
    "    plt.title('Training Loss vs. Epoch')\n",
    "    \n",
    "    plt.subplot(2, 2, 2)\n",
    "    for key in keys:\n",
    "        plt.plot(all_results[key]['test_losses'], label=f'{comparison_name} = {key}')\n",
    "    plt.xlabel('Epoch')\n",
    "    plt.ylabel('Testing Loss')\n",
    "    plt.legend()\n",
    "    plt.title('Testing Loss vs. Epoch')\n",
    "    \n",
    "    plt.subplot(2, 2, 3)\n",
    "    for key in keys:\n",
    "        plt.plot(all_results[key]['train_accs'], label=f'{comparison_name} = {key}')\n",
    "    plt.xlabel('Epoch')\n",
    "    plt.ylabel('Training Accuracy (%)')\n",
    "    plt.legend()\n",
    "    plt.title('Training Accuracy vs. Epoch')\n",
    "    \n",
    "    plt.subplot(2, 2, 4)\n",
    "    for key in keys:\n",
    "        plt.plot(all_results[key]['test_accs'], label=f'{comparison_name} = {key}')\n",
    "    plt.xlabel('Epoch')\n",
    "    plt.ylabel('Testing Accuracy (%)')\n",
    "    plt.legend()\n",
    "    plt.title('Testing Accuracy vs. Epoch')\n",
    "    \n",
    "    plt.tight_layout()\n",
    "    plt.savefig(f'results/{filename}.png')\n",
    "    plt.close()\n",
    "\n",
    "def plot_augmentation_results(all_results, comparison_name, filename):\n",
    "    plt.figure(figsize=(15, 5))\n",
    "    \n",
    "    keys = list(all_results.keys())\n",
    "    \n",
    "    plt.subplot(1, 2, 1)\n",
    "    for key in keys:\n",
    "        plt.plot(all_results[key]['test_accs'], label=f'{key}')\n",
    "    plt.xlabel('Epoch')\n",
    "    plt.ylabel('Testing Accuracy (%)')\n",
    "    plt.legend()\n",
    "    plt.title('Testing Accuracy vs. Epoch')\n",
    "    \n",
    "    plt.subplot(1, 2, 2)\n",
    "    best_accs = [all_results[key]['best_test_acc'] for key in keys]\n",
    "    plt.bar(keys, best_accs)\n",
    "    plt.xlabel('Augmentation Type')\n",
    "    plt.ylabel('Best Test Accuracy (%)')\n",
    "    plt.title('Best Test Accuracy by Augmentation')\n",
    "    \n",
    "    plt.tight_layout()\n",
    "    plt.savefig(f'results/{filename}.png')\n",
    "    plt.close()\n"
   ]
  },
  {
   "cell_type": "code",
   "execution_count": 8,
   "metadata": {},
   "outputs": [],
   "source": [
    "def run_patch_size_experiment(device, num_epochs=15):\n",
    "    patch_sizes = [2, 4, 8]\n",
    "    all_results = {}\n",
    "    \n",
    "    base_config = {\n",
    "        'batch_size': 128,\n",
    "        'lr': 1e-3,\n",
    "        'weight_decay': 0.05,\n",
    "        'augmentation': 'default',\n",
    "    }\n",
    "    \n",
    "    for patch_size in patch_sizes:\n",
    "        print(f\"\\n=== Running experiment with patch_size={patch_size} ===\")\n",
    "        \n",
    "        if patch_size == 2:\n",
    "            embed_dim = 192\n",
    "            mlp_dim = 384\n",
    "        elif patch_size == 4:\n",
    "            embed_dim = 256\n",
    "            mlp_dim = 512\n",
    "        else:  # patch_size == 8\n",
    "            embed_dim = 384\n",
    "            mlp_dim = 768\n",
    "        \n",
    "        config = {**base_config, \n",
    "                  'patch_size': patch_size,\n",
    "                  'embed_dim': embed_dim,\n",
    "                  'depth': 6,\n",
    "                  'n_heads': 8,\n",
    "                  'mlp_dim': mlp_dim}\n",
    "        \n",
    "        _, results = train_model(config, device, num_epochs)\n",
    "        all_results[patch_size] = results\n",
    "    \n",
    "    plot_comparison_results(all_results, \"Patch Size\", \"vit_patch_size_comparison\")\n",
    "    \n",
    "    print(\"\\nFinal Best Test Accuracies:\")\n",
    "    for patch_size in patch_sizes:\n",
    "        print(f\"Patch Size = {patch_size}: {all_results[patch_size]['best_test_acc']:.2f}%\")\n",
    "    \n",
    "    return all_results\n",
    "\n",
    "def run_hyperparameter_exploration(device, num_epochs=50):\n",
    "    configs = [\n",
    "        # Base configuration\n",
    "        {\n",
    "            'patch_size': 4,\n",
    "            'embed_dim': 256,\n",
    "            'depth': 6,\n",
    "            'n_heads': 8,  \n",
    "            'mlp_dim': 512,\n",
    "            'batch_size': 128,\n",
    "            'lr': 1e-3,\n",
    "            'weight_decay': 0.05,\n",
    "            'augmentation': 'default',\n",
    "        },\n",
    "        # Variation 1: Deeper model\n",
    "        {\n",
    "            'patch_size': 4,\n",
    "            'embed_dim': 256,\n",
    "            'depth': 8,\n",
    "            'n_heads': 8,  \n",
    "            'mlp_dim': 512,\n",
    "            'batch_size': 128,\n",
    "            'lr': 1e-3,\n",
    "            'weight_decay': 0.05,\n",
    "            'augmentation': 'default',\n",
    "        },\n",
    "        # Variation 2: Wider model\n",
    "        {\n",
    "            'patch_size': 4,\n",
    "            'embed_dim': 384,\n",
    "            'depth': 6,\n",
    "            'n_heads': 12,  \n",
    "            'mlp_dim': 768,\n",
    "            'batch_size': 128,\n",
    "            'lr': 1e-3,\n",
    "            'weight_decay': 0.05,\n",
    "            'augmentation': 'default',\n",
    "        },\n",
    "        # Variation 3: More attention heads - FIXED\n",
    "        {\n",
    "            'patch_size': 4,\n",
    "            'embed_dim': 288,  \n",
    "            'depth': 6,\n",
    "            'n_heads': 12,\n",
    "            'mlp_dim': 576,    \n",
    "            'batch_size': 128,\n",
    "            'lr': 1e-3,\n",
    "            'weight_decay': 0.05,\n",
    "            'augmentation': 'default',\n",
    "        },\n",
    "        # Variation 4: Different learning rate\n",
    "        {\n",
    "            'patch_size': 4,\n",
    "            'embed_dim': 256,\n",
    "            'depth': 6,\n",
    "            'n_heads': 8,  \n",
    "            'mlp_dim': 512,\n",
    "            'batch_size': 128,\n",
    "            'lr': 5e-4,\n",
    "            'weight_decay': 0.05,\n",
    "            'augmentation': 'default',\n",
    "        },\n",
    "    ]\n",
    "    \n",
    "    all_results = []\n",
    "    \n",
    "    for i, config in enumerate(configs):\n",
    "        print(f\"\\n=== Running hyperparameter configuration {i+1}/{len(configs)} ===\")\n",
    "        \n",
    "        assert config['embed_dim'] % config['n_heads'] == 0, \\\n",
    "            f\"Configuration {i+1}: embed_dim ({config['embed_dim']}) must be divisible by n_heads ({config['n_heads']})\"\n",
    "        \n",
    "        _, results = train_model(config, device, num_epochs)\n",
    "        all_results.append(results)\n",
    "    \n",
    "    best_idx = max(range(len(all_results)), key=lambda i: all_results[i]['best_test_acc'])\n",
    "    best_config = configs[best_idx]\n",
    "    best_acc = all_results[best_idx]['best_test_acc']\n",
    "    \n",
    "    return best_config, all_results"
   ]
  },
  {
   "cell_type": "code",
   "execution_count": 9,
   "metadata": {},
   "outputs": [],
   "source": [
    "def run_augmentation_experiment(device, best_config, num_epochs=20):\n",
    "    augmentations = ['default', 'strong', 'autoaugment', 'cutmix']\n",
    "    all_results = {}\n",
    "    \n",
    "    for aug in augmentations:\n",
    "        print(f\"\\n=== Running experiment with augmentation={aug} ===\")\n",
    "        \n",
    "        config = {**best_config, 'augmentation': aug}\n",
    "        \n",
    "        _, results = train_model(config, device, num_epochs)\n",
    "        all_results[aug] = results\n",
    "    \n",
    "    plot_augmentation_results(all_results, \"Data Augmentation\", \"vit_augmentation_comparison\")\n",
    "    \n",
    "    print(\"\\nFinal Best Test Accuracies with Different Augmentations:\")\n",
    "    for aug in augmentations:\n",
    "        print(f\"{aug}: {all_results[aug]['best_test_acc']:.2f}%\")\n",
    "    \n",
    "    best_aug = max(augmentations, key=lambda aug: all_results[aug]['best_test_acc'])\n",
    "    best_aug_acc = all_results[best_aug]['best_test_acc']\n",
    "    \n",
    "    print(f\"\\nBest Augmentation: {best_aug} (Test Acc: {best_aug_acc:.2f}%)\")\n",
    "    \n",
    "    return all_results\n"
   ]
  },
  {
   "cell_type": "code",
   "execution_count": 23,
   "metadata": {},
   "outputs": [
    {
     "name": "stdout",
     "output_type": "stream",
     "text": [
      "Using device: cuda\n",
      "\n",
      "=== Running Patch Size Variation Experiment ===\n",
      "\n",
      "=== Running experiment with patch_size=2 ===\n",
      "\n",
      "Epoch 1/15\n"
     ]
    },
    {
     "name": "stderr",
     "output_type": "stream",
     "text": [
      "Training: 100%|██████████| 391/391 [00:54<00:00,  7.16it/s, loss=1.73, acc=35.3]\n"
     ]
    },
    {
     "name": "stdout",
     "output_type": "stream",
     "text": [
      "Train Loss: 1.7289, Train Acc: 35.34%\n",
      "Test Loss: 1.5368, Test Acc: 46.10%\n",
      "\n",
      "Epoch 2/15\n"
     ]
    },
    {
     "name": "stderr",
     "output_type": "stream",
     "text": [
      "Training: 100%|██████████| 391/391 [00:55<00:00,  7.10it/s, loss=1.32, acc=52.1]\n"
     ]
    },
    {
     "name": "stdout",
     "output_type": "stream",
     "text": [
      "Train Loss: 1.3186, Train Acc: 52.07%\n",
      "Test Loss: 1.2039, Test Acc: 56.28%\n",
      "\n",
      "Epoch 3/15\n"
     ]
    },
    {
     "name": "stderr",
     "output_type": "stream",
     "text": [
      "Training: 100%|██████████| 391/391 [00:55<00:00,  7.10it/s, loss=1.17, acc=57.7]\n"
     ]
    },
    {
     "name": "stdout",
     "output_type": "stream",
     "text": [
      "Train Loss: 1.1710, Train Acc: 57.65%\n",
      "Test Loss: 1.0859, Test Acc: 61.04%\n",
      "\n",
      "Epoch 4/15\n"
     ]
    },
    {
     "name": "stderr",
     "output_type": "stream",
     "text": [
      "Training: 100%|██████████| 391/391 [00:55<00:00,  7.09it/s, loss=1.06, acc=61.7]\n"
     ]
    },
    {
     "name": "stdout",
     "output_type": "stream",
     "text": [
      "Train Loss: 1.0636, Train Acc: 61.73%\n",
      "Test Loss: 0.9910, Test Acc: 64.75%\n",
      "\n",
      "Epoch 5/15\n"
     ]
    },
    {
     "name": "stderr",
     "output_type": "stream",
     "text": [
      "Training: 100%|██████████| 391/391 [00:55<00:00,  7.09it/s, loss=0.998, acc=64.2]\n"
     ]
    },
    {
     "name": "stdout",
     "output_type": "stream",
     "text": [
      "Train Loss: 0.9983, Train Acc: 64.23%\n",
      "Test Loss: 0.9401, Test Acc: 66.45%\n",
      "\n",
      "Epoch 6/15\n"
     ]
    },
    {
     "name": "stderr",
     "output_type": "stream",
     "text": [
      "Training: 100%|██████████| 391/391 [00:55<00:00,  7.09it/s, loss=0.923, acc=67.1]\n"
     ]
    },
    {
     "name": "stdout",
     "output_type": "stream",
     "text": [
      "Train Loss: 0.9232, Train Acc: 67.14%\n",
      "Test Loss: 0.9188, Test Acc: 67.71%\n",
      "\n",
      "Epoch 7/15\n"
     ]
    },
    {
     "name": "stderr",
     "output_type": "stream",
     "text": [
      "Training: 100%|██████████| 391/391 [00:55<00:00,  7.09it/s, loss=0.859, acc=69.3]\n"
     ]
    },
    {
     "name": "stdout",
     "output_type": "stream",
     "text": [
      "Train Loss: 0.8590, Train Acc: 69.32%\n",
      "Test Loss: 0.8166, Test Acc: 71.70%\n",
      "\n",
      "Epoch 8/15\n"
     ]
    },
    {
     "name": "stderr",
     "output_type": "stream",
     "text": [
      "Training: 100%|██████████| 391/391 [00:55<00:00,  7.10it/s, loss=0.801, acc=71.7]\n"
     ]
    },
    {
     "name": "stdout",
     "output_type": "stream",
     "text": [
      "Train Loss: 0.8012, Train Acc: 71.69%\n",
      "Test Loss: 0.8124, Test Acc: 71.74%\n",
      "\n",
      "Epoch 9/15\n"
     ]
    },
    {
     "name": "stderr",
     "output_type": "stream",
     "text": [
      "Training: 100%|██████████| 391/391 [00:55<00:00,  7.08it/s, loss=0.74, acc=73.7] \n"
     ]
    },
    {
     "name": "stdout",
     "output_type": "stream",
     "text": [
      "Train Loss: 0.7398, Train Acc: 73.71%\n",
      "Test Loss: 0.7692, Test Acc: 73.42%\n",
      "\n",
      "Epoch 10/15\n"
     ]
    },
    {
     "name": "stderr",
     "output_type": "stream",
     "text": [
      "Training: 100%|██████████| 391/391 [00:55<00:00,  7.09it/s, loss=0.69, acc=75.5] \n"
     ]
    },
    {
     "name": "stdout",
     "output_type": "stream",
     "text": [
      "Train Loss: 0.6897, Train Acc: 75.55%\n",
      "Test Loss: 0.7087, Test Acc: 75.64%\n",
      "\n",
      "Epoch 11/15\n"
     ]
    },
    {
     "name": "stderr",
     "output_type": "stream",
     "text": [
      "Training: 100%|██████████| 391/391 [00:55<00:00,  7.07it/s, loss=0.638, acc=77.6]\n"
     ]
    },
    {
     "name": "stdout",
     "output_type": "stream",
     "text": [
      "Train Loss: 0.6382, Train Acc: 77.61%\n",
      "Test Loss: 0.7202, Test Acc: 75.39%\n",
      "\n",
      "Epoch 12/15\n"
     ]
    },
    {
     "name": "stderr",
     "output_type": "stream",
     "text": [
      "Training: 100%|██████████| 391/391 [00:55<00:00,  7.07it/s, loss=0.59, acc=79]   \n"
     ]
    },
    {
     "name": "stdout",
     "output_type": "stream",
     "text": [
      "Train Loss: 0.5902, Train Acc: 79.03%\n",
      "Test Loss: 0.6674, Test Acc: 77.25%\n",
      "\n",
      "Epoch 13/15\n"
     ]
    },
    {
     "name": "stderr",
     "output_type": "stream",
     "text": [
      "Training: 100%|██████████| 391/391 [00:55<00:00,  7.08it/s, loss=0.548, acc=80.5]\n"
     ]
    },
    {
     "name": "stdout",
     "output_type": "stream",
     "text": [
      "Train Loss: 0.5483, Train Acc: 80.54%\n",
      "Test Loss: 0.6508, Test Acc: 78.12%\n",
      "\n",
      "Epoch 14/15\n"
     ]
    },
    {
     "name": "stderr",
     "output_type": "stream",
     "text": [
      "Training: 100%|██████████| 391/391 [00:55<00:00,  7.08it/s, loss=0.522, acc=81.4]\n"
     ]
    },
    {
     "name": "stdout",
     "output_type": "stream",
     "text": [
      "Train Loss: 0.5224, Train Acc: 81.45%\n",
      "Test Loss: 0.6345, Test Acc: 78.40%\n",
      "\n",
      "Epoch 15/15\n"
     ]
    },
    {
     "name": "stderr",
     "output_type": "stream",
     "text": [
      "Training: 100%|██████████| 391/391 [00:55<00:00,  7.08it/s, loss=0.507, acc=82.1]\n"
     ]
    },
    {
     "name": "stdout",
     "output_type": "stream",
     "text": [
      "Train Loss: 0.5070, Train Acc: 82.10%\n",
      "Test Loss: 0.6321, Test Acc: 78.89%\n",
      "\n",
      "=== Running experiment with patch_size=4 ===\n",
      "\n",
      "Epoch 1/15\n"
     ]
    },
    {
     "name": "stderr",
     "output_type": "stream",
     "text": [
      "Training: 100%|██████████| 391/391 [00:14<00:00, 26.68it/s, loss=1.76, acc=34.4]\n"
     ]
    },
    {
     "name": "stdout",
     "output_type": "stream",
     "text": [
      "Train Loss: 1.7471, Train Acc: 34.42%\n",
      "Test Loss: 1.5229, Test Acc: 45.32%\n",
      "\n",
      "Epoch 2/15\n"
     ]
    },
    {
     "name": "stderr",
     "output_type": "stream",
     "text": [
      "Training: 100%|██████████| 391/391 [00:14<00:00, 26.49it/s, loss=1.42, acc=48.3]\n"
     ]
    },
    {
     "name": "stdout",
     "output_type": "stream",
     "text": [
      "Train Loss: 1.4127, Train Acc: 48.34%\n",
      "Test Loss: 1.3161, Test Acc: 52.86%\n",
      "\n",
      "Epoch 3/15\n"
     ]
    },
    {
     "name": "stderr",
     "output_type": "stream",
     "text": [
      "Training: 100%|██████████| 391/391 [00:15<00:00, 26.04it/s, loss=1.27, acc=54]  \n"
     ]
    },
    {
     "name": "stdout",
     "output_type": "stream",
     "text": [
      "Train Loss: 1.2696, Train Acc: 54.02%\n",
      "Test Loss: 1.1720, Test Acc: 57.21%\n",
      "\n",
      "Epoch 4/15\n"
     ]
    },
    {
     "name": "stderr",
     "output_type": "stream",
     "text": [
      "Training: 100%|██████████| 391/391 [00:14<00:00, 26.60it/s, loss=1.18, acc=57.7]\n"
     ]
    },
    {
     "name": "stdout",
     "output_type": "stream",
     "text": [
      "Train Loss: 1.1728, Train Acc: 57.67%\n",
      "Test Loss: 1.1756, Test Acc: 59.42%\n",
      "\n",
      "Epoch 5/15\n"
     ]
    },
    {
     "name": "stderr",
     "output_type": "stream",
     "text": [
      "Training: 100%|██████████| 391/391 [00:14<00:00, 26.86it/s, loss=1.1, acc=61]   \n"
     ]
    },
    {
     "name": "stdout",
     "output_type": "stream",
     "text": [
      "Train Loss: 1.0909, Train Acc: 60.95%\n",
      "Test Loss: 1.0665, Test Acc: 61.97%\n",
      "\n",
      "Epoch 6/15\n"
     ]
    },
    {
     "name": "stderr",
     "output_type": "stream",
     "text": [
      "Training: 100%|██████████| 391/391 [00:14<00:00, 26.70it/s, loss=1.02, acc=63.7]\n"
     ]
    },
    {
     "name": "stdout",
     "output_type": "stream",
     "text": [
      "Train Loss: 1.0163, Train Acc: 63.73%\n",
      "Test Loss: 1.0324, Test Acc: 63.55%\n",
      "\n",
      "Epoch 7/15\n"
     ]
    },
    {
     "name": "stderr",
     "output_type": "stream",
     "text": [
      "Training: 100%|██████████| 391/391 [00:14<00:00, 26.83it/s, loss=0.953, acc=66.2]\n"
     ]
    },
    {
     "name": "stdout",
     "output_type": "stream",
     "text": [
      "Train Loss: 0.9485, Train Acc: 66.20%\n",
      "Test Loss: 0.8761, Test Acc: 69.01%\n",
      "\n",
      "Epoch 8/15\n"
     ]
    },
    {
     "name": "stderr",
     "output_type": "stream",
     "text": [
      "Training: 100%|██████████| 391/391 [00:14<00:00, 26.59it/s, loss=0.889, acc=68.9]\n"
     ]
    },
    {
     "name": "stdout",
     "output_type": "stream",
     "text": [
      "Train Loss: 0.8847, Train Acc: 68.85%\n",
      "Test Loss: 0.8389, Test Acc: 69.77%\n",
      "\n",
      "Epoch 9/15\n"
     ]
    },
    {
     "name": "stderr",
     "output_type": "stream",
     "text": [
      "Training: 100%|██████████| 391/391 [00:14<00:00, 26.60it/s, loss=0.816, acc=71.3]\n"
     ]
    },
    {
     "name": "stdout",
     "output_type": "stream",
     "text": [
      "Train Loss: 0.8115, Train Acc: 71.34%\n",
      "Test Loss: 0.7872, Test Acc: 72.55%\n",
      "\n",
      "Epoch 10/15\n"
     ]
    },
    {
     "name": "stderr",
     "output_type": "stream",
     "text": [
      "Training: 100%|██████████| 391/391 [00:14<00:00, 26.29it/s, loss=0.757, acc=73.3]\n"
     ]
    },
    {
     "name": "stdout",
     "output_type": "stream",
     "text": [
      "Train Loss: 0.7533, Train Acc: 73.33%\n",
      "Test Loss: 0.7371, Test Acc: 74.42%\n",
      "\n",
      "Epoch 11/15\n"
     ]
    },
    {
     "name": "stderr",
     "output_type": "stream",
     "text": [
      "Training: 100%|██████████| 391/391 [00:14<00:00, 26.53it/s, loss=0.702, acc=75.1]\n"
     ]
    },
    {
     "name": "stdout",
     "output_type": "stream",
     "text": [
      "Train Loss: 0.6988, Train Acc: 75.13%\n",
      "Test Loss: 0.6860, Test Acc: 76.03%\n",
      "\n",
      "Epoch 12/15\n"
     ]
    },
    {
     "name": "stderr",
     "output_type": "stream",
     "text": [
      "Training: 100%|██████████| 391/391 [00:14<00:00, 26.34it/s, loss=0.65, acc=77.2] \n"
     ]
    },
    {
     "name": "stdout",
     "output_type": "stream",
     "text": [
      "Train Loss: 0.6467, Train Acc: 77.17%\n",
      "Test Loss: 0.6714, Test Acc: 76.90%\n",
      "\n",
      "Epoch 13/15\n"
     ]
    },
    {
     "name": "stderr",
     "output_type": "stream",
     "text": [
      "Training: 100%|██████████| 391/391 [00:14<00:00, 26.72it/s, loss=0.607, acc=78.5]\n"
     ]
    },
    {
     "name": "stdout",
     "output_type": "stream",
     "text": [
      "Train Loss: 0.6040, Train Acc: 78.55%\n",
      "Test Loss: 0.6574, Test Acc: 77.40%\n",
      "\n",
      "Epoch 14/15\n"
     ]
    },
    {
     "name": "stderr",
     "output_type": "stream",
     "text": [
      "Training: 100%|██████████| 391/391 [00:14<00:00, 26.21it/s, loss=0.579, acc=79.7]\n"
     ]
    },
    {
     "name": "stdout",
     "output_type": "stream",
     "text": [
      "Train Loss: 0.5761, Train Acc: 79.74%\n",
      "Test Loss: 0.6404, Test Acc: 78.02%\n",
      "\n",
      "Epoch 15/15\n"
     ]
    },
    {
     "name": "stderr",
     "output_type": "stream",
     "text": [
      "Training: 100%|██████████| 391/391 [00:14<00:00, 26.35it/s, loss=0.554, acc=80.4]\n"
     ]
    },
    {
     "name": "stdout",
     "output_type": "stream",
     "text": [
      "Train Loss: 0.5530, Train Acc: 80.36%\n",
      "Test Loss: 0.6273, Test Acc: 78.71%\n",
      "\n",
      "=== Running experiment with patch_size=8 ===\n",
      "\n",
      "Epoch 1/15\n"
     ]
    },
    {
     "name": "stderr",
     "output_type": "stream",
     "text": [
      "Training: 100%|██████████| 391/391 [00:13<00:00, 29.81it/s, loss=2.18, acc=17.6]\n"
     ]
    },
    {
     "name": "stdout",
     "output_type": "stream",
     "text": [
      "Train Loss: 2.1759, Train Acc: 17.65%\n",
      "Test Loss: 2.2885, Test Acc: 12.76%\n",
      "\n",
      "Epoch 2/15\n"
     ]
    },
    {
     "name": "stderr",
     "output_type": "stream",
     "text": [
      "Training: 100%|██████████| 391/391 [00:13<00:00, 28.11it/s, loss=2.3, acc=10.3] \n"
     ]
    },
    {
     "name": "stdout",
     "output_type": "stream",
     "text": [
      "Train Loss: 2.3035, Train Acc: 10.34%\n",
      "Test Loss: 2.3054, Test Acc: 10.00%\n",
      "\n",
      "Epoch 3/15\n"
     ]
    },
    {
     "name": "stderr",
     "output_type": "stream",
     "text": [
      "Training: 100%|██████████| 391/391 [00:12<00:00, 30.74it/s, loss=2.32, acc=10.1]\n"
     ]
    },
    {
     "name": "stdout",
     "output_type": "stream",
     "text": [
      "Train Loss: 2.3060, Train Acc: 10.12%\n",
      "Test Loss: 2.3036, Test Acc: 10.00%\n",
      "\n",
      "Epoch 4/15\n"
     ]
    },
    {
     "name": "stderr",
     "output_type": "stream",
     "text": [
      "Training: 100%|██████████| 391/391 [00:12<00:00, 30.75it/s, loss=2.32, acc=9.97]\n"
     ]
    },
    {
     "name": "stdout",
     "output_type": "stream",
     "text": [
      "Train Loss: 2.3043, Train Acc: 9.97%\n",
      "Test Loss: 2.3046, Test Acc: 10.00%\n",
      "\n",
      "Epoch 5/15\n"
     ]
    },
    {
     "name": "stderr",
     "output_type": "stream",
     "text": [
      "Training: 100%|██████████| 391/391 [00:12<00:00, 30.40it/s, loss=2.3, acc=10.2] \n"
     ]
    },
    {
     "name": "stdout",
     "output_type": "stream",
     "text": [
      "Train Loss: 2.3041, Train Acc: 10.17%\n",
      "Test Loss: 2.3031, Test Acc: 10.00%\n",
      "\n",
      "Epoch 6/15\n"
     ]
    },
    {
     "name": "stderr",
     "output_type": "stream",
     "text": [
      "Training: 100%|██████████| 391/391 [00:12<00:00, 31.41it/s, loss=2.31, acc=10.1]\n"
     ]
    },
    {
     "name": "stdout",
     "output_type": "stream",
     "text": [
      "Train Loss: 2.3038, Train Acc: 10.05%\n",
      "Test Loss: 2.3033, Test Acc: 10.00%\n",
      "\n",
      "Epoch 7/15\n"
     ]
    },
    {
     "name": "stderr",
     "output_type": "stream",
     "text": [
      "Training: 100%|██████████| 391/391 [00:12<00:00, 30.96it/s, loss=2.32, acc=9.88]\n"
     ]
    },
    {
     "name": "stdout",
     "output_type": "stream",
     "text": [
      "Train Loss: 2.3035, Train Acc: 9.88%\n",
      "Test Loss: 2.3036, Test Acc: 10.00%\n",
      "\n",
      "Epoch 8/15\n"
     ]
    },
    {
     "name": "stderr",
     "output_type": "stream",
     "text": [
      "Training: 100%|██████████| 391/391 [00:13<00:00, 29.62it/s, loss=2.32, acc=10.3]\n"
     ]
    },
    {
     "name": "stdout",
     "output_type": "stream",
     "text": [
      "Train Loss: 2.3030, Train Acc: 10.28%\n",
      "Test Loss: 2.3027, Test Acc: 10.00%\n",
      "\n",
      "Epoch 9/15\n"
     ]
    },
    {
     "name": "stderr",
     "output_type": "stream",
     "text": [
      "Training: 100%|██████████| 391/391 [00:13<00:00, 29.66it/s, loss=2.32, acc=9.48]\n"
     ]
    },
    {
     "name": "stdout",
     "output_type": "stream",
     "text": [
      "Train Loss: 2.3033, Train Acc: 9.48%\n",
      "Test Loss: 2.3027, Test Acc: 10.00%\n",
      "\n",
      "Epoch 10/15\n"
     ]
    },
    {
     "name": "stderr",
     "output_type": "stream",
     "text": [
      "Training: 100%|██████████| 391/391 [00:13<00:00, 29.56it/s, loss=2.31, acc=10]  \n"
     ]
    },
    {
     "name": "stdout",
     "output_type": "stream",
     "text": [
      "Train Loss: 2.3030, Train Acc: 10.01%\n",
      "Test Loss: 2.3027, Test Acc: 10.00%\n",
      "\n",
      "Epoch 11/15\n"
     ]
    },
    {
     "name": "stderr",
     "output_type": "stream",
     "text": [
      "Training: 100%|██████████| 391/391 [00:12<00:00, 31.79it/s, loss=2.31, acc=9.94]\n"
     ]
    },
    {
     "name": "stdout",
     "output_type": "stream",
     "text": [
      "Train Loss: 2.3029, Train Acc: 9.94%\n",
      "Test Loss: 2.3028, Test Acc: 10.00%\n",
      "\n",
      "Epoch 12/15\n"
     ]
    },
    {
     "name": "stderr",
     "output_type": "stream",
     "text": [
      "Training: 100%|██████████| 391/391 [00:12<00:00, 30.64it/s, loss=2.31, acc=9.7] \n"
     ]
    },
    {
     "name": "stdout",
     "output_type": "stream",
     "text": [
      "Train Loss: 2.3030, Train Acc: 9.70%\n",
      "Test Loss: 2.3026, Test Acc: 10.00%\n",
      "\n",
      "Epoch 13/15\n"
     ]
    },
    {
     "name": "stderr",
     "output_type": "stream",
     "text": [
      "Training: 100%|██████████| 391/391 [00:11<00:00, 34.07it/s, loss=2.31, acc=9.84]\n"
     ]
    },
    {
     "name": "stdout",
     "output_type": "stream",
     "text": [
      "Train Loss: 2.3027, Train Acc: 9.84%\n",
      "Test Loss: 2.3026, Test Acc: 10.00%\n",
      "\n",
      "Epoch 14/15\n"
     ]
    },
    {
     "name": "stderr",
     "output_type": "stream",
     "text": [
      "Training: 100%|██████████| 391/391 [00:13<00:00, 29.24it/s, loss=2.31, acc=9.79]\n"
     ]
    },
    {
     "name": "stdout",
     "output_type": "stream",
     "text": [
      "Train Loss: 2.3027, Train Acc: 9.79%\n",
      "Test Loss: 2.3026, Test Acc: 10.00%\n",
      "\n",
      "Epoch 15/15\n"
     ]
    },
    {
     "name": "stderr",
     "output_type": "stream",
     "text": [
      "Training: 100%|██████████| 391/391 [00:12<00:00, 30.38it/s, loss=2.32, acc=10]  \n"
     ]
    },
    {
     "name": "stdout",
     "output_type": "stream",
     "text": [
      "Train Loss: 2.3027, Train Acc: 10.03%\n",
      "Test Loss: 2.3026, Test Acc: 10.00%\n",
      "\n",
      "Final Best Test Accuracies:\n",
      "Patch Size = 2: 78.89%\n",
      "Patch Size = 4: 78.71%\n",
      "Patch Size = 8: 12.76%\n"
     ]
    }
   ],
   "source": [
    "torch.manual_seed(42)\n",
    "np.random.seed(42)\n",
    "\n",
    "device = torch.device('cuda' if torch.cuda.is_available() else 'cpu')\n",
    "print(f\"Using device: {device}\")\n",
    "\n",
    "if not os.path.exists('results'):\n",
    "    os.makedirs('results')\n",
    "\n",
    "experiments_to_run = ['patch_size', 'hyperparameters', 'augmentation']\n",
    "\n",
    "results = {}\n",
    "\n",
    "if 'patch_size' in experiments_to_run:\n",
    "    print(\"\\n=== Running Patch Size Variation Experiment ===\")\n",
    "    results['patch_size'] = run_patch_size_experiment(device)"
   ]
  },
  {
   "cell_type": "markdown",
   "metadata": {},
   "source": [
    "Patch size 8 performs terribly (~10% accuracy) because it divides 32×32 CIFAR-10 images into only 4×4=16 patches, creating an extreme information bottleneck that loses critical details needed for classification. In contrast, patch sizes 2 and 4 work well because they preserve sufficient spatial resolution while providing enough tokens for the attention mechanism to learn meaningful relationships. The results confirm that appropriate patch size selection is critical relative to input image dimensions."
   ]
  },
  {
   "cell_type": "code",
   "execution_count": 35,
   "metadata": {},
   "outputs": [
    {
     "name": "stdout",
     "output_type": "stream",
     "text": [
      "\n",
      "=== Running Hyperparameter Exploration ===\n",
      "\n",
      "=== Running hyperparameter configuration 1/5 ===\n",
      "\n",
      "Epoch 1/50\n"
     ]
    },
    {
     "name": "stderr",
     "output_type": "stream",
     "text": [
      "Training: 100%|██████████| 391/391 [00:14<00:00, 27.03it/s, loss=1.77, acc=34.2]\n"
     ]
    },
    {
     "name": "stdout",
     "output_type": "stream",
     "text": [
      "Train Loss: 1.7611, Train Acc: 34.20%\n",
      "Test Loss: 1.4996, Test Acc: 44.66%\n",
      "\n",
      "Epoch 2/50\n"
     ]
    },
    {
     "name": "stderr",
     "output_type": "stream",
     "text": [
      "Training: 100%|██████████| 391/391 [00:14<00:00, 26.83it/s, loss=1.43, acc=47.9]\n"
     ]
    },
    {
     "name": "stdout",
     "output_type": "stream",
     "text": [
      "Train Loss: 1.4223, Train Acc: 47.87%\n",
      "Test Loss: 1.2701, Test Acc: 53.64%\n",
      "\n",
      "Epoch 3/50\n"
     ]
    },
    {
     "name": "stderr",
     "output_type": "stream",
     "text": [
      "Training: 100%|██████████| 391/391 [00:14<00:00, 26.73it/s, loss=1.31, acc=52.8]\n"
     ]
    },
    {
     "name": "stdout",
     "output_type": "stream",
     "text": [
      "Train Loss: 1.3048, Train Acc: 52.81%\n",
      "Test Loss: 1.2282, Test Acc: 54.70%\n",
      "\n",
      "Epoch 4/50\n"
     ]
    },
    {
     "name": "stderr",
     "output_type": "stream",
     "text": [
      "Training: 100%|██████████| 391/391 [00:14<00:00, 26.64it/s, loss=1.22, acc=56.2]\n"
     ]
    },
    {
     "name": "stdout",
     "output_type": "stream",
     "text": [
      "Train Loss: 1.2170, Train Acc: 56.21%\n",
      "Test Loss: 1.1393, Test Acc: 58.79%\n",
      "\n",
      "Epoch 5/50\n"
     ]
    },
    {
     "name": "stderr",
     "output_type": "stream",
     "text": [
      "Training: 100%|██████████| 391/391 [00:14<00:00, 26.61it/s, loss=1.15, acc=58.9]\n"
     ]
    },
    {
     "name": "stdout",
     "output_type": "stream",
     "text": [
      "Train Loss: 1.1441, Train Acc: 58.93%\n",
      "Test Loss: 1.1098, Test Acc: 59.61%\n",
      "\n",
      "Epoch 6/50\n"
     ]
    },
    {
     "name": "stderr",
     "output_type": "stream",
     "text": [
      "Training: 100%|██████████| 391/391 [00:14<00:00, 26.38it/s, loss=1.09, acc=61.2]\n"
     ]
    },
    {
     "name": "stdout",
     "output_type": "stream",
     "text": [
      "Train Loss: 1.0839, Train Acc: 61.19%\n",
      "Test Loss: 1.0645, Test Acc: 61.99%\n",
      "\n",
      "Epoch 7/50\n"
     ]
    },
    {
     "name": "stderr",
     "output_type": "stream",
     "text": [
      "Training: 100%|██████████| 391/391 [00:14<00:00, 26.82it/s, loss=1.04, acc=63]  \n"
     ]
    },
    {
     "name": "stdout",
     "output_type": "stream",
     "text": [
      "Train Loss: 1.0352, Train Acc: 62.99%\n",
      "Test Loss: 0.9746, Test Acc: 64.27%\n",
      "\n",
      "Epoch 8/50\n"
     ]
    },
    {
     "name": "stderr",
     "output_type": "stream",
     "text": [
      "Training: 100%|██████████| 391/391 [00:14<00:00, 26.59it/s, loss=0.992, acc=64.7]\n"
     ]
    },
    {
     "name": "stdout",
     "output_type": "stream",
     "text": [
      "Train Loss: 0.9874, Train Acc: 64.69%\n",
      "Test Loss: 0.9497, Test Acc: 66.23%\n",
      "\n",
      "Epoch 9/50\n"
     ]
    },
    {
     "name": "stderr",
     "output_type": "stream",
     "text": [
      "Training: 100%|██████████| 391/391 [00:14<00:00, 26.61it/s, loss=0.953, acc=66.2]\n"
     ]
    },
    {
     "name": "stdout",
     "output_type": "stream",
     "text": [
      "Train Loss: 0.9481, Train Acc: 66.20%\n",
      "Test Loss: 0.9447, Test Acc: 67.31%\n",
      "\n",
      "Epoch 10/50\n"
     ]
    },
    {
     "name": "stderr",
     "output_type": "stream",
     "text": [
      "Training: 100%|██████████| 391/391 [00:14<00:00, 26.24it/s, loss=0.922, acc=67.6]\n"
     ]
    },
    {
     "name": "stdout",
     "output_type": "stream",
     "text": [
      "Train Loss: 0.9170, Train Acc: 67.55%\n",
      "Test Loss: 0.8267, Test Acc: 70.85%\n",
      "\n",
      "Epoch 11/50\n"
     ]
    },
    {
     "name": "stderr",
     "output_type": "stream",
     "text": [
      "Training: 100%|██████████| 391/391 [00:14<00:00, 26.43it/s, loss=0.888, acc=68.6]\n"
     ]
    },
    {
     "name": "stdout",
     "output_type": "stream",
     "text": [
      "Train Loss: 0.8837, Train Acc: 68.63%\n",
      "Test Loss: 0.8922, Test Acc: 67.76%\n",
      "\n",
      "Epoch 12/50\n"
     ]
    },
    {
     "name": "stderr",
     "output_type": "stream",
     "text": [
      "Training: 100%|██████████| 391/391 [00:14<00:00, 26.21it/s, loss=0.855, acc=69.8]\n"
     ]
    },
    {
     "name": "stdout",
     "output_type": "stream",
     "text": [
      "Train Loss: 0.8505, Train Acc: 69.81%\n",
      "Test Loss: 0.8066, Test Acc: 71.58%\n",
      "\n",
      "Epoch 13/50\n"
     ]
    },
    {
     "name": "stderr",
     "output_type": "stream",
     "text": [
      "Training: 100%|██████████| 391/391 [00:14<00:00, 26.50it/s, loss=0.834, acc=70.6]\n"
     ]
    },
    {
     "name": "stdout",
     "output_type": "stream",
     "text": [
      "Train Loss: 0.8297, Train Acc: 70.64%\n",
      "Test Loss: 0.8006, Test Acc: 71.53%\n",
      "\n",
      "Epoch 14/50\n"
     ]
    },
    {
     "name": "stderr",
     "output_type": "stream",
     "text": [
      "Training: 100%|██████████| 391/391 [00:14<00:00, 26.13it/s, loss=0.795, acc=72]  \n"
     ]
    },
    {
     "name": "stdout",
     "output_type": "stream",
     "text": [
      "Train Loss: 0.7927, Train Acc: 71.95%\n",
      "Test Loss: 0.7604, Test Acc: 73.03%\n",
      "\n",
      "Epoch 15/50\n"
     ]
    },
    {
     "name": "stderr",
     "output_type": "stream",
     "text": [
      "Training: 100%|██████████| 391/391 [00:14<00:00, 26.51it/s, loss=0.773, acc=72.8]\n"
     ]
    },
    {
     "name": "stdout",
     "output_type": "stream",
     "text": [
      "Train Loss: 0.7691, Train Acc: 72.79%\n",
      "Test Loss: 0.7092, Test Acc: 75.00%\n",
      "\n",
      "Epoch 16/50\n"
     ]
    },
    {
     "name": "stderr",
     "output_type": "stream",
     "text": [
      "Training: 100%|██████████| 391/391 [00:14<00:00, 26.22it/s, loss=0.752, acc=73.8]\n"
     ]
    },
    {
     "name": "stdout",
     "output_type": "stream",
     "text": [
      "Train Loss: 0.7486, Train Acc: 73.76%\n",
      "Test Loss: 0.7197, Test Acc: 75.00%\n",
      "\n",
      "Epoch 17/50\n"
     ]
    },
    {
     "name": "stderr",
     "output_type": "stream",
     "text": [
      "Training: 100%|██████████| 391/391 [00:14<00:00, 26.09it/s, loss=0.724, acc=74.5]\n"
     ]
    },
    {
     "name": "stdout",
     "output_type": "stream",
     "text": [
      "Train Loss: 0.7203, Train Acc: 74.49%\n",
      "Test Loss: 0.6904, Test Acc: 75.72%\n",
      "\n",
      "Epoch 18/50\n"
     ]
    },
    {
     "name": "stderr",
     "output_type": "stream",
     "text": [
      "Training: 100%|██████████| 391/391 [00:14<00:00, 26.51it/s, loss=0.706, acc=75.3]\n"
     ]
    },
    {
     "name": "stdout",
     "output_type": "stream",
     "text": [
      "Train Loss: 0.7025, Train Acc: 75.31%\n",
      "Test Loss: 0.6731, Test Acc: 76.40%\n",
      "\n",
      "Epoch 19/50\n"
     ]
    },
    {
     "name": "stderr",
     "output_type": "stream",
     "text": [
      "Training: 100%|██████████| 391/391 [00:14<00:00, 26.59it/s, loss=0.687, acc=75.9]\n"
     ]
    },
    {
     "name": "stdout",
     "output_type": "stream",
     "text": [
      "Train Loss: 0.6830, Train Acc: 75.92%\n",
      "Test Loss: 0.7143, Test Acc: 75.31%\n",
      "\n",
      "Epoch 20/50\n"
     ]
    },
    {
     "name": "stderr",
     "output_type": "stream",
     "text": [
      "Training: 100%|██████████| 391/391 [00:14<00:00, 26.21it/s, loss=0.665, acc=76.6]\n"
     ]
    },
    {
     "name": "stdout",
     "output_type": "stream",
     "text": [
      "Train Loss: 0.6615, Train Acc: 76.62%\n",
      "Test Loss: 0.6803, Test Acc: 76.55%\n",
      "\n",
      "Epoch 21/50\n"
     ]
    },
    {
     "name": "stderr",
     "output_type": "stream",
     "text": [
      "Training: 100%|██████████| 391/391 [00:14<00:00, 26.45it/s, loss=0.642, acc=77.4]\n"
     ]
    },
    {
     "name": "stdout",
     "output_type": "stream",
     "text": [
      "Train Loss: 0.6387, Train Acc: 77.38%\n",
      "Test Loss: 0.6733, Test Acc: 77.01%\n",
      "\n",
      "Epoch 22/50\n"
     ]
    },
    {
     "name": "stderr",
     "output_type": "stream",
     "text": [
      "Training: 100%|██████████| 391/391 [00:14<00:00, 26.18it/s, loss=0.618, acc=78.1]\n"
     ]
    },
    {
     "name": "stdout",
     "output_type": "stream",
     "text": [
      "Train Loss: 0.6166, Train Acc: 78.11%\n",
      "Test Loss: 0.6653, Test Acc: 77.37%\n",
      "\n",
      "Epoch 23/50\n"
     ]
    },
    {
     "name": "stderr",
     "output_type": "stream",
     "text": [
      "Training: 100%|██████████| 391/391 [00:14<00:00, 26.29it/s, loss=0.598, acc=78.9]\n"
     ]
    },
    {
     "name": "stdout",
     "output_type": "stream",
     "text": [
      "Train Loss: 0.5947, Train Acc: 78.94%\n",
      "Test Loss: 0.5997, Test Acc: 79.30%\n",
      "\n",
      "Epoch 24/50\n"
     ]
    },
    {
     "name": "stderr",
     "output_type": "stream",
     "text": [
      "Training: 100%|██████████| 391/391 [00:15<00:00, 26.05it/s, loss=0.576, acc=79.7]\n"
     ]
    },
    {
     "name": "stdout",
     "output_type": "stream",
     "text": [
      "Train Loss: 0.5727, Train Acc: 79.70%\n",
      "Test Loss: 0.6115, Test Acc: 79.39%\n",
      "\n",
      "Epoch 25/50\n"
     ]
    },
    {
     "name": "stderr",
     "output_type": "stream",
     "text": [
      "Training: 100%|██████████| 391/391 [00:14<00:00, 26.46it/s, loss=0.558, acc=80.3]\n"
     ]
    },
    {
     "name": "stdout",
     "output_type": "stream",
     "text": [
      "Train Loss: 0.5550, Train Acc: 80.28%\n",
      "Test Loss: 0.6264, Test Acc: 78.66%\n",
      "\n",
      "Epoch 26/50\n"
     ]
    },
    {
     "name": "stderr",
     "output_type": "stream",
     "text": [
      "Training: 100%|██████████| 391/391 [00:14<00:00, 26.45it/s, loss=0.533, acc=81.1]\n"
     ]
    },
    {
     "name": "stdout",
     "output_type": "stream",
     "text": [
      "Train Loss: 0.5334, Train Acc: 81.15%\n",
      "Test Loss: 0.5796, Test Acc: 80.02%\n",
      "\n",
      "Epoch 27/50\n"
     ]
    },
    {
     "name": "stderr",
     "output_type": "stream",
     "text": [
      "Training: 100%|██████████| 391/391 [00:31<00:00, 12.52it/s, loss=0.52, acc=81.7] \n"
     ]
    },
    {
     "name": "stdout",
     "output_type": "stream",
     "text": [
      "Train Loss: 0.5189, Train Acc: 81.68%\n",
      "Test Loss: 0.5919, Test Acc: 80.02%\n",
      "\n",
      "Epoch 28/50\n"
     ]
    },
    {
     "name": "stderr",
     "output_type": "stream",
     "text": [
      "Training: 100%|██████████| 391/391 [00:14<00:00, 26.55it/s, loss=0.494, acc=82.7]\n"
     ]
    },
    {
     "name": "stdout",
     "output_type": "stream",
     "text": [
      "Train Loss: 0.4917, Train Acc: 82.72%\n",
      "Test Loss: 0.5620, Test Acc: 81.47%\n",
      "\n",
      "Epoch 29/50\n"
     ]
    },
    {
     "name": "stderr",
     "output_type": "stream",
     "text": [
      "Training: 100%|██████████| 391/391 [00:14<00:00, 26.49it/s, loss=0.474, acc=83.3]\n"
     ]
    },
    {
     "name": "stdout",
     "output_type": "stream",
     "text": [
      "Train Loss: 0.4717, Train Acc: 83.27%\n",
      "Test Loss: 0.5731, Test Acc: 81.18%\n",
      "\n",
      "Epoch 30/50\n"
     ]
    },
    {
     "name": "stderr",
     "output_type": "stream",
     "text": [
      "Training: 100%|██████████| 391/391 [00:14<00:00, 26.19it/s, loss=0.456, acc=83.8]\n"
     ]
    },
    {
     "name": "stdout",
     "output_type": "stream",
     "text": [
      "Train Loss: 0.4540, Train Acc: 83.76%\n",
      "Test Loss: 0.5660, Test Acc: 81.27%\n",
      "\n",
      "Epoch 31/50\n"
     ]
    },
    {
     "name": "stderr",
     "output_type": "stream",
     "text": [
      "Training: 100%|██████████| 391/391 [00:14<00:00, 26.57it/s, loss=0.431, acc=84.8]\n"
     ]
    },
    {
     "name": "stdout",
     "output_type": "stream",
     "text": [
      "Train Loss: 0.4284, Train Acc: 84.81%\n",
      "Test Loss: 0.5415, Test Acc: 82.17%\n",
      "\n",
      "Epoch 32/50\n"
     ]
    },
    {
     "name": "stderr",
     "output_type": "stream",
     "text": [
      "Training: 100%|██████████| 391/391 [00:14<00:00, 26.45it/s, loss=0.413, acc=85.6]\n"
     ]
    },
    {
     "name": "stdout",
     "output_type": "stream",
     "text": [
      "Train Loss: 0.4112, Train Acc: 85.56%\n",
      "Test Loss: 0.5531, Test Acc: 81.53%\n",
      "\n",
      "Epoch 33/50\n"
     ]
    },
    {
     "name": "stderr",
     "output_type": "stream",
     "text": [
      "Training: 100%|██████████| 391/391 [00:14<00:00, 26.46it/s, loss=0.39, acc=85.9] \n"
     ]
    },
    {
     "name": "stdout",
     "output_type": "stream",
     "text": [
      "Train Loss: 0.3884, Train Acc: 85.91%\n",
      "Test Loss: 0.5651, Test Acc: 81.97%\n",
      "\n",
      "Epoch 34/50\n"
     ]
    },
    {
     "name": "stderr",
     "output_type": "stream",
     "text": [
      "Training: 100%|██████████| 391/391 [00:14<00:00, 26.50it/s, loss=0.374, acc=86.6]\n"
     ]
    },
    {
     "name": "stdout",
     "output_type": "stream",
     "text": [
      "Train Loss: 0.3722, Train Acc: 86.57%\n",
      "Test Loss: 0.5479, Test Acc: 82.16%\n",
      "\n",
      "Epoch 35/50\n"
     ]
    },
    {
     "name": "stderr",
     "output_type": "stream",
     "text": [
      "Training: 100%|██████████| 391/391 [00:14<00:00, 26.78it/s, loss=0.35, acc=87.5] \n"
     ]
    },
    {
     "name": "stdout",
     "output_type": "stream",
     "text": [
      "Train Loss: 0.3482, Train Acc: 87.53%\n",
      "Test Loss: 0.5254, Test Acc: 82.72%\n",
      "\n",
      "Epoch 36/50\n"
     ]
    },
    {
     "name": "stderr",
     "output_type": "stream",
     "text": [
      "Training: 100%|██████████| 391/391 [00:14<00:00, 26.68it/s, loss=0.336, acc=88]  \n"
     ]
    },
    {
     "name": "stdout",
     "output_type": "stream",
     "text": [
      "Train Loss: 0.3347, Train Acc: 87.95%\n",
      "Test Loss: 0.5322, Test Acc: 83.11%\n",
      "\n",
      "Epoch 37/50\n"
     ]
    },
    {
     "name": "stderr",
     "output_type": "stream",
     "text": [
      "Training: 100%|██████████| 391/391 [00:14<00:00, 26.63it/s, loss=0.319, acc=88.7]\n"
     ]
    },
    {
     "name": "stdout",
     "output_type": "stream",
     "text": [
      "Train Loss: 0.3171, Train Acc: 88.68%\n",
      "Test Loss: 0.5585, Test Acc: 82.43%\n",
      "\n",
      "Epoch 38/50\n"
     ]
    },
    {
     "name": "stderr",
     "output_type": "stream",
     "text": [
      "Training: 100%|██████████| 391/391 [00:14<00:00, 26.47it/s, loss=0.296, acc=89.5]\n"
     ]
    },
    {
     "name": "stdout",
     "output_type": "stream",
     "text": [
      "Train Loss: 0.2948, Train Acc: 89.46%\n",
      "Test Loss: 0.5360, Test Acc: 83.35%\n",
      "\n",
      "Epoch 39/50\n"
     ]
    },
    {
     "name": "stderr",
     "output_type": "stream",
     "text": [
      "Training: 100%|██████████| 391/391 [00:14<00:00, 26.53it/s, loss=0.279, acc=90.2]\n"
     ]
    },
    {
     "name": "stdout",
     "output_type": "stream",
     "text": [
      "Train Loss: 0.2780, Train Acc: 90.20%\n",
      "Test Loss: 0.5544, Test Acc: 83.27%\n",
      "\n",
      "Epoch 40/50\n"
     ]
    },
    {
     "name": "stderr",
     "output_type": "stream",
     "text": [
      "Training: 100%|██████████| 391/391 [00:14<00:00, 26.47it/s, loss=0.267, acc=90.4]\n"
     ]
    },
    {
     "name": "stdout",
     "output_type": "stream",
     "text": [
      "Train Loss: 0.2659, Train Acc: 90.40%\n",
      "Test Loss: 0.5503, Test Acc: 83.15%\n",
      "\n",
      "Epoch 41/50\n"
     ]
    },
    {
     "name": "stderr",
     "output_type": "stream",
     "text": [
      "Training: 100%|██████████| 391/391 [00:14<00:00, 26.60it/s, loss=0.251, acc=91]  \n"
     ]
    },
    {
     "name": "stdout",
     "output_type": "stream",
     "text": [
      "Train Loss: 0.2502, Train Acc: 91.00%\n",
      "Test Loss: 0.5601, Test Acc: 83.19%\n",
      "\n",
      "Epoch 42/50\n"
     ]
    },
    {
     "name": "stderr",
     "output_type": "stream",
     "text": [
      "Training: 100%|██████████| 391/391 [00:14<00:00, 26.44it/s, loss=0.246, acc=91.2]\n"
     ]
    },
    {
     "name": "stdout",
     "output_type": "stream",
     "text": [
      "Train Loss: 0.2443, Train Acc: 91.20%\n",
      "Test Loss: 0.5491, Test Acc: 83.61%\n",
      "\n",
      "Epoch 43/50\n"
     ]
    },
    {
     "name": "stderr",
     "output_type": "stream",
     "text": [
      "Training: 100%|██████████| 391/391 [00:14<00:00, 26.44it/s, loss=0.231, acc=91.7]\n"
     ]
    },
    {
     "name": "stdout",
     "output_type": "stream",
     "text": [
      "Train Loss: 0.2297, Train Acc: 91.71%\n",
      "Test Loss: 0.5681, Test Acc: 83.50%\n",
      "\n",
      "Epoch 44/50\n"
     ]
    },
    {
     "name": "stderr",
     "output_type": "stream",
     "text": [
      "Training: 100%|██████████| 391/391 [00:14<00:00, 26.48it/s, loss=0.222, acc=92.1]\n"
     ]
    },
    {
     "name": "stdout",
     "output_type": "stream",
     "text": [
      "Train Loss: 0.2212, Train Acc: 92.06%\n",
      "Test Loss: 0.5682, Test Acc: 83.81%\n",
      "\n",
      "Epoch 45/50\n"
     ]
    },
    {
     "name": "stderr",
     "output_type": "stream",
     "text": [
      "Training: 100%|██████████| 391/391 [00:14<00:00, 26.51it/s, loss=0.215, acc=92.4]\n"
     ]
    },
    {
     "name": "stdout",
     "output_type": "stream",
     "text": [
      "Train Loss: 0.2143, Train Acc: 92.40%\n",
      "Test Loss: 0.5721, Test Acc: 83.44%\n",
      "\n",
      "Epoch 46/50\n"
     ]
    },
    {
     "name": "stderr",
     "output_type": "stream",
     "text": [
      "Training: 100%|██████████| 391/391 [00:15<00:00, 26.01it/s, loss=0.208, acc=92.5]\n"
     ]
    },
    {
     "name": "stdout",
     "output_type": "stream",
     "text": [
      "Train Loss: 0.2072, Train Acc: 92.55%\n",
      "Test Loss: 0.5689, Test Acc: 83.52%\n",
      "\n",
      "Epoch 47/50\n"
     ]
    },
    {
     "name": "stderr",
     "output_type": "stream",
     "text": [
      "Training: 100%|██████████| 391/391 [00:15<00:00, 26.05it/s, loss=0.201, acc=92.8]\n"
     ]
    },
    {
     "name": "stdout",
     "output_type": "stream",
     "text": [
      "Train Loss: 0.2002, Train Acc: 92.82%\n",
      "Test Loss: 0.5723, Test Acc: 83.35%\n",
      "\n",
      "Epoch 48/50\n"
     ]
    },
    {
     "name": "stderr",
     "output_type": "stream",
     "text": [
      "Training: 100%|██████████| 391/391 [00:14<00:00, 26.22it/s, loss=0.199, acc=93]  \n"
     ]
    },
    {
     "name": "stdout",
     "output_type": "stream",
     "text": [
      "Train Loss: 0.1976, Train Acc: 92.96%\n",
      "Test Loss: 0.5690, Test Acc: 83.63%\n",
      "\n",
      "Epoch 49/50\n"
     ]
    },
    {
     "name": "stderr",
     "output_type": "stream",
     "text": [
      "Training: 100%|██████████| 391/391 [00:14<00:00, 26.43it/s, loss=0.196, acc=93]  \n"
     ]
    },
    {
     "name": "stdout",
     "output_type": "stream",
     "text": [
      "Train Loss: 0.1945, Train Acc: 93.01%\n",
      "Test Loss: 0.5708, Test Acc: 83.59%\n",
      "\n",
      "Epoch 50/50\n"
     ]
    },
    {
     "name": "stderr",
     "output_type": "stream",
     "text": [
      "Training: 100%|██████████| 391/391 [00:14<00:00, 26.47it/s, loss=0.195, acc=93.1]\n"
     ]
    },
    {
     "name": "stdout",
     "output_type": "stream",
     "text": [
      "Train Loss: 0.1943, Train Acc: 93.07%\n",
      "Test Loss: 0.5706, Test Acc: 83.62%\n",
      "\n",
      "=== Running hyperparameter configuration 2/5 ===\n",
      "\n",
      "Epoch 1/50\n"
     ]
    },
    {
     "name": "stderr",
     "output_type": "stream",
     "text": [
      "Training: 100%|██████████| 391/391 [00:18<00:00, 20.61it/s, loss=1.81, acc=31.5]\n"
     ]
    },
    {
     "name": "stdout",
     "output_type": "stream",
     "text": [
      "Train Loss: 1.8141, Train Acc: 31.48%\n",
      "Test Loss: 1.5792, Test Acc: 41.59%\n",
      "\n",
      "Epoch 2/50\n"
     ]
    },
    {
     "name": "stderr",
     "output_type": "stream",
     "text": [
      "Training: 100%|██████████| 391/391 [00:19<00:00, 20.19it/s, loss=1.5, acc=45.3] \n"
     ]
    },
    {
     "name": "stdout",
     "output_type": "stream",
     "text": [
      "Train Loss: 1.4947, Train Acc: 45.28%\n",
      "Test Loss: 1.3666, Test Acc: 50.03%\n",
      "\n",
      "Epoch 3/50\n"
     ]
    },
    {
     "name": "stderr",
     "output_type": "stream",
     "text": [
      "Training: 100%|██████████| 391/391 [00:19<00:00, 20.52it/s, loss=1.37, acc=50.8]\n"
     ]
    },
    {
     "name": "stdout",
     "output_type": "stream",
     "text": [
      "Train Loss: 1.3585, Train Acc: 50.76%\n",
      "Test Loss: 1.2304, Test Acc: 54.98%\n",
      "\n",
      "Epoch 4/50\n"
     ]
    },
    {
     "name": "stderr",
     "output_type": "stream",
     "text": [
      "Training: 100%|██████████| 391/391 [00:19<00:00, 20.51it/s, loss=1.26, acc=54.7]\n"
     ]
    },
    {
     "name": "stdout",
     "output_type": "stream",
     "text": [
      "Train Loss: 1.2532, Train Acc: 54.74%\n",
      "Test Loss: 1.2281, Test Acc: 56.43%\n",
      "\n",
      "Epoch 5/50\n"
     ]
    },
    {
     "name": "stderr",
     "output_type": "stream",
     "text": [
      "Training: 100%|██████████| 391/391 [00:19<00:00, 20.52it/s, loss=1.19, acc=57.3]\n"
     ]
    },
    {
     "name": "stdout",
     "output_type": "stream",
     "text": [
      "Train Loss: 1.1858, Train Acc: 57.29%\n",
      "Test Loss: 1.1050, Test Acc: 60.00%\n",
      "\n",
      "Epoch 6/50\n"
     ]
    },
    {
     "name": "stderr",
     "output_type": "stream",
     "text": [
      "Training: 100%|██████████| 391/391 [00:18<00:00, 20.59it/s, loss=1.12, acc=59.5]\n"
     ]
    },
    {
     "name": "stdout",
     "output_type": "stream",
     "text": [
      "Train Loss: 1.1188, Train Acc: 59.54%\n",
      "Test Loss: 1.0541, Test Acc: 62.40%\n",
      "\n",
      "Epoch 7/50\n"
     ]
    },
    {
     "name": "stderr",
     "output_type": "stream",
     "text": [
      "Training: 100%|██████████| 391/391 [00:18<00:00, 20.60it/s, loss=1.07, acc=61.7]\n"
     ]
    },
    {
     "name": "stdout",
     "output_type": "stream",
     "text": [
      "Train Loss: 1.0663, Train Acc: 61.69%\n",
      "Test Loss: 1.0270, Test Acc: 63.50%\n",
      "\n",
      "Epoch 8/50\n"
     ]
    },
    {
     "name": "stderr",
     "output_type": "stream",
     "text": [
      "Training: 100%|██████████| 391/391 [00:18<00:00, 20.59it/s, loss=1.02, acc=63.8]\n"
     ]
    },
    {
     "name": "stdout",
     "output_type": "stream",
     "text": [
      "Train Loss: 1.0101, Train Acc: 63.83%\n",
      "Test Loss: 0.9426, Test Acc: 66.46%\n",
      "\n",
      "Epoch 9/50\n"
     ]
    },
    {
     "name": "stderr",
     "output_type": "stream",
     "text": [
      "Training: 100%|██████████| 391/391 [00:19<00:00, 20.54it/s, loss=0.97, acc=65.7] \n"
     ]
    },
    {
     "name": "stdout",
     "output_type": "stream",
     "text": [
      "Train Loss: 0.9649, Train Acc: 65.67%\n",
      "Test Loss: 0.8755, Test Acc: 69.31%\n",
      "\n",
      "Epoch 10/50\n"
     ]
    },
    {
     "name": "stderr",
     "output_type": "stream",
     "text": [
      "Training: 100%|██████████| 391/391 [00:19<00:00, 20.57it/s, loss=0.932, acc=67]  \n"
     ]
    },
    {
     "name": "stdout",
     "output_type": "stream",
     "text": [
      "Train Loss: 0.9275, Train Acc: 67.01%\n",
      "Test Loss: 0.8770, Test Acc: 69.05%\n",
      "\n",
      "Epoch 11/50\n"
     ]
    },
    {
     "name": "stderr",
     "output_type": "stream",
     "text": [
      "Training: 100%|██████████| 391/391 [00:18<00:00, 20.60it/s, loss=0.898, acc=68.2]\n"
     ]
    },
    {
     "name": "stdout",
     "output_type": "stream",
     "text": [
      "Train Loss: 0.8936, Train Acc: 68.17%\n",
      "Test Loss: 0.8362, Test Acc: 70.33%\n",
      "\n",
      "Epoch 12/50\n"
     ]
    },
    {
     "name": "stderr",
     "output_type": "stream",
     "text": [
      "Training: 100%|██████████| 391/391 [00:18<00:00, 20.65it/s, loss=0.859, acc=69.7]\n"
     ]
    },
    {
     "name": "stdout",
     "output_type": "stream",
     "text": [
      "Train Loss: 0.8546, Train Acc: 69.65%\n",
      "Test Loss: 0.8131, Test Acc: 71.09%\n",
      "\n",
      "Epoch 13/50\n"
     ]
    },
    {
     "name": "stderr",
     "output_type": "stream",
     "text": [
      "Training: 100%|██████████| 391/391 [00:19<00:00, 20.21it/s, loss=0.829, acc=70.8]\n"
     ]
    },
    {
     "name": "stdout",
     "output_type": "stream",
     "text": [
      "Train Loss: 0.8265, Train Acc: 70.77%\n",
      "Test Loss: 0.7934, Test Acc: 72.31%\n",
      "\n",
      "Epoch 14/50\n"
     ]
    },
    {
     "name": "stderr",
     "output_type": "stream",
     "text": [
      "Training: 100%|██████████| 391/391 [00:18<00:00, 20.64it/s, loss=0.803, acc=71.7]\n"
     ]
    },
    {
     "name": "stdout",
     "output_type": "stream",
     "text": [
      "Train Loss: 0.7993, Train Acc: 71.68%\n",
      "Test Loss: 0.7653, Test Acc: 73.17%\n",
      "\n",
      "Epoch 15/50\n"
     ]
    },
    {
     "name": "stderr",
     "output_type": "stream",
     "text": [
      "Training: 100%|██████████| 391/391 [00:19<00:00, 20.38it/s, loss=0.775, acc=72.6]\n"
     ]
    },
    {
     "name": "stdout",
     "output_type": "stream",
     "text": [
      "Train Loss: 0.7755, Train Acc: 72.61%\n",
      "Test Loss: 0.7250, Test Acc: 74.39%\n",
      "\n",
      "Epoch 16/50\n"
     ]
    },
    {
     "name": "stderr",
     "output_type": "stream",
     "text": [
      "Training: 100%|██████████| 391/391 [00:19<00:00, 20.56it/s, loss=0.748, acc=73.6]\n"
     ]
    },
    {
     "name": "stdout",
     "output_type": "stream",
     "text": [
      "Train Loss: 0.7441, Train Acc: 73.61%\n",
      "Test Loss: 0.7136, Test Acc: 75.02%\n",
      "\n",
      "Epoch 17/50\n"
     ]
    },
    {
     "name": "stderr",
     "output_type": "stream",
     "text": [
      "Training: 100%|██████████| 391/391 [00:19<00:00, 20.53it/s, loss=0.726, acc=74.6]\n"
     ]
    },
    {
     "name": "stdout",
     "output_type": "stream",
     "text": [
      "Train Loss: 0.7219, Train Acc: 74.61%\n",
      "Test Loss: 0.7138, Test Acc: 74.90%\n",
      "\n",
      "Epoch 18/50\n"
     ]
    },
    {
     "name": "stderr",
     "output_type": "stream",
     "text": [
      "Training: 100%|██████████| 391/391 [00:19<00:00, 20.15it/s, loss=0.705, acc=75.2]\n"
     ]
    },
    {
     "name": "stdout",
     "output_type": "stream",
     "text": [
      "Train Loss: 0.7029, Train Acc: 75.15%\n",
      "Test Loss: 0.7035, Test Acc: 75.27%\n",
      "\n",
      "Epoch 19/50\n"
     ]
    },
    {
     "name": "stderr",
     "output_type": "stream",
     "text": [
      "Training: 100%|██████████| 391/391 [00:18<00:00, 20.65it/s, loss=0.673, acc=76.3]\n"
     ]
    },
    {
     "name": "stdout",
     "output_type": "stream",
     "text": [
      "Train Loss: 0.6734, Train Acc: 76.27%\n",
      "Test Loss: 0.6615, Test Acc: 76.95%\n",
      "\n",
      "Epoch 20/50\n"
     ]
    },
    {
     "name": "stderr",
     "output_type": "stream",
     "text": [
      "Training: 100%|██████████| 391/391 [00:19<00:00, 20.14it/s, loss=0.659, acc=76.7]\n"
     ]
    },
    {
     "name": "stdout",
     "output_type": "stream",
     "text": [
      "Train Loss: 0.6568, Train Acc: 76.66%\n",
      "Test Loss: 0.6647, Test Acc: 76.83%\n",
      "\n",
      "Epoch 21/50\n"
     ]
    },
    {
     "name": "stderr",
     "output_type": "stream",
     "text": [
      "Training: 100%|██████████| 391/391 [00:19<00:00, 20.54it/s, loss=0.635, acc=77.7]\n"
     ]
    },
    {
     "name": "stdout",
     "output_type": "stream",
     "text": [
      "Train Loss: 0.6313, Train Acc: 77.65%\n",
      "Test Loss: 0.6329, Test Acc: 78.36%\n",
      "\n",
      "Epoch 22/50\n"
     ]
    },
    {
     "name": "stderr",
     "output_type": "stream",
     "text": [
      "Training: 100%|██████████| 391/391 [00:19<00:00, 20.46it/s, loss=0.611, acc=78.6]\n"
     ]
    },
    {
     "name": "stdout",
     "output_type": "stream",
     "text": [
      "Train Loss: 0.6076, Train Acc: 78.62%\n",
      "Test Loss: 0.6200, Test Acc: 78.68%\n",
      "\n",
      "Epoch 23/50\n"
     ]
    },
    {
     "name": "stderr",
     "output_type": "stream",
     "text": [
      "Training: 100%|██████████| 391/391 [00:19<00:00, 20.53it/s, loss=0.586, acc=79.4]\n"
     ]
    },
    {
     "name": "stdout",
     "output_type": "stream",
     "text": [
      "Train Loss: 0.5833, Train Acc: 79.40%\n",
      "Test Loss: 0.6008, Test Acc: 79.22%\n",
      "\n",
      "Epoch 24/50\n"
     ]
    },
    {
     "name": "stderr",
     "output_type": "stream",
     "text": [
      "Training: 100%|██████████| 391/391 [00:19<00:00, 20.53it/s, loss=0.57, acc=79.9] \n"
     ]
    },
    {
     "name": "stdout",
     "output_type": "stream",
     "text": [
      "Train Loss: 0.5666, Train Acc: 79.94%\n",
      "Test Loss: 0.5869, Test Acc: 79.88%\n",
      "\n",
      "Epoch 25/50\n"
     ]
    },
    {
     "name": "stderr",
     "output_type": "stream",
     "text": [
      "Training: 100%|██████████| 391/391 [00:19<00:00, 20.52it/s, loss=0.539, acc=80.7]\n"
     ]
    },
    {
     "name": "stdout",
     "output_type": "stream",
     "text": [
      "Train Loss: 0.5394, Train Acc: 80.74%\n",
      "Test Loss: 0.5864, Test Acc: 80.18%\n",
      "\n",
      "Epoch 26/50\n"
     ]
    },
    {
     "name": "stderr",
     "output_type": "stream",
     "text": [
      "Training: 100%|██████████| 391/391 [00:19<00:00, 20.53it/s, loss=0.525, acc=81.4]\n"
     ]
    },
    {
     "name": "stdout",
     "output_type": "stream",
     "text": [
      "Train Loss: 0.5222, Train Acc: 81.42%\n",
      "Test Loss: 0.5853, Test Acc: 80.16%\n",
      "\n",
      "Epoch 27/50\n"
     ]
    },
    {
     "name": "stderr",
     "output_type": "stream",
     "text": [
      "Training: 100%|██████████| 391/391 [00:19<00:00, 20.43it/s, loss=0.503, acc=82.2]\n"
     ]
    },
    {
     "name": "stdout",
     "output_type": "stream",
     "text": [
      "Train Loss: 0.5003, Train Acc: 82.22%\n",
      "Test Loss: 0.5576, Test Acc: 81.18%\n",
      "\n",
      "Epoch 28/50\n"
     ]
    },
    {
     "name": "stderr",
     "output_type": "stream",
     "text": [
      "Training: 100%|██████████| 391/391 [00:19<00:00, 20.52it/s, loss=0.477, acc=83.3]\n"
     ]
    },
    {
     "name": "stdout",
     "output_type": "stream",
     "text": [
      "Train Loss: 0.4742, Train Acc: 83.33%\n",
      "Test Loss: 0.5595, Test Acc: 80.96%\n",
      "\n",
      "Epoch 29/50\n"
     ]
    },
    {
     "name": "stderr",
     "output_type": "stream",
     "text": [
      "Training: 100%|██████████| 391/391 [00:19<00:00, 20.49it/s, loss=0.46, acc=83.8] \n"
     ]
    },
    {
     "name": "stdout",
     "output_type": "stream",
     "text": [
      "Train Loss: 0.4572, Train Acc: 83.79%\n",
      "Test Loss: 0.5733, Test Acc: 81.08%\n",
      "\n",
      "Epoch 30/50\n"
     ]
    },
    {
     "name": "stderr",
     "output_type": "stream",
     "text": [
      "Training: 100%|██████████| 391/391 [00:18<00:00, 20.68it/s, loss=0.43, acc=84.9] \n"
     ]
    },
    {
     "name": "stdout",
     "output_type": "stream",
     "text": [
      "Train Loss: 0.4280, Train Acc: 84.87%\n",
      "Test Loss: 0.5461, Test Acc: 81.27%\n",
      "\n",
      "Epoch 31/50\n"
     ]
    },
    {
     "name": "stderr",
     "output_type": "stream",
     "text": [
      "Training: 100%|██████████| 391/391 [00:18<00:00, 20.59it/s, loss=0.405, acc=85.6]\n"
     ]
    },
    {
     "name": "stdout",
     "output_type": "stream",
     "text": [
      "Train Loss: 0.4025, Train Acc: 85.57%\n",
      "Test Loss: 0.5708, Test Acc: 81.32%\n",
      "\n",
      "Epoch 32/50\n"
     ]
    },
    {
     "name": "stderr",
     "output_type": "stream",
     "text": [
      "Training: 100%|██████████| 391/391 [00:19<00:00, 20.53it/s, loss=0.39, acc=86.1] \n"
     ]
    },
    {
     "name": "stdout",
     "output_type": "stream",
     "text": [
      "Train Loss: 0.3885, Train Acc: 86.09%\n",
      "Test Loss: 0.5349, Test Acc: 82.08%\n",
      "\n",
      "Epoch 33/50\n"
     ]
    },
    {
     "name": "stderr",
     "output_type": "stream",
     "text": [
      "Training: 100%|██████████| 391/391 [00:19<00:00, 20.54it/s, loss=0.369, acc=86.9]\n"
     ]
    },
    {
     "name": "stdout",
     "output_type": "stream",
     "text": [
      "Train Loss: 0.3668, Train Acc: 86.89%\n",
      "Test Loss: 0.5430, Test Acc: 82.61%\n",
      "\n",
      "Epoch 34/50\n"
     ]
    },
    {
     "name": "stderr",
     "output_type": "stream",
     "text": [
      "Training: 100%|██████████| 391/391 [00:19<00:00, 20.45it/s, loss=0.344, acc=87.8]\n"
     ]
    },
    {
     "name": "stdout",
     "output_type": "stream",
     "text": [
      "Train Loss: 0.3428, Train Acc: 87.84%\n",
      "Test Loss: 0.5264, Test Acc: 82.93%\n",
      "\n",
      "Epoch 35/50\n"
     ]
    },
    {
     "name": "stderr",
     "output_type": "stream",
     "text": [
      "Training: 100%|██████████| 391/391 [00:19<00:00, 20.56it/s, loss=0.323, acc=88.5]\n"
     ]
    },
    {
     "name": "stdout",
     "output_type": "stream",
     "text": [
      "Train Loss: 0.3210, Train Acc: 88.54%\n",
      "Test Loss: 0.5560, Test Acc: 82.47%\n",
      "\n",
      "Epoch 36/50\n"
     ]
    },
    {
     "name": "stderr",
     "output_type": "stream",
     "text": [
      "Training: 100%|██████████| 391/391 [00:19<00:00, 20.51it/s, loss=0.303, acc=89.3]\n"
     ]
    },
    {
     "name": "stdout",
     "output_type": "stream",
     "text": [
      "Train Loss: 0.3016, Train Acc: 89.27%\n",
      "Test Loss: 0.5369, Test Acc: 82.99%\n",
      "\n",
      "Epoch 37/50\n"
     ]
    },
    {
     "name": "stderr",
     "output_type": "stream",
     "text": [
      "Training: 100%|██████████| 391/391 [00:19<00:00, 20.47it/s, loss=0.285, acc=89.9]\n"
     ]
    },
    {
     "name": "stdout",
     "output_type": "stream",
     "text": [
      "Train Loss: 0.2832, Train Acc: 89.86%\n",
      "Test Loss: 0.5344, Test Acc: 83.34%\n",
      "\n",
      "Epoch 38/50\n"
     ]
    },
    {
     "name": "stderr",
     "output_type": "stream",
     "text": [
      "Training: 100%|██████████| 391/391 [00:18<00:00, 20.59it/s, loss=0.265, acc=90.6]\n"
     ]
    },
    {
     "name": "stdout",
     "output_type": "stream",
     "text": [
      "Train Loss: 0.2636, Train Acc: 90.58%\n",
      "Test Loss: 0.5380, Test Acc: 83.46%\n",
      "\n",
      "Epoch 39/50\n"
     ]
    },
    {
     "name": "stderr",
     "output_type": "stream",
     "text": [
      "Training: 100%|██████████| 391/391 [00:19<00:00, 20.47it/s, loss=0.248, acc=91.1]\n"
     ]
    },
    {
     "name": "stdout",
     "output_type": "stream",
     "text": [
      "Train Loss: 0.2465, Train Acc: 91.13%\n",
      "Test Loss: 0.5470, Test Acc: 83.23%\n",
      "\n",
      "Epoch 40/50\n"
     ]
    },
    {
     "name": "stderr",
     "output_type": "stream",
     "text": [
      "Training: 100%|██████████| 391/391 [00:18<00:00, 20.59it/s, loss=0.23, acc=91.8] \n"
     ]
    },
    {
     "name": "stdout",
     "output_type": "stream",
     "text": [
      "Train Loss: 0.2291, Train Acc: 91.79%\n",
      "Test Loss: 0.5552, Test Acc: 83.59%\n",
      "\n",
      "Epoch 41/50\n"
     ]
    },
    {
     "name": "stderr",
     "output_type": "stream",
     "text": [
      "Training: 100%|██████████| 391/391 [00:19<00:00, 20.52it/s, loss=0.213, acc=92.5]\n"
     ]
    },
    {
     "name": "stdout",
     "output_type": "stream",
     "text": [
      "Train Loss: 0.2119, Train Acc: 92.47%\n",
      "Test Loss: 0.5656, Test Acc: 83.36%\n",
      "\n",
      "Epoch 42/50\n"
     ]
    },
    {
     "name": "stderr",
     "output_type": "stream",
     "text": [
      "Training: 100%|██████████| 391/391 [00:19<00:00, 20.49it/s, loss=0.211, acc=92.4]\n"
     ]
    },
    {
     "name": "stdout",
     "output_type": "stream",
     "text": [
      "Train Loss: 0.2103, Train Acc: 92.36%\n",
      "Test Loss: 0.5575, Test Acc: 83.45%\n",
      "\n",
      "Epoch 43/50\n"
     ]
    },
    {
     "name": "stderr",
     "output_type": "stream",
     "text": [
      "Training: 100%|██████████| 391/391 [00:19<00:00, 20.00it/s, loss=0.194, acc=93.1]\n"
     ]
    },
    {
     "name": "stdout",
     "output_type": "stream",
     "text": [
      "Train Loss: 0.1938, Train Acc: 93.12%\n",
      "Test Loss: 0.5582, Test Acc: 83.90%\n",
      "\n",
      "Epoch 44/50\n"
     ]
    },
    {
     "name": "stderr",
     "output_type": "stream",
     "text": [
      "Training: 100%|██████████| 391/391 [00:19<00:00, 20.47it/s, loss=0.183, acc=93.5]\n"
     ]
    },
    {
     "name": "stdout",
     "output_type": "stream",
     "text": [
      "Train Loss: 0.1824, Train Acc: 93.49%\n",
      "Test Loss: 0.5596, Test Acc: 83.99%\n",
      "\n",
      "Epoch 45/50\n"
     ]
    },
    {
     "name": "stderr",
     "output_type": "stream",
     "text": [
      "Training: 100%|██████████| 391/391 [00:19<00:00, 20.51it/s, loss=0.175, acc=93.8]\n"
     ]
    },
    {
     "name": "stdout",
     "output_type": "stream",
     "text": [
      "Train Loss: 0.1741, Train Acc: 93.85%\n",
      "Test Loss: 0.5729, Test Acc: 83.95%\n",
      "\n",
      "Epoch 46/50\n"
     ]
    },
    {
     "name": "stderr",
     "output_type": "stream",
     "text": [
      "Training: 100%|██████████| 391/391 [00:19<00:00, 20.51it/s, loss=0.17, acc=94]   \n"
     ]
    },
    {
     "name": "stdout",
     "output_type": "stream",
     "text": [
      "Train Loss: 0.1694, Train Acc: 94.00%\n",
      "Test Loss: 0.5726, Test Acc: 83.90%\n",
      "\n",
      "Epoch 47/50\n"
     ]
    },
    {
     "name": "stderr",
     "output_type": "stream",
     "text": [
      "Training: 100%|██████████| 391/391 [00:19<00:00, 20.55it/s, loss=0.162, acc=94.3]\n"
     ]
    },
    {
     "name": "stdout",
     "output_type": "stream",
     "text": [
      "Train Loss: 0.1610, Train Acc: 94.29%\n",
      "Test Loss: 0.5727, Test Acc: 83.84%\n",
      "\n",
      "Epoch 48/50\n"
     ]
    },
    {
     "name": "stderr",
     "output_type": "stream",
     "text": [
      "Training: 100%|██████████| 391/391 [00:19<00:00, 20.56it/s, loss=0.161, acc=94.3]\n"
     ]
    },
    {
     "name": "stdout",
     "output_type": "stream",
     "text": [
      "Train Loss: 0.1601, Train Acc: 94.30%\n",
      "Test Loss: 0.5767, Test Acc: 83.87%\n",
      "\n",
      "Epoch 49/50\n"
     ]
    },
    {
     "name": "stderr",
     "output_type": "stream",
     "text": [
      "Training: 100%|██████████| 391/391 [00:19<00:00, 20.46it/s, loss=0.154, acc=94.6]\n"
     ]
    },
    {
     "name": "stdout",
     "output_type": "stream",
     "text": [
      "Train Loss: 0.1544, Train Acc: 94.57%\n",
      "Test Loss: 0.5779, Test Acc: 83.81%\n",
      "\n",
      "Epoch 50/50\n"
     ]
    },
    {
     "name": "stderr",
     "output_type": "stream",
     "text": [
      "Training: 100%|██████████| 391/391 [00:19<00:00, 20.41it/s, loss=0.155, acc=94.6]\n"
     ]
    },
    {
     "name": "stdout",
     "output_type": "stream",
     "text": [
      "Train Loss: 0.1537, Train Acc: 94.64%\n",
      "Test Loss: 0.5773, Test Acc: 83.81%\n",
      "\n",
      "=== Running hyperparameter configuration 3/5 ===\n",
      "\n",
      "Epoch 1/50\n"
     ]
    },
    {
     "name": "stderr",
     "output_type": "stream",
     "text": [
      "Training: 100%|██████████| 391/391 [00:23<00:00, 16.32it/s, loss=2.13, acc=19.1]\n"
     ]
    },
    {
     "name": "stdout",
     "output_type": "stream",
     "text": [
      "Train Loss: 2.1237, Train Acc: 19.07%\n",
      "Test Loss: 2.3176, Test Acc: 10.01%\n",
      "\n",
      "Epoch 2/50\n"
     ]
    },
    {
     "name": "stderr",
     "output_type": "stream",
     "text": [
      "Training: 100%|██████████| 391/391 [00:24<00:00, 16.24it/s, loss=2.32, acc=9.92]\n"
     ]
    },
    {
     "name": "stdout",
     "output_type": "stream",
     "text": [
      "Train Loss: 2.3103, Train Acc: 9.92%\n",
      "Test Loss: 2.3129, Test Acc: 10.01%\n",
      "\n",
      "Epoch 3/50\n"
     ]
    },
    {
     "name": "stderr",
     "output_type": "stream",
     "text": [
      "Training: 100%|██████████| 391/391 [00:24<00:00, 16.28it/s, loss=2.31, acc=9.96]\n"
     ]
    },
    {
     "name": "stdout",
     "output_type": "stream",
     "text": [
      "Train Loss: 2.3066, Train Acc: 9.96%\n",
      "Test Loss: 2.3067, Test Acc: 10.01%\n",
      "\n",
      "Epoch 4/50\n"
     ]
    },
    {
     "name": "stderr",
     "output_type": "stream",
     "text": [
      "Training: 100%|██████████| 391/391 [00:24<00:00, 16.28it/s, loss=2.31, acc=9.82]\n"
     ]
    },
    {
     "name": "stdout",
     "output_type": "stream",
     "text": [
      "Train Loss: 2.3053, Train Acc: 9.82%\n",
      "Test Loss: 2.3055, Test Acc: 10.00%\n",
      "\n",
      "Epoch 5/50\n"
     ]
    },
    {
     "name": "stderr",
     "output_type": "stream",
     "text": [
      "Training: 100%|██████████| 391/391 [00:23<00:00, 16.34it/s, loss=2.31, acc=10]  \n"
     ]
    },
    {
     "name": "stdout",
     "output_type": "stream",
     "text": [
      "Train Loss: 2.3044, Train Acc: 10.00%\n",
      "Test Loss: 2.3040, Test Acc: 10.01%\n",
      "\n",
      "Epoch 6/50\n"
     ]
    },
    {
     "name": "stderr",
     "output_type": "stream",
     "text": [
      "Training: 100%|██████████| 391/391 [00:24<00:00, 16.24it/s, loss=2.31, acc=9.88]\n"
     ]
    },
    {
     "name": "stdout",
     "output_type": "stream",
     "text": [
      "Train Loss: 2.3040, Train Acc: 9.88%\n",
      "Test Loss: 2.3037, Test Acc: 10.02%\n",
      "\n",
      "Epoch 7/50\n"
     ]
    },
    {
     "name": "stderr",
     "output_type": "stream",
     "text": [
      "Training: 100%|██████████| 391/391 [00:24<00:00, 16.26it/s, loss=2.31, acc=9.92]\n"
     ]
    },
    {
     "name": "stdout",
     "output_type": "stream",
     "text": [
      "Train Loss: 2.3035, Train Acc: 9.92%\n",
      "Test Loss: 2.3035, Test Acc: 10.04%\n",
      "\n",
      "Epoch 8/50\n"
     ]
    },
    {
     "name": "stderr",
     "output_type": "stream",
     "text": [
      "Training: 100%|██████████| 391/391 [00:23<00:00, 16.30it/s, loss=2.31, acc=10]  \n"
     ]
    },
    {
     "name": "stdout",
     "output_type": "stream",
     "text": [
      "Train Loss: 2.3035, Train Acc: 10.02%\n",
      "Test Loss: 2.3029, Test Acc: 10.00%\n",
      "\n",
      "Epoch 9/50\n"
     ]
    },
    {
     "name": "stderr",
     "output_type": "stream",
     "text": [
      "Training: 100%|██████████| 391/391 [00:23<00:00, 16.33it/s, loss=2.31, acc=9.92]\n"
     ]
    },
    {
     "name": "stdout",
     "output_type": "stream",
     "text": [
      "Train Loss: 2.3033, Train Acc: 9.92%\n",
      "Test Loss: 2.3029, Test Acc: 10.00%\n",
      "\n",
      "Epoch 10/50\n"
     ]
    },
    {
     "name": "stderr",
     "output_type": "stream",
     "text": [
      "Training: 100%|██████████| 391/391 [00:23<00:00, 16.36it/s, loss=2.31, acc=9.93]\n"
     ]
    },
    {
     "name": "stdout",
     "output_type": "stream",
     "text": [
      "Train Loss: 2.3032, Train Acc: 9.93%\n",
      "Test Loss: 2.3028, Test Acc: 10.00%\n",
      "\n",
      "Epoch 11/50\n"
     ]
    },
    {
     "name": "stderr",
     "output_type": "stream",
     "text": [
      "Training: 100%|██████████| 391/391 [00:23<00:00, 16.32it/s, loss=2.31, acc=9.75]\n"
     ]
    },
    {
     "name": "stdout",
     "output_type": "stream",
     "text": [
      "Train Loss: 2.3034, Train Acc: 9.75%\n",
      "Test Loss: 2.3027, Test Acc: 10.00%\n",
      "\n",
      "Epoch 12/50\n"
     ]
    },
    {
     "name": "stderr",
     "output_type": "stream",
     "text": [
      "Training: 100%|██████████| 391/391 [00:24<00:00, 16.28it/s, loss=2.31, acc=10.1]\n"
     ]
    },
    {
     "name": "stdout",
     "output_type": "stream",
     "text": [
      "Train Loss: 2.3030, Train Acc: 10.13%\n",
      "Test Loss: 2.3027, Test Acc: 10.00%\n",
      "\n",
      "Epoch 13/50\n"
     ]
    },
    {
     "name": "stderr",
     "output_type": "stream",
     "text": [
      "Training: 100%|██████████| 391/391 [00:23<00:00, 16.43it/s, loss=2.31, acc=9.94]\n"
     ]
    },
    {
     "name": "stdout",
     "output_type": "stream",
     "text": [
      "Train Loss: 2.3030, Train Acc: 9.94%\n",
      "Test Loss: 2.3028, Test Acc: 10.00%\n",
      "\n",
      "Epoch 14/50\n"
     ]
    },
    {
     "name": "stderr",
     "output_type": "stream",
     "text": [
      "Training: 100%|██████████| 391/391 [00:23<00:00, 16.32it/s, loss=2.31, acc=9.74]\n"
     ]
    },
    {
     "name": "stdout",
     "output_type": "stream",
     "text": [
      "Train Loss: 2.3031, Train Acc: 9.74%\n",
      "Test Loss: 2.3026, Test Acc: 10.00%\n",
      "\n",
      "Epoch 15/50\n"
     ]
    },
    {
     "name": "stderr",
     "output_type": "stream",
     "text": [
      "Training: 100%|██████████| 391/391 [00:24<00:00, 16.28it/s, loss=2.31, acc=10.1]\n"
     ]
    },
    {
     "name": "stdout",
     "output_type": "stream",
     "text": [
      "Train Loss: 2.3029, Train Acc: 10.10%\n",
      "Test Loss: 2.3036, Test Acc: 10.00%\n",
      "\n",
      "Epoch 16/50\n"
     ]
    },
    {
     "name": "stderr",
     "output_type": "stream",
     "text": [
      "Training: 100%|██████████| 391/391 [00:24<00:00, 16.17it/s, loss=2.3, acc=9.69] \n"
     ]
    },
    {
     "name": "stdout",
     "output_type": "stream",
     "text": [
      "Train Loss: 2.3032, Train Acc: 9.69%\n",
      "Test Loss: 2.3027, Test Acc: 10.00%\n",
      "\n",
      "Epoch 17/50\n"
     ]
    },
    {
     "name": "stderr",
     "output_type": "stream",
     "text": [
      "Training: 100%|██████████| 391/391 [00:23<00:00, 16.42it/s, loss=2.31, acc=9.89]\n"
     ]
    },
    {
     "name": "stdout",
     "output_type": "stream",
     "text": [
      "Train Loss: 2.3032, Train Acc: 9.89%\n",
      "Test Loss: 2.3028, Test Acc: 10.01%\n",
      "\n",
      "Epoch 18/50\n"
     ]
    },
    {
     "name": "stderr",
     "output_type": "stream",
     "text": [
      "Training: 100%|██████████| 391/391 [00:23<00:00, 16.32it/s, loss=2.31, acc=9.89]\n"
     ]
    },
    {
     "name": "stdout",
     "output_type": "stream",
     "text": [
      "Train Loss: 2.3029, Train Acc: 9.89%\n",
      "Test Loss: 2.3028, Test Acc: 9.99%\n",
      "\n",
      "Epoch 19/50\n"
     ]
    },
    {
     "name": "stderr",
     "output_type": "stream",
     "text": [
      "Training: 100%|██████████| 391/391 [00:24<00:00, 16.27it/s, loss=2.31, acc=9.82]\n"
     ]
    },
    {
     "name": "stdout",
     "output_type": "stream",
     "text": [
      "Train Loss: 2.3030, Train Acc: 9.82%\n",
      "Test Loss: 2.3026, Test Acc: 10.01%\n",
      "\n",
      "Epoch 20/50\n"
     ]
    },
    {
     "name": "stderr",
     "output_type": "stream",
     "text": [
      "Training: 100%|██████████| 391/391 [00:23<00:00, 16.37it/s, loss=2.31, acc=9.91]\n"
     ]
    },
    {
     "name": "stdout",
     "output_type": "stream",
     "text": [
      "Train Loss: 2.3030, Train Acc: 9.91%\n",
      "Test Loss: 2.3027, Test Acc: 10.00%\n",
      "\n",
      "Epoch 21/50\n"
     ]
    },
    {
     "name": "stderr",
     "output_type": "stream",
     "text": [
      "Training: 100%|██████████| 391/391 [00:23<00:00, 16.30it/s, loss=2.31, acc=9.77]\n"
     ]
    },
    {
     "name": "stdout",
     "output_type": "stream",
     "text": [
      "Train Loss: 2.3030, Train Acc: 9.77%\n",
      "Test Loss: 2.3028, Test Acc: 10.00%\n",
      "\n",
      "Epoch 22/50\n"
     ]
    },
    {
     "name": "stderr",
     "output_type": "stream",
     "text": [
      "Training: 100%|██████████| 391/391 [00:23<00:00, 16.37it/s, loss=2.31, acc=9.84]\n"
     ]
    },
    {
     "name": "stdout",
     "output_type": "stream",
     "text": [
      "Train Loss: 2.3030, Train Acc: 9.84%\n",
      "Test Loss: 2.3026, Test Acc: 10.00%\n",
      "\n",
      "Epoch 23/50\n"
     ]
    },
    {
     "name": "stderr",
     "output_type": "stream",
     "text": [
      "Training: 100%|██████████| 391/391 [00:23<00:00, 16.34it/s, loss=2.31, acc=9.71]\n"
     ]
    },
    {
     "name": "stdout",
     "output_type": "stream",
     "text": [
      "Train Loss: 2.3029, Train Acc: 9.71%\n",
      "Test Loss: 2.3028, Test Acc: 10.00%\n",
      "\n",
      "Epoch 24/50\n"
     ]
    },
    {
     "name": "stderr",
     "output_type": "stream",
     "text": [
      "Training: 100%|██████████| 391/391 [00:23<00:00, 16.35it/s, loss=2.31, acc=9.94]\n"
     ]
    },
    {
     "name": "stdout",
     "output_type": "stream",
     "text": [
      "Train Loss: 2.3042, Train Acc: 9.94%\n",
      "Test Loss: 2.3028, Test Acc: 9.99%\n",
      "\n",
      "Epoch 25/50\n"
     ]
    },
    {
     "name": "stderr",
     "output_type": "stream",
     "text": [
      "Training: 100%|██████████| 391/391 [00:24<00:00, 16.26it/s, loss=2.31, acc=9.89]\n"
     ]
    },
    {
     "name": "stdout",
     "output_type": "stream",
     "text": [
      "Train Loss: 2.3029, Train Acc: 9.89%\n",
      "Test Loss: 2.3031, Test Acc: 10.00%\n",
      "\n",
      "Epoch 26/50\n"
     ]
    },
    {
     "name": "stderr",
     "output_type": "stream",
     "text": [
      "Training: 100%|██████████| 391/391 [00:23<00:00, 16.31it/s, loss=2.31, acc=9.95]\n"
     ]
    },
    {
     "name": "stdout",
     "output_type": "stream",
     "text": [
      "Train Loss: 2.3030, Train Acc: 9.95%\n",
      "Test Loss: 2.3027, Test Acc: 10.00%\n",
      "\n",
      "Epoch 27/50\n"
     ]
    },
    {
     "name": "stderr",
     "output_type": "stream",
     "text": [
      "Training: 100%|██████████| 391/391 [00:23<00:00, 16.34it/s, loss=2.31, acc=9.9] \n"
     ]
    },
    {
     "name": "stdout",
     "output_type": "stream",
     "text": [
      "Train Loss: 2.3029, Train Acc: 9.90%\n",
      "Test Loss: 2.3027, Test Acc: 10.00%\n",
      "\n",
      "Epoch 28/50\n"
     ]
    },
    {
     "name": "stderr",
     "output_type": "stream",
     "text": [
      "Training: 100%|██████████| 391/391 [00:23<00:00, 16.36it/s, loss=2.31, acc=9.76]\n"
     ]
    },
    {
     "name": "stdout",
     "output_type": "stream",
     "text": [
      "Train Loss: 2.3028, Train Acc: 9.76%\n",
      "Test Loss: 2.3026, Test Acc: 10.00%\n",
      "\n",
      "Epoch 29/50\n"
     ]
    },
    {
     "name": "stderr",
     "output_type": "stream",
     "text": [
      "Training: 100%|██████████| 391/391 [00:24<00:00, 16.23it/s, loss=2.31, acc=10.1]\n"
     ]
    },
    {
     "name": "stdout",
     "output_type": "stream",
     "text": [
      "Train Loss: 2.3027, Train Acc: 10.07%\n",
      "Test Loss: 2.3030, Test Acc: 10.00%\n",
      "\n",
      "Epoch 30/50\n"
     ]
    },
    {
     "name": "stderr",
     "output_type": "stream",
     "text": [
      "Training: 100%|██████████| 391/391 [00:23<00:00, 16.35it/s, loss=2.31, acc=9.91]\n"
     ]
    },
    {
     "name": "stdout",
     "output_type": "stream",
     "text": [
      "Train Loss: 2.3031, Train Acc: 9.91%\n",
      "Test Loss: 2.3027, Test Acc: 10.00%\n",
      "\n",
      "Epoch 31/50\n"
     ]
    },
    {
     "name": "stderr",
     "output_type": "stream",
     "text": [
      "Training: 100%|██████████| 391/391 [00:24<00:00, 16.27it/s, loss=2.31, acc=9.75]\n"
     ]
    },
    {
     "name": "stdout",
     "output_type": "stream",
     "text": [
      "Train Loss: 2.3028, Train Acc: 9.75%\n",
      "Test Loss: 2.3027, Test Acc: 10.00%\n",
      "\n",
      "Epoch 32/50\n"
     ]
    },
    {
     "name": "stderr",
     "output_type": "stream",
     "text": [
      "Training: 100%|██████████| 391/391 [00:23<00:00, 16.31it/s, loss=2.31, acc=9.98]\n"
     ]
    },
    {
     "name": "stdout",
     "output_type": "stream",
     "text": [
      "Train Loss: 2.3027, Train Acc: 9.98%\n",
      "Test Loss: 2.3027, Test Acc: 10.00%\n",
      "\n",
      "Epoch 33/50\n"
     ]
    },
    {
     "name": "stderr",
     "output_type": "stream",
     "text": [
      "Training: 100%|██████████| 391/391 [00:23<00:00, 16.36it/s, loss=2.31, acc=9.98]\n"
     ]
    },
    {
     "name": "stdout",
     "output_type": "stream",
     "text": [
      "Train Loss: 2.3027, Train Acc: 9.98%\n",
      "Test Loss: 2.3027, Test Acc: 10.00%\n",
      "\n",
      "Epoch 34/50\n"
     ]
    },
    {
     "name": "stderr",
     "output_type": "stream",
     "text": [
      "Training: 100%|██████████| 391/391 [00:23<00:00, 16.29it/s, loss=2.31, acc=9.65]\n"
     ]
    },
    {
     "name": "stdout",
     "output_type": "stream",
     "text": [
      "Train Loss: 2.3027, Train Acc: 9.65%\n",
      "Test Loss: 2.3026, Test Acc: 10.00%\n",
      "\n",
      "Epoch 35/50\n"
     ]
    },
    {
     "name": "stderr",
     "output_type": "stream",
     "text": [
      "Training: 100%|██████████| 391/391 [00:23<00:00, 16.37it/s, loss=2.31, acc=9.93]\n"
     ]
    },
    {
     "name": "stdout",
     "output_type": "stream",
     "text": [
      "Train Loss: 2.3027, Train Acc: 9.93%\n",
      "Test Loss: 2.3026, Test Acc: 10.00%\n",
      "\n",
      "Epoch 36/50\n"
     ]
    },
    {
     "name": "stderr",
     "output_type": "stream",
     "text": [
      "Training: 100%|██████████| 391/391 [00:24<00:00, 16.27it/s, loss=2.31, acc=9.78]\n"
     ]
    },
    {
     "name": "stdout",
     "output_type": "stream",
     "text": [
      "Train Loss: 2.3027, Train Acc: 9.78%\n",
      "Test Loss: 2.3026, Test Acc: 10.00%\n",
      "\n",
      "Epoch 37/50\n"
     ]
    },
    {
     "name": "stderr",
     "output_type": "stream",
     "text": [
      "Training: 100%|██████████| 391/391 [00:24<00:00, 16.28it/s, loss=2.31, acc=9.83]\n"
     ]
    },
    {
     "name": "stdout",
     "output_type": "stream",
     "text": [
      "Train Loss: 2.3027, Train Acc: 9.83%\n",
      "Test Loss: 2.3026, Test Acc: 10.00%\n",
      "\n",
      "Epoch 38/50\n"
     ]
    },
    {
     "name": "stderr",
     "output_type": "stream",
     "text": [
      "Training: 100%|██████████| 391/391 [00:24<00:00, 16.28it/s, loss=2.31, acc=9.95]\n"
     ]
    },
    {
     "name": "stdout",
     "output_type": "stream",
     "text": [
      "Train Loss: 2.3027, Train Acc: 9.95%\n",
      "Test Loss: 2.3026, Test Acc: 10.00%\n",
      "\n",
      "Epoch 39/50\n"
     ]
    },
    {
     "name": "stderr",
     "output_type": "stream",
     "text": [
      "Training: 100%|██████████| 391/391 [00:24<00:00, 16.22it/s, loss=2.3, acc=9.93] \n"
     ]
    },
    {
     "name": "stdout",
     "output_type": "stream",
     "text": [
      "Train Loss: 2.3027, Train Acc: 9.93%\n",
      "Test Loss: 2.3026, Test Acc: 10.00%\n",
      "\n",
      "Epoch 40/50\n"
     ]
    },
    {
     "name": "stderr",
     "output_type": "stream",
     "text": [
      "Training: 100%|██████████| 391/391 [00:23<00:00, 16.29it/s, loss=2.31, acc=9.94]\n"
     ]
    },
    {
     "name": "stdout",
     "output_type": "stream",
     "text": [
      "Train Loss: 2.3026, Train Acc: 9.94%\n",
      "Test Loss: 2.3026, Test Acc: 10.00%\n",
      "\n",
      "Epoch 41/50\n"
     ]
    },
    {
     "name": "stderr",
     "output_type": "stream",
     "text": [
      "Training: 100%|██████████| 391/391 [00:24<00:00, 16.29it/s, loss=2.31, acc=9.97]\n"
     ]
    },
    {
     "name": "stdout",
     "output_type": "stream",
     "text": [
      "Train Loss: 2.3027, Train Acc: 9.97%\n",
      "Test Loss: 2.3026, Test Acc: 10.00%\n",
      "\n",
      "Epoch 42/50\n"
     ]
    },
    {
     "name": "stderr",
     "output_type": "stream",
     "text": [
      "Training: 100%|██████████| 391/391 [00:23<00:00, 16.34it/s, loss=2.31, acc=9.75]\n"
     ]
    },
    {
     "name": "stdout",
     "output_type": "stream",
     "text": [
      "Train Loss: 2.3026, Train Acc: 9.75%\n",
      "Test Loss: 2.3026, Test Acc: 10.00%\n",
      "\n",
      "Epoch 43/50\n"
     ]
    },
    {
     "name": "stderr",
     "output_type": "stream",
     "text": [
      "Training: 100%|██████████| 391/391 [00:23<00:00, 16.29it/s, loss=2.31, acc=9.91]\n"
     ]
    },
    {
     "name": "stdout",
     "output_type": "stream",
     "text": [
      "Train Loss: 2.3026, Train Acc: 9.91%\n",
      "Test Loss: 2.3026, Test Acc: 10.00%\n",
      "\n",
      "Epoch 44/50\n"
     ]
    },
    {
     "name": "stderr",
     "output_type": "stream",
     "text": [
      "Training: 100%|██████████| 391/391 [00:23<00:00, 16.30it/s, loss=2.31, acc=9.8] \n"
     ]
    },
    {
     "name": "stdout",
     "output_type": "stream",
     "text": [
      "Train Loss: 2.3026, Train Acc: 9.80%\n",
      "Test Loss: 2.3026, Test Acc: 10.00%\n",
      "\n",
      "Epoch 45/50\n"
     ]
    },
    {
     "name": "stderr",
     "output_type": "stream",
     "text": [
      "Training: 100%|██████████| 391/391 [00:23<00:00, 16.29it/s, loss=2.31, acc=10]  \n"
     ]
    },
    {
     "name": "stdout",
     "output_type": "stream",
     "text": [
      "Train Loss: 2.3026, Train Acc: 10.02%\n",
      "Test Loss: 2.3026, Test Acc: 10.00%\n",
      "\n",
      "Epoch 46/50\n"
     ]
    },
    {
     "name": "stderr",
     "output_type": "stream",
     "text": [
      "Training: 100%|██████████| 391/391 [00:24<00:00, 16.29it/s, loss=2.31, acc=9.97]\n"
     ]
    },
    {
     "name": "stdout",
     "output_type": "stream",
     "text": [
      "Train Loss: 2.3026, Train Acc: 9.97%\n",
      "Test Loss: 2.3026, Test Acc: 10.00%\n",
      "\n",
      "Epoch 47/50\n"
     ]
    },
    {
     "name": "stderr",
     "output_type": "stream",
     "text": [
      "Training: 100%|██████████| 391/391 [00:24<00:00, 16.28it/s, loss=2.31, acc=9.88]\n"
     ]
    },
    {
     "name": "stdout",
     "output_type": "stream",
     "text": [
      "Train Loss: 2.3026, Train Acc: 9.88%\n",
      "Test Loss: 2.3026, Test Acc: 10.00%\n",
      "\n",
      "Epoch 48/50\n"
     ]
    },
    {
     "name": "stderr",
     "output_type": "stream",
     "text": [
      "Training: 100%|██████████| 391/391 [00:23<00:00, 16.33it/s, loss=2.31, acc=10]  \n"
     ]
    },
    {
     "name": "stdout",
     "output_type": "stream",
     "text": [
      "Train Loss: 2.3026, Train Acc: 10.00%\n",
      "Test Loss: 2.3026, Test Acc: 10.00%\n",
      "\n",
      "Epoch 49/50\n"
     ]
    },
    {
     "name": "stderr",
     "output_type": "stream",
     "text": [
      "Training: 100%|██████████| 391/391 [00:24<00:00, 16.23it/s, loss=2.3, acc=9.98] \n"
     ]
    },
    {
     "name": "stdout",
     "output_type": "stream",
     "text": [
      "Train Loss: 2.3026, Train Acc: 9.98%\n",
      "Test Loss: 2.3026, Test Acc: 10.00%\n",
      "\n",
      "Epoch 50/50\n"
     ]
    },
    {
     "name": "stderr",
     "output_type": "stream",
     "text": [
      "Training: 100%|██████████| 391/391 [00:23<00:00, 16.38it/s, loss=2.31, acc=9.92]\n"
     ]
    },
    {
     "name": "stdout",
     "output_type": "stream",
     "text": [
      "Train Loss: 2.3026, Train Acc: 9.92%\n",
      "Test Loss: 2.3026, Test Acc: 10.00%\n",
      "\n",
      "=== Running hyperparameter configuration 4/5 ===\n",
      "\n",
      "Epoch 1/50\n"
     ]
    },
    {
     "name": "stderr",
     "output_type": "stream",
     "text": [
      "Training: 100%|██████████| 391/391 [00:18<00:00, 20.73it/s, loss=1.78, acc=33.4]\n"
     ]
    },
    {
     "name": "stdout",
     "output_type": "stream",
     "text": [
      "Train Loss: 1.7848, Train Acc: 33.42%\n",
      "Test Loss: 1.6317, Test Acc: 40.03%\n",
      "\n",
      "Epoch 2/50\n"
     ]
    },
    {
     "name": "stderr",
     "output_type": "stream",
     "text": [
      "Training: 100%|██████████| 391/391 [00:18<00:00, 20.86it/s, loss=1.48, acc=46.4]\n"
     ]
    },
    {
     "name": "stdout",
     "output_type": "stream",
     "text": [
      "Train Loss: 1.4697, Train Acc: 46.43%\n",
      "Test Loss: 1.3539, Test Acc: 50.28%\n",
      "\n",
      "Epoch 3/50\n"
     ]
    },
    {
     "name": "stderr",
     "output_type": "stream",
     "text": [
      "Training: 100%|██████████| 391/391 [00:18<00:00, 20.82it/s, loss=1.35, acc=51.1]\n"
     ]
    },
    {
     "name": "stdout",
     "output_type": "stream",
     "text": [
      "Train Loss: 1.3478, Train Acc: 51.06%\n",
      "Test Loss: 1.2610, Test Acc: 54.81%\n",
      "\n",
      "Epoch 4/50\n"
     ]
    },
    {
     "name": "stderr",
     "output_type": "stream",
     "text": [
      "Training: 100%|██████████| 391/391 [00:18<00:00, 20.70it/s, loss=1.26, acc=54.5]\n"
     ]
    },
    {
     "name": "stdout",
     "output_type": "stream",
     "text": [
      "Train Loss: 1.2570, Train Acc: 54.54%\n",
      "Test Loss: 1.2086, Test Acc: 55.74%\n",
      "\n",
      "Epoch 5/50\n"
     ]
    },
    {
     "name": "stderr",
     "output_type": "stream",
     "text": [
      "Training: 100%|██████████| 391/391 [00:18<00:00, 20.75it/s, loss=1.21, acc=56.7]\n"
     ]
    },
    {
     "name": "stdout",
     "output_type": "stream",
     "text": [
      "Train Loss: 1.2033, Train Acc: 56.70%\n",
      "Test Loss: 1.1200, Test Acc: 59.51%\n",
      "\n",
      "Epoch 6/50\n"
     ]
    },
    {
     "name": "stderr",
     "output_type": "stream",
     "text": [
      "Training: 100%|██████████| 391/391 [00:18<00:00, 20.80it/s, loss=1.15, acc=58.8]\n"
     ]
    },
    {
     "name": "stdout",
     "output_type": "stream",
     "text": [
      "Train Loss: 1.1408, Train Acc: 58.83%\n",
      "Test Loss: 1.1062, Test Acc: 60.48%\n",
      "\n",
      "Epoch 7/50\n"
     ]
    },
    {
     "name": "stderr",
     "output_type": "stream",
     "text": [
      "Training: 100%|██████████| 391/391 [00:18<00:00, 20.71it/s, loss=1.1, acc=60.9] \n"
     ]
    },
    {
     "name": "stdout",
     "output_type": "stream",
     "text": [
      "Train Loss: 1.0925, Train Acc: 60.91%\n",
      "Test Loss: 1.0496, Test Acc: 62.94%\n",
      "\n",
      "Epoch 8/50\n"
     ]
    },
    {
     "name": "stderr",
     "output_type": "stream",
     "text": [
      "Training: 100%|██████████| 391/391 [00:18<00:00, 20.83it/s, loss=1.04, acc=62.8]\n"
     ]
    },
    {
     "name": "stdout",
     "output_type": "stream",
     "text": [
      "Train Loss: 1.0400, Train Acc: 62.76%\n",
      "Test Loss: 0.9563, Test Acc: 65.63%\n",
      "\n",
      "Epoch 9/50\n"
     ]
    },
    {
     "name": "stderr",
     "output_type": "stream",
     "text": [
      "Training: 100%|██████████| 391/391 [00:18<00:00, 20.81it/s, loss=0.994, acc=64.8]\n"
     ]
    },
    {
     "name": "stdout",
     "output_type": "stream",
     "text": [
      "Train Loss: 0.9888, Train Acc: 64.78%\n",
      "Test Loss: 0.9996, Test Acc: 64.39%\n",
      "\n",
      "Epoch 10/50\n"
     ]
    },
    {
     "name": "stderr",
     "output_type": "stream",
     "text": [
      "Training: 100%|██████████| 391/391 [00:18<00:00, 20.70it/s, loss=0.956, acc=66]  \n"
     ]
    },
    {
     "name": "stdout",
     "output_type": "stream",
     "text": [
      "Train Loss: 0.9507, Train Acc: 65.96%\n",
      "Test Loss: 0.9567, Test Acc: 66.29%\n",
      "\n",
      "Epoch 11/50\n"
     ]
    },
    {
     "name": "stderr",
     "output_type": "stream",
     "text": [
      "Training: 100%|██████████| 391/391 [00:19<00:00, 20.24it/s, loss=0.916, acc=67.5]\n"
     ]
    },
    {
     "name": "stdout",
     "output_type": "stream",
     "text": [
      "Train Loss: 0.9139, Train Acc: 67.55%\n",
      "Test Loss: 0.8645, Test Acc: 69.37%\n",
      "\n",
      "Epoch 12/50\n"
     ]
    },
    {
     "name": "stderr",
     "output_type": "stream",
     "text": [
      "Training: 100%|██████████| 391/391 [00:18<00:00, 20.83it/s, loss=0.887, acc=68.6]\n"
     ]
    },
    {
     "name": "stdout",
     "output_type": "stream",
     "text": [
      "Train Loss: 0.8821, Train Acc: 68.64%\n",
      "Test Loss: 0.8495, Test Acc: 69.70%\n",
      "\n",
      "Epoch 13/50\n"
     ]
    },
    {
     "name": "stderr",
     "output_type": "stream",
     "text": [
      "Training: 100%|██████████| 391/391 [00:18<00:00, 20.83it/s, loss=0.857, acc=69.7]\n"
     ]
    },
    {
     "name": "stdout",
     "output_type": "stream",
     "text": [
      "Train Loss: 0.8521, Train Acc: 69.74%\n",
      "Test Loss: 0.7840, Test Acc: 72.41%\n",
      "\n",
      "Epoch 14/50\n"
     ]
    },
    {
     "name": "stderr",
     "output_type": "stream",
     "text": [
      "Training: 100%|██████████| 391/391 [00:18<00:00, 20.91it/s, loss=0.825, acc=71]  \n"
     ]
    },
    {
     "name": "stdout",
     "output_type": "stream",
     "text": [
      "Train Loss: 0.8211, Train Acc: 71.01%\n",
      "Test Loss: 0.8084, Test Acc: 71.89%\n",
      "\n",
      "Epoch 15/50\n"
     ]
    },
    {
     "name": "stderr",
     "output_type": "stream",
     "text": [
      "Training: 100%|██████████| 391/391 [00:18<00:00, 20.72it/s, loss=0.803, acc=71.8]\n"
     ]
    },
    {
     "name": "stdout",
     "output_type": "stream",
     "text": [
      "Train Loss: 0.7985, Train Acc: 71.80%\n",
      "Test Loss: 0.7320, Test Acc: 74.09%\n",
      "\n",
      "Epoch 16/50\n"
     ]
    },
    {
     "name": "stderr",
     "output_type": "stream",
     "text": [
      "Training: 100%|██████████| 391/391 [00:18<00:00, 20.83it/s, loss=0.771, acc=72.8]\n"
     ]
    },
    {
     "name": "stdout",
     "output_type": "stream",
     "text": [
      "Train Loss: 0.7670, Train Acc: 72.75%\n",
      "Test Loss: 0.7582, Test Acc: 72.72%\n",
      "\n",
      "Epoch 17/50\n"
     ]
    },
    {
     "name": "stderr",
     "output_type": "stream",
     "text": [
      "Training: 100%|██████████| 391/391 [00:18<00:00, 20.78it/s, loss=0.749, acc=73.6]\n"
     ]
    },
    {
     "name": "stdout",
     "output_type": "stream",
     "text": [
      "Train Loss: 0.7447, Train Acc: 73.61%\n",
      "Test Loss: 0.7355, Test Acc: 74.42%\n",
      "\n",
      "Epoch 18/50\n"
     ]
    },
    {
     "name": "stderr",
     "output_type": "stream",
     "text": [
      "Training: 100%|██████████| 391/391 [00:18<00:00, 20.75it/s, loss=0.716, acc=74.8]\n"
     ]
    },
    {
     "name": "stdout",
     "output_type": "stream",
     "text": [
      "Train Loss: 0.7122, Train Acc: 74.81%\n",
      "Test Loss: 0.6805, Test Acc: 76.26%\n",
      "\n",
      "Epoch 19/50\n"
     ]
    },
    {
     "name": "stderr",
     "output_type": "stream",
     "text": [
      "Training: 100%|██████████| 391/391 [00:18<00:00, 20.87it/s, loss=0.697, acc=75.4]\n"
     ]
    },
    {
     "name": "stdout",
     "output_type": "stream",
     "text": [
      "Train Loss: 0.6936, Train Acc: 75.37%\n",
      "Test Loss: 0.7120, Test Acc: 75.42%\n",
      "\n",
      "Epoch 20/50\n"
     ]
    },
    {
     "name": "stderr",
     "output_type": "stream",
     "text": [
      "Training: 100%|██████████| 391/391 [00:18<00:00, 20.84it/s, loss=0.666, acc=76.7]\n"
     ]
    },
    {
     "name": "stdout",
     "output_type": "stream",
     "text": [
      "Train Loss: 0.6623, Train Acc: 76.73%\n",
      "Test Loss: 0.6788, Test Acc: 76.67%\n",
      "\n",
      "Epoch 21/50\n"
     ]
    },
    {
     "name": "stderr",
     "output_type": "stream",
     "text": [
      "Training: 100%|██████████| 391/391 [00:18<00:00, 20.69it/s, loss=0.65, acc=77.3] \n"
     ]
    },
    {
     "name": "stdout",
     "output_type": "stream",
     "text": [
      "Train Loss: 0.6465, Train Acc: 77.26%\n",
      "Test Loss: 0.6685, Test Acc: 77.08%\n",
      "\n",
      "Epoch 22/50\n"
     ]
    },
    {
     "name": "stderr",
     "output_type": "stream",
     "text": [
      "Training: 100%|██████████| 391/391 [00:18<00:00, 20.66it/s, loss=0.629, acc=77.8]\n"
     ]
    },
    {
     "name": "stdout",
     "output_type": "stream",
     "text": [
      "Train Loss: 0.6258, Train Acc: 77.85%\n",
      "Test Loss: 0.6312, Test Acc: 77.99%\n",
      "\n",
      "Epoch 23/50\n"
     ]
    },
    {
     "name": "stderr",
     "output_type": "stream",
     "text": [
      "Training: 100%|██████████| 391/391 [00:18<00:00, 20.71it/s, loss=0.603, acc=78.8]\n"
     ]
    },
    {
     "name": "stdout",
     "output_type": "stream",
     "text": [
      "Train Loss: 0.6000, Train Acc: 78.82%\n",
      "Test Loss: 0.6478, Test Acc: 77.64%\n",
      "\n",
      "Epoch 24/50\n"
     ]
    },
    {
     "name": "stderr",
     "output_type": "stream",
     "text": [
      "Training: 100%|██████████| 391/391 [00:18<00:00, 20.72it/s, loss=0.586, acc=79.2]\n"
     ]
    },
    {
     "name": "stdout",
     "output_type": "stream",
     "text": [
      "Train Loss: 0.5830, Train Acc: 79.20%\n",
      "Test Loss: 0.6162, Test Acc: 79.31%\n",
      "\n",
      "Epoch 25/50\n"
     ]
    },
    {
     "name": "stderr",
     "output_type": "stream",
     "text": [
      "Training: 100%|██████████| 391/391 [00:18<00:00, 20.71it/s, loss=0.559, acc=80.3]\n"
     ]
    },
    {
     "name": "stdout",
     "output_type": "stream",
     "text": [
      "Train Loss: 0.5577, Train Acc: 80.32%\n",
      "Test Loss: 0.5871, Test Acc: 80.26%\n",
      "\n",
      "Epoch 26/50\n"
     ]
    },
    {
     "name": "stderr",
     "output_type": "stream",
     "text": [
      "Training: 100%|██████████| 391/391 [00:18<00:00, 20.64it/s, loss=0.534, acc=81.2]\n"
     ]
    },
    {
     "name": "stdout",
     "output_type": "stream",
     "text": [
      "Train Loss: 0.5309, Train Acc: 81.15%\n",
      "Test Loss: 0.6034, Test Acc: 79.44%\n",
      "\n",
      "Epoch 27/50\n"
     ]
    },
    {
     "name": "stderr",
     "output_type": "stream",
     "text": [
      "Training: 100%|██████████| 391/391 [00:18<00:00, 20.76it/s, loss=0.521, acc=81.8]\n"
     ]
    },
    {
     "name": "stdout",
     "output_type": "stream",
     "text": [
      "Train Loss: 0.5183, Train Acc: 81.77%\n",
      "Test Loss: 0.5807, Test Acc: 80.55%\n",
      "\n",
      "Epoch 28/50\n"
     ]
    },
    {
     "name": "stderr",
     "output_type": "stream",
     "text": [
      "Training: 100%|██████████| 391/391 [00:19<00:00, 20.50it/s, loss=0.496, acc=82.4]\n"
     ]
    },
    {
     "name": "stdout",
     "output_type": "stream",
     "text": [
      "Train Loss: 0.4943, Train Acc: 82.39%\n",
      "Test Loss: 0.5670, Test Acc: 80.69%\n",
      "\n",
      "Epoch 29/50\n"
     ]
    },
    {
     "name": "stderr",
     "output_type": "stream",
     "text": [
      "Training: 100%|██████████| 391/391 [00:18<00:00, 20.83it/s, loss=0.471, acc=83.4]\n"
     ]
    },
    {
     "name": "stdout",
     "output_type": "stream",
     "text": [
      "Train Loss: 0.4690, Train Acc: 83.38%\n",
      "Test Loss: 0.5667, Test Acc: 80.82%\n",
      "\n",
      "Epoch 30/50\n"
     ]
    },
    {
     "name": "stderr",
     "output_type": "stream",
     "text": [
      "Training: 100%|██████████| 391/391 [00:18<00:00, 20.74it/s, loss=0.451, acc=84]  \n"
     ]
    },
    {
     "name": "stdout",
     "output_type": "stream",
     "text": [
      "Train Loss: 0.4491, Train Acc: 83.97%\n",
      "Test Loss: 0.5483, Test Acc: 81.46%\n",
      "\n",
      "Epoch 31/50\n"
     ]
    },
    {
     "name": "stderr",
     "output_type": "stream",
     "text": [
      "Training: 100%|██████████| 391/391 [00:18<00:00, 20.68it/s, loss=0.424, acc=85]  \n"
     ]
    },
    {
     "name": "stdout",
     "output_type": "stream",
     "text": [
      "Train Loss: 0.4245, Train Acc: 84.99%\n",
      "Test Loss: 0.5645, Test Acc: 81.03%\n",
      "\n",
      "Epoch 32/50\n"
     ]
    },
    {
     "name": "stderr",
     "output_type": "stream",
     "text": [
      "Training: 100%|██████████| 391/391 [00:18<00:00, 20.65it/s, loss=0.408, acc=85.5]\n"
     ]
    },
    {
     "name": "stdout",
     "output_type": "stream",
     "text": [
      "Train Loss: 0.4057, Train Acc: 85.49%\n",
      "Test Loss: 0.5507, Test Acc: 81.59%\n",
      "\n",
      "Epoch 33/50\n"
     ]
    },
    {
     "name": "stderr",
     "output_type": "stream",
     "text": [
      "Training: 100%|██████████| 391/391 [00:18<00:00, 20.71it/s, loss=0.385, acc=86.3]\n"
     ]
    },
    {
     "name": "stdout",
     "output_type": "stream",
     "text": [
      "Train Loss: 0.3826, Train Acc: 86.26%\n",
      "Test Loss: 0.5660, Test Acc: 81.90%\n",
      "\n",
      "Epoch 34/50\n"
     ]
    },
    {
     "name": "stderr",
     "output_type": "stream",
     "text": [
      "Training: 100%|██████████| 391/391 [00:19<00:00, 20.57it/s, loss=0.366, acc=87]  \n"
     ]
    },
    {
     "name": "stdout",
     "output_type": "stream",
     "text": [
      "Train Loss: 0.3647, Train Acc: 87.01%\n",
      "Test Loss: 0.5494, Test Acc: 82.07%\n",
      "\n",
      "Epoch 35/50\n"
     ]
    },
    {
     "name": "stderr",
     "output_type": "stream",
     "text": [
      "Training: 100%|██████████| 391/391 [00:18<00:00, 20.67it/s, loss=0.347, acc=87.7]\n"
     ]
    },
    {
     "name": "stdout",
     "output_type": "stream",
     "text": [
      "Train Loss: 0.3451, Train Acc: 87.66%\n",
      "Test Loss: 0.5419, Test Acc: 82.73%\n",
      "\n",
      "Epoch 36/50\n"
     ]
    },
    {
     "name": "stderr",
     "output_type": "stream",
     "text": [
      "Training: 100%|██████████| 391/391 [00:18<00:00, 20.83it/s, loss=0.324, acc=88.4]\n"
     ]
    },
    {
     "name": "stdout",
     "output_type": "stream",
     "text": [
      "Train Loss: 0.3223, Train Acc: 88.41%\n",
      "Test Loss: 0.5558, Test Acc: 82.49%\n",
      "\n",
      "Epoch 37/50\n"
     ]
    },
    {
     "name": "stderr",
     "output_type": "stream",
     "text": [
      "Training: 100%|██████████| 391/391 [00:19<00:00, 20.42it/s, loss=0.306, acc=89.2]\n"
     ]
    },
    {
     "name": "stdout",
     "output_type": "stream",
     "text": [
      "Train Loss: 0.3054, Train Acc: 89.16%\n",
      "Test Loss: 0.5618, Test Acc: 82.32%\n",
      "\n",
      "Epoch 38/50\n"
     ]
    },
    {
     "name": "stderr",
     "output_type": "stream",
     "text": [
      "Training: 100%|██████████| 391/391 [00:18<00:00, 20.87it/s, loss=0.288, acc=89.9]\n"
     ]
    },
    {
     "name": "stdout",
     "output_type": "stream",
     "text": [
      "Train Loss: 0.2862, Train Acc: 89.89%\n",
      "Test Loss: 0.5483, Test Acc: 83.14%\n",
      "\n",
      "Epoch 39/50\n"
     ]
    },
    {
     "name": "stderr",
     "output_type": "stream",
     "text": [
      "Training: 100%|██████████| 391/391 [00:18<00:00, 20.70it/s, loss=0.269, acc=90.4]\n"
     ]
    },
    {
     "name": "stdout",
     "output_type": "stream",
     "text": [
      "Train Loss: 0.2678, Train Acc: 90.42%\n",
      "Test Loss: 0.5487, Test Acc: 82.97%\n",
      "\n",
      "Epoch 40/50\n"
     ]
    },
    {
     "name": "stderr",
     "output_type": "stream",
     "text": [
      "Training: 100%|██████████| 391/391 [00:18<00:00, 20.74it/s, loss=0.251, acc=91.2]\n"
     ]
    },
    {
     "name": "stdout",
     "output_type": "stream",
     "text": [
      "Train Loss: 0.2500, Train Acc: 91.17%\n",
      "Test Loss: 0.5566, Test Acc: 83.31%\n",
      "\n",
      "Epoch 41/50\n"
     ]
    },
    {
     "name": "stderr",
     "output_type": "stream",
     "text": [
      "Training: 100%|██████████| 391/391 [00:18<00:00, 20.69it/s, loss=0.237, acc=91.5]\n"
     ]
    },
    {
     "name": "stdout",
     "output_type": "stream",
     "text": [
      "Train Loss: 0.2360, Train Acc: 91.52%\n",
      "Test Loss: 0.5717, Test Acc: 82.94%\n",
      "\n",
      "Epoch 42/50\n"
     ]
    },
    {
     "name": "stderr",
     "output_type": "stream",
     "text": [
      "Training: 100%|██████████| 391/391 [00:18<00:00, 20.69it/s, loss=0.225, acc=92]  \n"
     ]
    },
    {
     "name": "stdout",
     "output_type": "stream",
     "text": [
      "Train Loss: 0.2243, Train Acc: 92.02%\n",
      "Test Loss: 0.5720, Test Acc: 83.11%\n",
      "\n",
      "Epoch 43/50\n"
     ]
    },
    {
     "name": "stderr",
     "output_type": "stream",
     "text": [
      "Training: 100%|██████████| 391/391 [00:18<00:00, 20.76it/s, loss=0.217, acc=92.3]\n"
     ]
    },
    {
     "name": "stdout",
     "output_type": "stream",
     "text": [
      "Train Loss: 0.2154, Train Acc: 92.31%\n",
      "Test Loss: 0.5798, Test Acc: 83.08%\n",
      "\n",
      "Epoch 44/50\n"
     ]
    },
    {
     "name": "stderr",
     "output_type": "stream",
     "text": [
      "Training: 100%|██████████| 391/391 [00:18<00:00, 20.72it/s, loss=0.202, acc=92.8]\n"
     ]
    },
    {
     "name": "stdout",
     "output_type": "stream",
     "text": [
      "Train Loss: 0.2015, Train Acc: 92.75%\n",
      "Test Loss: 0.5794, Test Acc: 83.01%\n",
      "\n",
      "Epoch 45/50\n"
     ]
    },
    {
     "name": "stderr",
     "output_type": "stream",
     "text": [
      "Training: 100%|██████████| 391/391 [00:18<00:00, 20.74it/s, loss=0.196, acc=93.2]\n"
     ]
    },
    {
     "name": "stdout",
     "output_type": "stream",
     "text": [
      "Train Loss: 0.1951, Train Acc: 93.18%\n",
      "Test Loss: 0.5844, Test Acc: 83.25%\n",
      "\n",
      "Epoch 46/50\n"
     ]
    },
    {
     "name": "stderr",
     "output_type": "stream",
     "text": [
      "Training: 100%|██████████| 391/391 [00:18<00:00, 20.71it/s, loss=0.19, acc=93.3] \n"
     ]
    },
    {
     "name": "stdout",
     "output_type": "stream",
     "text": [
      "Train Loss: 0.1889, Train Acc: 93.29%\n",
      "Test Loss: 0.5935, Test Acc: 83.13%\n",
      "\n",
      "Epoch 47/50\n"
     ]
    },
    {
     "name": "stderr",
     "output_type": "stream",
     "text": [
      "Training: 100%|██████████| 391/391 [00:18<00:00, 20.81it/s, loss=0.182, acc=93.5]\n"
     ]
    },
    {
     "name": "stdout",
     "output_type": "stream",
     "text": [
      "Train Loss: 0.1810, Train Acc: 93.54%\n",
      "Test Loss: 0.5861, Test Acc: 83.38%\n",
      "\n",
      "Epoch 48/50\n"
     ]
    },
    {
     "name": "stderr",
     "output_type": "stream",
     "text": [
      "Training: 100%|██████████| 391/391 [00:18<00:00, 20.77it/s, loss=0.178, acc=93.8]\n"
     ]
    },
    {
     "name": "stdout",
     "output_type": "stream",
     "text": [
      "Train Loss: 0.1771, Train Acc: 93.76%\n",
      "Test Loss: 0.5880, Test Acc: 83.33%\n",
      "\n",
      "Epoch 49/50\n"
     ]
    },
    {
     "name": "stderr",
     "output_type": "stream",
     "text": [
      "Training: 100%|██████████| 391/391 [00:18<00:00, 20.67it/s, loss=0.176, acc=93.7]\n"
     ]
    },
    {
     "name": "stdout",
     "output_type": "stream",
     "text": [
      "Train Loss: 0.1751, Train Acc: 93.70%\n",
      "Test Loss: 0.5894, Test Acc: 83.34%\n",
      "\n",
      "Epoch 50/50\n"
     ]
    },
    {
     "name": "stderr",
     "output_type": "stream",
     "text": [
      "Training: 100%|██████████| 391/391 [00:18<00:00, 20.88it/s, loss=0.174, acc=93.9]\n"
     ]
    },
    {
     "name": "stdout",
     "output_type": "stream",
     "text": [
      "Train Loss: 0.1736, Train Acc: 93.93%\n",
      "Test Loss: 0.5886, Test Acc: 83.33%\n",
      "\n",
      "=== Running hyperparameter configuration 5/5 ===\n",
      "\n",
      "Epoch 1/50\n"
     ]
    },
    {
     "name": "stderr",
     "output_type": "stream",
     "text": [
      "Training: 100%|██████████| 391/391 [00:14<00:00, 26.62it/s, loss=1.71, acc=36.9]\n"
     ]
    },
    {
     "name": "stdout",
     "output_type": "stream",
     "text": [
      "Train Loss: 1.7017, Train Acc: 36.92%\n",
      "Test Loss: 1.4025, Test Acc: 49.47%\n",
      "\n",
      "Epoch 2/50\n"
     ]
    },
    {
     "name": "stderr",
     "output_type": "stream",
     "text": [
      "Training: 100%|██████████| 391/391 [00:14<00:00, 26.39it/s, loss=1.33, acc=51.8]\n"
     ]
    },
    {
     "name": "stdout",
     "output_type": "stream",
     "text": [
      "Train Loss: 1.3203, Train Acc: 51.75%\n",
      "Test Loss: 1.1871, Test Acc: 56.74%\n",
      "\n",
      "Epoch 3/50\n"
     ]
    },
    {
     "name": "stderr",
     "output_type": "stream",
     "text": [
      "Training: 100%|██████████| 391/391 [00:14<00:00, 26.47it/s, loss=1.19, acc=57.3]\n"
     ]
    },
    {
     "name": "stdout",
     "output_type": "stream",
     "text": [
      "Train Loss: 1.1824, Train Acc: 57.30%\n",
      "Test Loss: 1.1197, Test Acc: 59.77%\n",
      "\n",
      "Epoch 4/50\n"
     ]
    },
    {
     "name": "stderr",
     "output_type": "stream",
     "text": [
      "Training: 100%|██████████| 391/391 [00:14<00:00, 26.23it/s, loss=1.1, acc=60.7] \n"
     ]
    },
    {
     "name": "stdout",
     "output_type": "stream",
     "text": [
      "Train Loss: 1.0946, Train Acc: 60.68%\n",
      "Test Loss: 1.0026, Test Acc: 64.11%\n",
      "\n",
      "Epoch 5/50\n"
     ]
    },
    {
     "name": "stderr",
     "output_type": "stream",
     "text": [
      "Training: 100%|██████████| 391/391 [00:14<00:00, 26.61it/s, loss=1.04, acc=62.8]\n"
     ]
    },
    {
     "name": "stdout",
     "output_type": "stream",
     "text": [
      "Train Loss: 1.0384, Train Acc: 62.84%\n",
      "Test Loss: 0.9592, Test Acc: 65.63%\n",
      "\n",
      "Epoch 6/50\n"
     ]
    },
    {
     "name": "stderr",
     "output_type": "stream",
     "text": [
      "Training: 100%|██████████| 391/391 [00:14<00:00, 26.48it/s, loss=0.988, acc=64.8]\n"
     ]
    },
    {
     "name": "stdout",
     "output_type": "stream",
     "text": [
      "Train Loss: 0.9827, Train Acc: 64.75%\n",
      "Test Loss: 0.8981, Test Acc: 67.99%\n",
      "\n",
      "Epoch 7/50\n"
     ]
    },
    {
     "name": "stderr",
     "output_type": "stream",
     "text": [
      "Training: 100%|██████████| 391/391 [00:14<00:00, 26.43it/s, loss=0.938, acc=66.9]\n"
     ]
    },
    {
     "name": "stdout",
     "output_type": "stream",
     "text": [
      "Train Loss: 0.9329, Train Acc: 66.91%\n",
      "Test Loss: 0.9170, Test Acc: 67.55%\n",
      "\n",
      "Epoch 8/50\n"
     ]
    },
    {
     "name": "stderr",
     "output_type": "stream",
     "text": [
      "Training: 100%|██████████| 391/391 [00:14<00:00, 26.39it/s, loss=0.9, acc=68.2]  \n"
     ]
    },
    {
     "name": "stdout",
     "output_type": "stream",
     "text": [
      "Train Loss: 0.8954, Train Acc: 68.24%\n",
      "Test Loss: 0.8538, Test Acc: 69.19%\n",
      "\n",
      "Epoch 9/50\n"
     ]
    },
    {
     "name": "stderr",
     "output_type": "stream",
     "text": [
      "Training: 100%|██████████| 391/391 [00:14<00:00, 26.33it/s, loss=0.847, acc=70.1]\n"
     ]
    },
    {
     "name": "stdout",
     "output_type": "stream",
     "text": [
      "Train Loss: 0.8428, Train Acc: 70.06%\n",
      "Test Loss: 0.7953, Test Acc: 71.55%\n",
      "\n",
      "Epoch 10/50\n"
     ]
    },
    {
     "name": "stderr",
     "output_type": "stream",
     "text": [
      "Training: 100%|██████████| 391/391 [00:14<00:00, 26.32it/s, loss=0.813, acc=71.4]\n"
     ]
    },
    {
     "name": "stdout",
     "output_type": "stream",
     "text": [
      "Train Loss: 0.8093, Train Acc: 71.40%\n",
      "Test Loss: 0.7836, Test Acc: 72.36%\n",
      "\n",
      "Epoch 11/50\n"
     ]
    },
    {
     "name": "stderr",
     "output_type": "stream",
     "text": [
      "Training: 100%|██████████| 391/391 [00:14<00:00, 26.31it/s, loss=0.776, acc=72.9]\n"
     ]
    },
    {
     "name": "stdout",
     "output_type": "stream",
     "text": [
      "Train Loss: 0.7724, Train Acc: 72.94%\n",
      "Test Loss: 0.7698, Test Acc: 73.18%\n",
      "\n",
      "Epoch 12/50\n"
     ]
    },
    {
     "name": "stderr",
     "output_type": "stream",
     "text": [
      "Training: 100%|██████████| 391/391 [00:14<00:00, 26.21it/s, loss=0.742, acc=73.7]\n"
     ]
    },
    {
     "name": "stdout",
     "output_type": "stream",
     "text": [
      "Train Loss: 0.7399, Train Acc: 73.70%\n",
      "Test Loss: 0.7340, Test Acc: 73.94%\n",
      "\n",
      "Epoch 13/50\n"
     ]
    },
    {
     "name": "stderr",
     "output_type": "stream",
     "text": [
      "Training: 100%|██████████| 391/391 [00:14<00:00, 26.35it/s, loss=0.715, acc=74.7]\n"
     ]
    },
    {
     "name": "stdout",
     "output_type": "stream",
     "text": [
      "Train Loss: 0.7116, Train Acc: 74.68%\n",
      "Test Loss: 0.7057, Test Acc: 75.28%\n",
      "\n",
      "Epoch 14/50\n"
     ]
    },
    {
     "name": "stderr",
     "output_type": "stream",
     "text": [
      "Training: 100%|██████████| 391/391 [00:14<00:00, 26.48it/s, loss=0.687, acc=75.8]\n"
     ]
    },
    {
     "name": "stdout",
     "output_type": "stream",
     "text": [
      "Train Loss: 0.6834, Train Acc: 75.77%\n",
      "Test Loss: 0.7032, Test Acc: 75.00%\n",
      "\n",
      "Epoch 15/50\n"
     ]
    },
    {
     "name": "stderr",
     "output_type": "stream",
     "text": [
      "Training: 100%|██████████| 391/391 [00:14<00:00, 26.16it/s, loss=0.658, acc=76.8]\n"
     ]
    },
    {
     "name": "stdout",
     "output_type": "stream",
     "text": [
      "Train Loss: 0.6546, Train Acc: 76.81%\n",
      "Test Loss: 0.6634, Test Acc: 77.00%\n",
      "\n",
      "Epoch 16/50\n"
     ]
    },
    {
     "name": "stderr",
     "output_type": "stream",
     "text": [
      "Training: 100%|██████████| 391/391 [00:14<00:00, 26.41it/s, loss=0.638, acc=77.7]\n"
     ]
    },
    {
     "name": "stdout",
     "output_type": "stream",
     "text": [
      "Train Loss: 0.6350, Train Acc: 77.71%\n",
      "Test Loss: 0.6315, Test Acc: 77.75%\n",
      "\n",
      "Epoch 17/50\n"
     ]
    },
    {
     "name": "stderr",
     "output_type": "stream",
     "text": [
      "Training: 100%|██████████| 391/391 [00:14<00:00, 26.48it/s, loss=0.61, acc=78.3] \n"
     ]
    },
    {
     "name": "stdout",
     "output_type": "stream",
     "text": [
      "Train Loss: 0.6071, Train Acc: 78.29%\n",
      "Test Loss: 0.6521, Test Acc: 77.46%\n",
      "\n",
      "Epoch 18/50\n"
     ]
    },
    {
     "name": "stderr",
     "output_type": "stream",
     "text": [
      "Training: 100%|██████████| 391/391 [00:14<00:00, 26.11it/s, loss=0.593, acc=79]  \n"
     ]
    },
    {
     "name": "stdout",
     "output_type": "stream",
     "text": [
      "Train Loss: 0.5902, Train Acc: 79.04%\n",
      "Test Loss: 0.6345, Test Acc: 77.96%\n",
      "\n",
      "Epoch 19/50\n"
     ]
    },
    {
     "name": "stderr",
     "output_type": "stream",
     "text": [
      "Training: 100%|██████████| 391/391 [00:14<00:00, 26.56it/s, loss=0.57, acc=79.8] \n"
     ]
    },
    {
     "name": "stdout",
     "output_type": "stream",
     "text": [
      "Train Loss: 0.5684, Train Acc: 79.81%\n",
      "Test Loss: 0.6272, Test Acc: 78.54%\n",
      "\n",
      "Epoch 20/50\n"
     ]
    },
    {
     "name": "stderr",
     "output_type": "stream",
     "text": [
      "Training: 100%|██████████| 391/391 [00:14<00:00, 26.45it/s, loss=0.547, acc=80.9]\n"
     ]
    },
    {
     "name": "stdout",
     "output_type": "stream",
     "text": [
      "Train Loss: 0.5441, Train Acc: 80.86%\n",
      "Test Loss: 0.6054, Test Acc: 79.07%\n",
      "\n",
      "Epoch 21/50\n"
     ]
    },
    {
     "name": "stderr",
     "output_type": "stream",
     "text": [
      "Training: 100%|██████████| 391/391 [00:14<00:00, 26.37it/s, loss=0.528, acc=81.6]\n"
     ]
    },
    {
     "name": "stdout",
     "output_type": "stream",
     "text": [
      "Train Loss: 0.5251, Train Acc: 81.59%\n",
      "Test Loss: 0.5953, Test Acc: 79.09%\n",
      "\n",
      "Epoch 22/50\n"
     ]
    },
    {
     "name": "stderr",
     "output_type": "stream",
     "text": [
      "Training: 100%|██████████| 391/391 [00:14<00:00, 26.57it/s, loss=0.508, acc=82.1]\n"
     ]
    },
    {
     "name": "stdout",
     "output_type": "stream",
     "text": [
      "Train Loss: 0.5051, Train Acc: 82.11%\n",
      "Test Loss: 0.6000, Test Acc: 80.04%\n",
      "\n",
      "Epoch 23/50\n"
     ]
    },
    {
     "name": "stderr",
     "output_type": "stream",
     "text": [
      "Training: 100%|██████████| 391/391 [00:14<00:00, 26.29it/s, loss=0.486, acc=82.9]\n"
     ]
    },
    {
     "name": "stdout",
     "output_type": "stream",
     "text": [
      "Train Loss: 0.4833, Train Acc: 82.94%\n",
      "Test Loss: 0.5853, Test Acc: 79.98%\n",
      "\n",
      "Epoch 24/50\n"
     ]
    },
    {
     "name": "stderr",
     "output_type": "stream",
     "text": [
      "Training: 100%|██████████| 391/391 [00:14<00:00, 26.09it/s, loss=0.467, acc=83.5]\n"
     ]
    },
    {
     "name": "stdout",
     "output_type": "stream",
     "text": [
      "Train Loss: 0.4649, Train Acc: 83.46%\n",
      "Test Loss: 0.5629, Test Acc: 80.69%\n",
      "\n",
      "Epoch 25/50\n"
     ]
    },
    {
     "name": "stderr",
     "output_type": "stream",
     "text": [
      "Training: 100%|██████████| 391/391 [00:14<00:00, 26.39it/s, loss=0.444, acc=84.4]\n"
     ]
    },
    {
     "name": "stdout",
     "output_type": "stream",
     "text": [
      "Train Loss: 0.4414, Train Acc: 84.37%\n",
      "Test Loss: 0.5541, Test Acc: 81.58%\n",
      "\n",
      "Epoch 26/50\n"
     ]
    },
    {
     "name": "stderr",
     "output_type": "stream",
     "text": [
      "Training: 100%|██████████| 391/391 [00:14<00:00, 26.49it/s, loss=0.428, acc=85]  \n"
     ]
    },
    {
     "name": "stdout",
     "output_type": "stream",
     "text": [
      "Train Loss: 0.4262, Train Acc: 84.98%\n",
      "Test Loss: 0.5613, Test Acc: 81.34%\n",
      "\n",
      "Epoch 27/50\n"
     ]
    },
    {
     "name": "stderr",
     "output_type": "stream",
     "text": [
      "Training: 100%|██████████| 391/391 [00:14<00:00, 26.41it/s, loss=0.412, acc=85.5]\n"
     ]
    },
    {
     "name": "stdout",
     "output_type": "stream",
     "text": [
      "Train Loss: 0.4096, Train Acc: 85.46%\n",
      "Test Loss: 0.5465, Test Acc: 82.12%\n",
      "\n",
      "Epoch 28/50\n"
     ]
    },
    {
     "name": "stderr",
     "output_type": "stream",
     "text": [
      "Training: 100%|██████████| 391/391 [00:14<00:00, 26.21it/s, loss=0.393, acc=86]  \n"
     ]
    },
    {
     "name": "stdout",
     "output_type": "stream",
     "text": [
      "Train Loss: 0.3915, Train Acc: 86.04%\n",
      "Test Loss: 0.5358, Test Acc: 82.33%\n",
      "\n",
      "Epoch 29/50\n"
     ]
    },
    {
     "name": "stderr",
     "output_type": "stream",
     "text": [
      "Training: 100%|██████████| 391/391 [00:14<00:00, 26.41it/s, loss=0.377, acc=86.6]\n"
     ]
    },
    {
     "name": "stdout",
     "output_type": "stream",
     "text": [
      "Train Loss: 0.3754, Train Acc: 86.56%\n",
      "Test Loss: 0.5628, Test Acc: 81.68%\n",
      "\n",
      "Epoch 30/50\n"
     ]
    },
    {
     "name": "stderr",
     "output_type": "stream",
     "text": [
      "Training: 100%|██████████| 391/391 [00:14<00:00, 26.08it/s, loss=0.356, acc=87.3]\n"
     ]
    },
    {
     "name": "stdout",
     "output_type": "stream",
     "text": [
      "Train Loss: 0.3539, Train Acc: 87.32%\n",
      "Test Loss: 0.5372, Test Acc: 82.91%\n",
      "\n",
      "Epoch 31/50\n"
     ]
    },
    {
     "name": "stderr",
     "output_type": "stream",
     "text": [
      "Training: 100%|██████████| 391/391 [00:14<00:00, 26.28it/s, loss=0.339, acc=87.8]\n"
     ]
    },
    {
     "name": "stdout",
     "output_type": "stream",
     "text": [
      "Train Loss: 0.3372, Train Acc: 87.84%\n",
      "Test Loss: 0.5389, Test Acc: 82.29%\n",
      "\n",
      "Epoch 32/50\n"
     ]
    },
    {
     "name": "stderr",
     "output_type": "stream",
     "text": [
      "Training: 100%|██████████| 391/391 [00:14<00:00, 26.35it/s, loss=0.322, acc=88.5]\n"
     ]
    },
    {
     "name": "stdout",
     "output_type": "stream",
     "text": [
      "Train Loss: 0.3207, Train Acc: 88.52%\n",
      "Test Loss: 0.5289, Test Acc: 83.10%\n",
      "\n",
      "Epoch 33/50\n"
     ]
    },
    {
     "name": "stderr",
     "output_type": "stream",
     "text": [
      "Training: 100%|██████████| 391/391 [00:14<00:00, 26.30it/s, loss=0.306, acc=89.1]\n"
     ]
    },
    {
     "name": "stdout",
     "output_type": "stream",
     "text": [
      "Train Loss: 0.3049, Train Acc: 89.08%\n",
      "Test Loss: 0.5469, Test Acc: 82.83%\n",
      "\n",
      "Epoch 34/50\n"
     ]
    },
    {
     "name": "stderr",
     "output_type": "stream",
     "text": [
      "Training: 100%|██████████| 391/391 [00:14<00:00, 26.36it/s, loss=0.295, acc=89.6]\n"
     ]
    },
    {
     "name": "stdout",
     "output_type": "stream",
     "text": [
      "Train Loss: 0.2932, Train Acc: 89.62%\n",
      "Test Loss: 0.5305, Test Acc: 83.21%\n",
      "\n",
      "Epoch 35/50\n"
     ]
    },
    {
     "name": "stderr",
     "output_type": "stream",
     "text": [
      "Training: 100%|██████████| 391/391 [00:14<00:00, 26.52it/s, loss=0.28, acc=90.1] \n"
     ]
    },
    {
     "name": "stdout",
     "output_type": "stream",
     "text": [
      "Train Loss: 0.2789, Train Acc: 90.12%\n",
      "Test Loss: 0.5229, Test Acc: 83.59%\n",
      "\n",
      "Epoch 36/50\n"
     ]
    },
    {
     "name": "stderr",
     "output_type": "stream",
     "text": [
      "Training: 100%|██████████| 391/391 [00:14<00:00, 26.50it/s, loss=0.268, acc=90.6]\n"
     ]
    },
    {
     "name": "stdout",
     "output_type": "stream",
     "text": [
      "Train Loss: 0.2666, Train Acc: 90.58%\n",
      "Test Loss: 0.5177, Test Acc: 83.75%\n",
      "\n",
      "Epoch 37/50\n"
     ]
    },
    {
     "name": "stderr",
     "output_type": "stream",
     "text": [
      "Training: 100%|██████████| 391/391 [00:14<00:00, 26.34it/s, loss=0.253, acc=91]  \n"
     ]
    },
    {
     "name": "stdout",
     "output_type": "stream",
     "text": [
      "Train Loss: 0.2517, Train Acc: 91.00%\n",
      "Test Loss: 0.5402, Test Acc: 83.64%\n",
      "\n",
      "Epoch 38/50\n"
     ]
    },
    {
     "name": "stderr",
     "output_type": "stream",
     "text": [
      "Training: 100%|██████████| 391/391 [00:15<00:00, 25.96it/s, loss=0.237, acc=91.6]\n"
     ]
    },
    {
     "name": "stdout",
     "output_type": "stream",
     "text": [
      "Train Loss: 0.2365, Train Acc: 91.61%\n",
      "Test Loss: 0.5238, Test Acc: 84.21%\n",
      "\n",
      "Epoch 39/50\n"
     ]
    },
    {
     "name": "stderr",
     "output_type": "stream",
     "text": [
      "Training: 100%|██████████| 391/391 [00:14<00:00, 26.70it/s, loss=0.226, acc=91.9]\n"
     ]
    },
    {
     "name": "stdout",
     "output_type": "stream",
     "text": [
      "Train Loss: 0.2251, Train Acc: 91.87%\n",
      "Test Loss: 0.5403, Test Acc: 83.88%\n",
      "\n",
      "Epoch 40/50\n"
     ]
    },
    {
     "name": "stderr",
     "output_type": "stream",
     "text": [
      "Training: 100%|██████████| 391/391 [00:14<00:00, 26.41it/s, loss=0.222, acc=92.1]\n"
     ]
    },
    {
     "name": "stdout",
     "output_type": "stream",
     "text": [
      "Train Loss: 0.2205, Train Acc: 92.11%\n",
      "Test Loss: 0.5401, Test Acc: 84.15%\n",
      "\n",
      "Epoch 41/50\n"
     ]
    },
    {
     "name": "stderr",
     "output_type": "stream",
     "text": [
      "Training: 100%|██████████| 391/391 [00:15<00:00, 25.79it/s, loss=0.208, acc=92.5]\n"
     ]
    },
    {
     "name": "stdout",
     "output_type": "stream",
     "text": [
      "Train Loss: 0.2074, Train Acc: 92.54%\n",
      "Test Loss: 0.5394, Test Acc: 84.15%\n",
      "\n",
      "Epoch 42/50\n"
     ]
    },
    {
     "name": "stderr",
     "output_type": "stream",
     "text": [
      "Training: 100%|██████████| 391/391 [00:14<00:00, 26.68it/s, loss=0.204, acc=92.7]\n"
     ]
    },
    {
     "name": "stdout",
     "output_type": "stream",
     "text": [
      "Train Loss: 0.2033, Train Acc: 92.72%\n",
      "Test Loss: 0.5358, Test Acc: 84.37%\n",
      "\n",
      "Epoch 43/50\n"
     ]
    },
    {
     "name": "stderr",
     "output_type": "stream",
     "text": [
      "Training: 100%|██████████| 391/391 [00:14<00:00, 26.53it/s, loss=0.195, acc=93.2]\n"
     ]
    },
    {
     "name": "stdout",
     "output_type": "stream",
     "text": [
      "Train Loss: 0.1937, Train Acc: 93.15%\n",
      "Test Loss: 0.5500, Test Acc: 84.06%\n",
      "\n",
      "Epoch 44/50\n"
     ]
    },
    {
     "name": "stderr",
     "output_type": "stream",
     "text": [
      "Training: 100%|██████████| 391/391 [00:14<00:00, 26.30it/s, loss=0.188, acc=93.4]\n"
     ]
    },
    {
     "name": "stdout",
     "output_type": "stream",
     "text": [
      "Train Loss: 0.1871, Train Acc: 93.37%\n",
      "Test Loss: 0.5461, Test Acc: 84.23%\n",
      "\n",
      "Epoch 45/50\n"
     ]
    },
    {
     "name": "stderr",
     "output_type": "stream",
     "text": [
      "Training: 100%|██████████| 391/391 [00:14<00:00, 26.35it/s, loss=0.182, acc=93.5]\n"
     ]
    },
    {
     "name": "stdout",
     "output_type": "stream",
     "text": [
      "Train Loss: 0.1815, Train Acc: 93.51%\n",
      "Test Loss: 0.5466, Test Acc: 84.34%\n",
      "\n",
      "Epoch 46/50\n"
     ]
    },
    {
     "name": "stderr",
     "output_type": "stream",
     "text": [
      "Training: 100%|██████████| 391/391 [00:15<00:00, 26.04it/s, loss=0.176, acc=93.8]\n"
     ]
    },
    {
     "name": "stdout",
     "output_type": "stream",
     "text": [
      "Train Loss: 0.1751, Train Acc: 93.77%\n",
      "Test Loss: 0.5477, Test Acc: 84.39%\n",
      "\n",
      "Epoch 47/50\n"
     ]
    },
    {
     "name": "stderr",
     "output_type": "stream",
     "text": [
      "Training: 100%|██████████| 391/391 [00:15<00:00, 25.79it/s, loss=0.174, acc=93.9]\n"
     ]
    },
    {
     "name": "stdout",
     "output_type": "stream",
     "text": [
      "Train Loss: 0.1737, Train Acc: 93.86%\n",
      "Test Loss: 0.5425, Test Acc: 84.39%\n",
      "\n",
      "Epoch 48/50\n"
     ]
    },
    {
     "name": "stderr",
     "output_type": "stream",
     "text": [
      "Training: 100%|██████████| 391/391 [00:14<00:00, 26.31it/s, loss=0.171, acc=93.9]\n"
     ]
    },
    {
     "name": "stdout",
     "output_type": "stream",
     "text": [
      "Train Loss: 0.1704, Train Acc: 93.92%\n",
      "Test Loss: 0.5465, Test Acc: 84.56%\n",
      "\n",
      "Epoch 49/50\n"
     ]
    },
    {
     "name": "stderr",
     "output_type": "stream",
     "text": [
      "Training: 100%|██████████| 391/391 [00:14<00:00, 26.14it/s, loss=0.174, acc=93.8]\n"
     ]
    },
    {
     "name": "stdout",
     "output_type": "stream",
     "text": [
      "Train Loss: 0.1738, Train Acc: 93.80%\n",
      "Test Loss: 0.5442, Test Acc: 84.61%\n",
      "\n",
      "Epoch 50/50\n"
     ]
    },
    {
     "name": "stderr",
     "output_type": "stream",
     "text": [
      "Training: 100%|██████████| 391/391 [00:14<00:00, 26.10it/s, loss=0.17, acc=94.1] \n"
     ]
    },
    {
     "name": "stdout",
     "output_type": "stream",
     "text": [
      "Train Loss: 0.1693, Train Acc: 94.06%\n",
      "Test Loss: 0.5449, Test Acc: 84.56%\n",
      "\n",
      "Hyperparameter Exploration Results:\n",
      "==================================================\n",
      "Config 1:\n",
      "  Patch Size: 4\n",
      "  Embed Dim: 256\n",
      "  Depth: 6\n",
      "  Heads: 8\n",
      "  MLP Dim: 512\n",
      "  Learning Rate: 0.001\n",
      "  Best Test Accuracy: 83.81%\n",
      "==================================================\n",
      "Config 2:\n",
      "  Patch Size: 4\n",
      "  Embed Dim: 256\n",
      "  Depth: 8\n",
      "  Heads: 8\n",
      "  MLP Dim: 512\n",
      "  Learning Rate: 0.001\n",
      "  Best Test Accuracy: 83.99%\n",
      "==================================================\n",
      "Config 3:\n",
      "  Patch Size: 4\n",
      "  Embed Dim: 384\n",
      "  Depth: 6\n",
      "  Heads: 12\n",
      "  MLP Dim: 768\n",
      "  Learning Rate: 0.001\n",
      "  Best Test Accuracy: 10.04%\n",
      "==================================================\n",
      "Config 4:\n",
      "  Patch Size: 4\n",
      "  Embed Dim: 288\n",
      "  Depth: 6\n",
      "  Heads: 12\n",
      "  MLP Dim: 576\n",
      "  Learning Rate: 0.001\n",
      "  Best Test Accuracy: 83.38%\n",
      "==================================================\n",
      "Config 5:\n",
      "  Patch Size: 4\n",
      "  Embed Dim: 256\n",
      "  Depth: 6\n",
      "  Heads: 8\n",
      "  MLP Dim: 512\n",
      "  Learning Rate: 0.0005\n",
      "  Best Test Accuracy: 84.61%\n",
      "==================================================\n",
      "\n",
      "Best Configuration (Test Acc: 84.61%):\n",
      "  Patch Size: 4\n",
      "  Embed Dim: 256\n",
      "  Depth: 6\n",
      "  Heads: 8\n",
      "  MLP Dim: 512\n",
      "  Learning Rate: 0.0005\n"
     ]
    }
   ],
   "source": [
    "if 'hyperparameters' in experiments_to_run:\n",
    "    print(\"\\n=== Running Hyperparameter Exploration ===\")\n",
    "    best_config, hyperparameter_results = run_hyperparameter_exploration(device)\n",
    "    results['hyperparameters'] = hyperparameter_results"
   ]
  },
  {
   "cell_type": "code",
   "execution_count": null,
   "metadata": {},
   "outputs": [],
   "source": [
    "all_results = results['hyperparameters']"
   ]
  },
  {
   "cell_type": "code",
   "execution_count": 40,
   "metadata": {},
   "outputs": [
    {
     "name": "stdout",
     "output_type": "stream",
     "text": [
      "\n",
      "Hyperparameter Exploration Results:\n",
      "==================================================\n",
      "Config 1:\n",
      "  Patch Size: 4\n",
      "  Embed Dim: 256\n",
      "  Depth: 6\n",
      "  Heads: 8\n",
      "  MLP Dim: 512\n",
      "  Learning Rate: 0.001\n",
      "  Best Test Accuracy: 83.81%\n",
      "==================================================\n",
      "Config 2:\n",
      "  Patch Size: 4\n",
      "  Embed Dim: 256\n",
      "  Depth: 8\n",
      "  Heads: 8\n",
      "  MLP Dim: 512\n",
      "  Learning Rate: 0.001\n",
      "  Best Test Accuracy: 83.99%\n",
      "==================================================\n",
      "Config 3:\n",
      "  Patch Size: 4\n",
      "  Embed Dim: 384\n",
      "  Depth: 6\n",
      "  Heads: 12\n",
      "  MLP Dim: 768\n",
      "  Learning Rate: 0.001\n",
      "  Best Test Accuracy: 10.04%\n",
      "==================================================\n",
      "Config 4:\n",
      "  Patch Size: 4\n",
      "  Embed Dim: 288\n",
      "  Depth: 6\n",
      "  Heads: 12\n",
      "  MLP Dim: 576\n",
      "  Learning Rate: 0.001\n",
      "  Best Test Accuracy: 83.38%\n",
      "==================================================\n",
      "Config 5:\n",
      "  Patch Size: 4\n",
      "  Embed Dim: 256\n",
      "  Depth: 6\n",
      "  Heads: 8\n",
      "  MLP Dim: 512\n",
      "  Learning Rate: 0.0005\n",
      "  Best Test Accuracy: 84.61%\n",
      "==================================================\n",
      "\n",
      "Best Configuration (Test Acc: 84.61%):\n",
      "  Patch Size: 4\n",
      "  Embed Dim: 256\n",
      "  Depth: 6\n",
      "  Heads: 8\n",
      "  MLP Dim: 512\n",
      "  Learning Rate: 0.0005\n"
     ]
    }
   ],
   "source": [
    "print(\"\\nHyperparameter Exploration Results:\")\n",
    "print(\"=\" * 50)\n",
    "for i, results in enumerate(all_results):\n",
    "    config = results[\"config\"]\n",
    "    print(f\"Config {i+1}:\")\n",
    "    print(f\"  Patch Size: {config['patch_size']}\")\n",
    "    print(f\"  Embed Dim: {config['embed_dim']}\")\n",
    "    print(f\"  Depth: {config['depth']}\")\n",
    "    print(f\"  Heads: {config['n_heads']}\")\n",
    "    print(f\"  MLP Dim: {config['mlp_dim']}\")\n",
    "    print(f\"  Learning Rate: {config['lr']}\")\n",
    "    print(f\"  Best Test Accuracy: {results['best_test_acc']:.2f}%\")\n",
    "    print(\"=\" * 50)\n",
    "\n",
    "# Find best configuration\n",
    "best_idx = max(range(len(all_results)), key=lambda i: all_results[i]['best_test_acc'])\n",
    "best_config = all_results[best_idx]['config']\n",
    "best_acc = all_results[best_idx]['best_test_acc']\n",
    "\n",
    "print(f\"\\nBest Configuration (Test Acc: {best_acc:.2f}%):\")\n",
    "print(f\"  Patch Size: {best_config['patch_size']}\")\n",
    "print(f\"  Embed Dim: {best_config['embed_dim']}\")\n",
    "print(f\"  Depth: {best_config['depth']}\")\n",
    "print(f\"  Heads: {best_config['n_heads']}\")\n",
    "print(f\"  MLP Dim: {best_config['mlp_dim']}\")\n",
    "print(f\"  Learning Rate: {best_config['lr']}\")"
   ]
  },
  {
   "cell_type": "markdown",
   "metadata": {},
   "source": [
    "The hyperparameter exploration results reveal that configuration 5 performs best (84.61% accuracy) with a lower learning rate (0.0005) compared to other setups. Interestingly, configuration 3 fails completely (10.04% accuracy) despite having the largest embedding dimension (384) and MLP size (768), likely because the model becomes too complex and struggles to converge properly. The optimal configuration balances model capacity (256 embedding dimension, 6 transformer layers, 8 attention heads) with training stability. The results show that bigger isn't always better - carefully tuned smaller models often outperform larger ones, and learning rate has a significant impact on final performance."
   ]
  },
  {
   "cell_type": "code",
   "execution_count": 36,
   "metadata": {},
   "outputs": [
    {
     "name": "stdout",
     "output_type": "stream",
     "text": [
      "\n",
      "=== Running Data Augmentation Experiment ===\n",
      "\n",
      "=== Running experiment with augmentation=default ===\n",
      "\n",
      "Epoch 1/20\n"
     ]
    },
    {
     "name": "stderr",
     "output_type": "stream",
     "text": [
      "Training: 100%|██████████| 391/391 [00:14<00:00, 26.64it/s, loss=1.7, acc=37.3] \n"
     ]
    },
    {
     "name": "stdout",
     "output_type": "stream",
     "text": [
      "Train Loss: 1.6909, Train Acc: 37.30%\n",
      "Test Loss: 1.3674, Test Acc: 50.27%\n",
      "\n",
      "Epoch 2/20\n"
     ]
    },
    {
     "name": "stderr",
     "output_type": "stream",
     "text": [
      "Training: 100%|██████████| 391/391 [00:14<00:00, 26.44it/s, loss=1.32, acc=52.4]\n"
     ]
    },
    {
     "name": "stdout",
     "output_type": "stream",
     "text": [
      "Train Loss: 1.3126, Train Acc: 52.41%\n",
      "Test Loss: 1.2181, Test Acc: 56.46%\n",
      "\n",
      "Epoch 3/20\n"
     ]
    },
    {
     "name": "stderr",
     "output_type": "stream",
     "text": [
      "Training: 100%|██████████| 391/391 [00:14<00:00, 26.98it/s, loss=1.18, acc=57.6]\n"
     ]
    },
    {
     "name": "stdout",
     "output_type": "stream",
     "text": [
      "Train Loss: 1.1768, Train Acc: 57.57%\n",
      "Test Loss: 1.1108, Test Acc: 60.88%\n",
      "\n",
      "Epoch 4/20\n"
     ]
    },
    {
     "name": "stderr",
     "output_type": "stream",
     "text": [
      "Training: 100%|██████████| 391/391 [00:14<00:00, 26.70it/s, loss=1.1, acc=60.7] \n"
     ]
    },
    {
     "name": "stdout",
     "output_type": "stream",
     "text": [
      "Train Loss: 1.0928, Train Acc: 60.71%\n",
      "Test Loss: 1.0688, Test Acc: 61.51%\n",
      "\n",
      "Epoch 5/20\n"
     ]
    },
    {
     "name": "stderr",
     "output_type": "stream",
     "text": [
      "Training: 100%|██████████| 391/391 [00:14<00:00, 26.73it/s, loss=1.03, acc=63.1]\n"
     ]
    },
    {
     "name": "stdout",
     "output_type": "stream",
     "text": [
      "Train Loss: 1.0253, Train Acc: 63.06%\n",
      "Test Loss: 1.0531, Test Acc: 62.08%\n",
      "\n",
      "Epoch 6/20\n"
     ]
    },
    {
     "name": "stderr",
     "output_type": "stream",
     "text": [
      "Training: 100%|██████████| 391/391 [00:14<00:00, 27.05it/s, loss=0.972, acc=65.5]\n"
     ]
    },
    {
     "name": "stdout",
     "output_type": "stream",
     "text": [
      "Train Loss: 0.9668, Train Acc: 65.45%\n",
      "Test Loss: 0.9577, Test Acc: 65.76%\n",
      "\n",
      "Epoch 7/20\n"
     ]
    },
    {
     "name": "stderr",
     "output_type": "stream",
     "text": [
      "Training: 100%|██████████| 391/391 [00:14<00:00, 26.65it/s, loss=0.916, acc=67.5]\n"
     ]
    },
    {
     "name": "stdout",
     "output_type": "stream",
     "text": [
      "Train Loss: 0.9112, Train Acc: 67.48%\n",
      "Test Loss: 0.8638, Test Acc: 69.79%\n",
      "\n",
      "Epoch 8/20\n"
     ]
    },
    {
     "name": "stderr",
     "output_type": "stream",
     "text": [
      "Training: 100%|██████████| 391/391 [00:14<00:00, 26.63it/s, loss=0.865, acc=69.3]\n"
     ]
    },
    {
     "name": "stdout",
     "output_type": "stream",
     "text": [
      "Train Loss: 0.8608, Train Acc: 69.32%\n",
      "Test Loss: 0.8729, Test Acc: 68.58%\n",
      "\n",
      "Epoch 9/20\n"
     ]
    },
    {
     "name": "stderr",
     "output_type": "stream",
     "text": [
      "Training: 100%|██████████| 391/391 [00:14<00:00, 26.84it/s, loss=0.821, acc=71.1]\n"
     ]
    },
    {
     "name": "stdout",
     "output_type": "stream",
     "text": [
      "Train Loss: 0.8168, Train Acc: 71.08%\n",
      "Test Loss: 0.7746, Test Acc: 72.83%\n",
      "\n",
      "Epoch 10/20\n"
     ]
    },
    {
     "name": "stderr",
     "output_type": "stream",
     "text": [
      "Training: 100%|██████████| 391/391 [00:14<00:00, 26.76it/s, loss=0.771, acc=72.9]\n"
     ]
    },
    {
     "name": "stdout",
     "output_type": "stream",
     "text": [
      "Train Loss: 0.7670, Train Acc: 72.92%\n",
      "Test Loss: 0.7510, Test Acc: 73.32%\n",
      "\n",
      "Epoch 11/20\n"
     ]
    },
    {
     "name": "stderr",
     "output_type": "stream",
     "text": [
      "Training: 100%|██████████| 391/391 [00:14<00:00, 26.64it/s, loss=0.733, acc=74.2]\n"
     ]
    },
    {
     "name": "stdout",
     "output_type": "stream",
     "text": [
      "Train Loss: 0.7293, Train Acc: 74.17%\n",
      "Test Loss: 0.7191, Test Acc: 74.33%\n",
      "\n",
      "Epoch 12/20\n"
     ]
    },
    {
     "name": "stderr",
     "output_type": "stream",
     "text": [
      "Training: 100%|██████████| 391/391 [00:14<00:00, 26.72it/s, loss=0.689, acc=75.9]\n"
     ]
    },
    {
     "name": "stdout",
     "output_type": "stream",
     "text": [
      "Train Loss: 0.6853, Train Acc: 75.88%\n",
      "Test Loss: 0.6779, Test Acc: 75.90%\n",
      "\n",
      "Epoch 13/20\n"
     ]
    },
    {
     "name": "stderr",
     "output_type": "stream",
     "text": [
      "Training: 100%|██████████| 391/391 [00:14<00:00, 26.66it/s, loss=0.647, acc=77.2]\n"
     ]
    },
    {
     "name": "stdout",
     "output_type": "stream",
     "text": [
      "Train Loss: 0.6435, Train Acc: 77.23%\n",
      "Test Loss: 0.6637, Test Acc: 76.76%\n",
      "\n",
      "Epoch 14/20\n"
     ]
    },
    {
     "name": "stderr",
     "output_type": "stream",
     "text": [
      "Training: 100%|██████████| 391/391 [00:15<00:00, 25.80it/s, loss=0.617, acc=78.4]\n"
     ]
    },
    {
     "name": "stdout",
     "output_type": "stream",
     "text": [
      "Train Loss: 0.6155, Train Acc: 78.36%\n",
      "Test Loss: 0.6594, Test Acc: 76.74%\n",
      "\n",
      "Epoch 15/20\n"
     ]
    },
    {
     "name": "stderr",
     "output_type": "stream",
     "text": [
      "Training: 100%|██████████| 391/391 [00:14<00:00, 26.09it/s, loss=0.584, acc=79.4]\n"
     ]
    },
    {
     "name": "stdout",
     "output_type": "stream",
     "text": [
      "Train Loss: 0.5810, Train Acc: 79.44%\n",
      "Test Loss: 0.6416, Test Acc: 77.66%\n",
      "\n",
      "Epoch 16/20\n"
     ]
    },
    {
     "name": "stderr",
     "output_type": "stream",
     "text": [
      "Training: 100%|██████████| 391/391 [00:14<00:00, 26.45it/s, loss=0.562, acc=80.2]\n"
     ]
    },
    {
     "name": "stdout",
     "output_type": "stream",
     "text": [
      "Train Loss: 0.5593, Train Acc: 80.18%\n",
      "Test Loss: 0.6377, Test Acc: 77.95%\n",
      "\n",
      "Epoch 17/20\n"
     ]
    },
    {
     "name": "stderr",
     "output_type": "stream",
     "text": [
      "Training: 100%|██████████| 391/391 [00:15<00:00, 25.65it/s, loss=0.538, acc=81.1]\n"
     ]
    },
    {
     "name": "stdout",
     "output_type": "stream",
     "text": [
      "Train Loss: 0.5363, Train Acc: 81.08%\n",
      "Test Loss: 0.6127, Test Acc: 78.93%\n",
      "\n",
      "Epoch 18/20\n"
     ]
    },
    {
     "name": "stderr",
     "output_type": "stream",
     "text": [
      "Training: 100%|██████████| 391/391 [00:14<00:00, 26.21it/s, loss=0.518, acc=81.9]\n"
     ]
    },
    {
     "name": "stdout",
     "output_type": "stream",
     "text": [
      "Train Loss: 0.5156, Train Acc: 81.89%\n",
      "Test Loss: 0.6033, Test Acc: 79.31%\n",
      "\n",
      "Epoch 19/20\n"
     ]
    },
    {
     "name": "stderr",
     "output_type": "stream",
     "text": [
      "Training: 100%|██████████| 391/391 [00:14<00:00, 26.46it/s, loss=0.51, acc=82]   \n"
     ]
    },
    {
     "name": "stdout",
     "output_type": "stream",
     "text": [
      "Train Loss: 0.5076, Train Acc: 82.00%\n",
      "Test Loss: 0.5966, Test Acc: 79.56%\n",
      "\n",
      "Epoch 20/20\n"
     ]
    },
    {
     "name": "stderr",
     "output_type": "stream",
     "text": [
      "Training: 100%|██████████| 391/391 [00:15<00:00, 26.04it/s, loss=0.499, acc=82.4]\n"
     ]
    },
    {
     "name": "stdout",
     "output_type": "stream",
     "text": [
      "Train Loss: 0.4981, Train Acc: 82.36%\n",
      "Test Loss: 0.5967, Test Acc: 79.54%\n",
      "\n",
      "=== Running experiment with augmentation=strong ===\n",
      "\n",
      "Epoch 1/20\n"
     ]
    },
    {
     "name": "stderr",
     "output_type": "stream",
     "text": [
      "Training: 100%|██████████| 391/391 [00:21<00:00, 18.30it/s, loss=1.81, acc=32]  \n"
     ]
    },
    {
     "name": "stdout",
     "output_type": "stream",
     "text": [
      "Train Loss: 1.8133, Train Acc: 31.97%\n",
      "Test Loss: 1.5731, Test Acc: 41.61%\n",
      "\n",
      "Epoch 2/20\n"
     ]
    },
    {
     "name": "stderr",
     "output_type": "stream",
     "text": [
      "Training: 100%|██████████| 391/391 [00:23<00:00, 16.50it/s, loss=1.5, acc=45.3] \n"
     ]
    },
    {
     "name": "stdout",
     "output_type": "stream",
     "text": [
      "Train Loss: 1.4995, Train Acc: 45.34%\n",
      "Test Loss: 1.3252, Test Acc: 52.34%\n",
      "\n",
      "Epoch 3/20\n"
     ]
    },
    {
     "name": "stderr",
     "output_type": "stream",
     "text": [
      "Training: 100%|██████████| 391/391 [00:21<00:00, 18.17it/s, loss=1.37, acc=50.5]\n"
     ]
    },
    {
     "name": "stdout",
     "output_type": "stream",
     "text": [
      "Train Loss: 1.3711, Train Acc: 50.46%\n",
      "Test Loss: 1.1955, Test Acc: 56.58%\n",
      "\n",
      "Epoch 4/20\n"
     ]
    },
    {
     "name": "stderr",
     "output_type": "stream",
     "text": [
      "Training: 100%|██████████| 391/391 [00:23<00:00, 16.61it/s, loss=1.3, acc=53.3] \n"
     ]
    },
    {
     "name": "stdout",
     "output_type": "stream",
     "text": [
      "Train Loss: 1.3007, Train Acc: 53.29%\n",
      "Test Loss: 1.1356, Test Acc: 58.99%\n",
      "\n",
      "Epoch 5/20\n"
     ]
    },
    {
     "name": "stderr",
     "output_type": "stream",
     "text": [
      "Training: 100%|██████████| 391/391 [00:21<00:00, 18.14it/s, loss=1.24, acc=55.5]\n"
     ]
    },
    {
     "name": "stdout",
     "output_type": "stream",
     "text": [
      "Train Loss: 1.2356, Train Acc: 55.49%\n",
      "Test Loss: 1.0722, Test Acc: 61.14%\n",
      "\n",
      "Epoch 6/20\n"
     ]
    },
    {
     "name": "stderr",
     "output_type": "stream",
     "text": [
      "Training: 100%|██████████| 391/391 [00:21<00:00, 18.20it/s, loss=1.18, acc=57.7]\n"
     ]
    },
    {
     "name": "stdout",
     "output_type": "stream",
     "text": [
      "Train Loss: 1.1808, Train Acc: 57.66%\n",
      "Test Loss: 1.0303, Test Acc: 62.78%\n",
      "\n",
      "Epoch 7/20\n"
     ]
    },
    {
     "name": "stderr",
     "output_type": "stream",
     "text": [
      "Training: 100%|██████████| 391/391 [00:21<00:00, 18.22it/s, loss=1.14, acc=59.3]\n"
     ]
    },
    {
     "name": "stdout",
     "output_type": "stream",
     "text": [
      "Train Loss: 1.1390, Train Acc: 59.35%\n",
      "Test Loss: 0.9903, Test Acc: 64.01%\n",
      "\n",
      "Epoch 8/20\n"
     ]
    },
    {
     "name": "stderr",
     "output_type": "stream",
     "text": [
      "Training: 100%|██████████| 391/391 [00:21<00:00, 18.18it/s, loss=1.08, acc=61.5]\n"
     ]
    },
    {
     "name": "stdout",
     "output_type": "stream",
     "text": [
      "Train Loss: 1.0819, Train Acc: 61.53%\n",
      "Test Loss: 0.9570, Test Acc: 66.43%\n",
      "\n",
      "Epoch 9/20\n"
     ]
    },
    {
     "name": "stderr",
     "output_type": "stream",
     "text": [
      "Training: 100%|██████████| 391/391 [00:23<00:00, 16.46it/s, loss=1.05, acc=62.5]\n"
     ]
    },
    {
     "name": "stdout",
     "output_type": "stream",
     "text": [
      "Train Loss: 1.0493, Train Acc: 62.49%\n",
      "Test Loss: 0.9028, Test Acc: 67.56%\n",
      "\n",
      "Epoch 10/20\n"
     ]
    },
    {
     "name": "stderr",
     "output_type": "stream",
     "text": [
      "Training: 100%|██████████| 391/391 [00:22<00:00, 17.19it/s, loss=1.01, acc=64]  \n"
     ]
    },
    {
     "name": "stdout",
     "output_type": "stream",
     "text": [
      "Train Loss: 1.0051, Train Acc: 64.04%\n",
      "Test Loss: 0.8543, Test Acc: 69.44%\n",
      "\n",
      "Epoch 11/20\n"
     ]
    },
    {
     "name": "stderr",
     "output_type": "stream",
     "text": [
      "Training: 100%|██████████| 391/391 [00:21<00:00, 18.30it/s, loss=0.966, acc=65.5]\n"
     ]
    },
    {
     "name": "stdout",
     "output_type": "stream",
     "text": [
      "Train Loss: 0.9664, Train Acc: 65.54%\n",
      "Test Loss: 0.8277, Test Acc: 70.35%\n",
      "\n",
      "Epoch 12/20\n"
     ]
    },
    {
     "name": "stderr",
     "output_type": "stream",
     "text": [
      "Training: 100%|██████████| 391/391 [00:21<00:00, 18.21it/s, loss=0.929, acc=67.3]\n"
     ]
    },
    {
     "name": "stdout",
     "output_type": "stream",
     "text": [
      "Train Loss: 0.9294, Train Acc: 67.25%\n",
      "Test Loss: 0.8018, Test Acc: 71.76%\n",
      "\n",
      "Epoch 13/20\n"
     ]
    },
    {
     "name": "stderr",
     "output_type": "stream",
     "text": [
      "Training: 100%|██████████| 391/391 [00:21<00:00, 18.31it/s, loss=0.9, acc=67.9]  \n"
     ]
    },
    {
     "name": "stdout",
     "output_type": "stream",
     "text": [
      "Train Loss: 0.8977, Train Acc: 67.91%\n",
      "Test Loss: 0.7747, Test Acc: 72.58%\n",
      "\n",
      "Epoch 14/20\n"
     ]
    },
    {
     "name": "stderr",
     "output_type": "stream",
     "text": [
      "Training: 100%|██████████| 391/391 [00:21<00:00, 18.18it/s, loss=0.87, acc=69.2] \n"
     ]
    },
    {
     "name": "stdout",
     "output_type": "stream",
     "text": [
      "Train Loss: 0.8679, Train Acc: 69.20%\n",
      "Test Loss: 0.7672, Test Acc: 72.79%\n",
      "\n",
      "Epoch 15/20\n"
     ]
    },
    {
     "name": "stderr",
     "output_type": "stream",
     "text": [
      "Training: 100%|██████████| 391/391 [00:21<00:00, 18.28it/s, loss=0.838, acc=70.3]\n"
     ]
    },
    {
     "name": "stdout",
     "output_type": "stream",
     "text": [
      "Train Loss: 0.8354, Train Acc: 70.26%\n",
      "Test Loss: 0.7413, Test Acc: 73.39%\n",
      "\n",
      "Epoch 16/20\n"
     ]
    },
    {
     "name": "stderr",
     "output_type": "stream",
     "text": [
      "Training: 100%|██████████| 391/391 [00:24<00:00, 16.02it/s, loss=0.81, acc=71.2] \n"
     ]
    },
    {
     "name": "stdout",
     "output_type": "stream",
     "text": [
      "Train Loss: 0.8077, Train Acc: 71.20%\n",
      "Test Loss: 0.7100, Test Acc: 75.35%\n",
      "\n",
      "Epoch 17/20\n"
     ]
    },
    {
     "name": "stderr",
     "output_type": "stream",
     "text": [
      "Training: 100%|██████████| 391/391 [00:21<00:00, 18.20it/s, loss=0.798, acc=72]  \n"
     ]
    },
    {
     "name": "stdout",
     "output_type": "stream",
     "text": [
      "Train Loss: 0.7956, Train Acc: 71.97%\n",
      "Test Loss: 0.7103, Test Acc: 75.06%\n",
      "\n",
      "Epoch 18/20\n"
     ]
    },
    {
     "name": "stderr",
     "output_type": "stream",
     "text": [
      "Training: 100%|██████████| 391/391 [00:21<00:00, 18.18it/s, loss=0.781, acc=72.4]\n"
     ]
    },
    {
     "name": "stdout",
     "output_type": "stream",
     "text": [
      "Train Loss: 0.7787, Train Acc: 72.42%\n",
      "Test Loss: 0.6864, Test Acc: 76.01%\n",
      "\n",
      "Epoch 19/20\n"
     ]
    },
    {
     "name": "stderr",
     "output_type": "stream",
     "text": [
      "Training: 100%|██████████| 391/391 [00:21<00:00, 18.19it/s, loss=0.771, acc=72.6]\n"
     ]
    },
    {
     "name": "stdout",
     "output_type": "stream",
     "text": [
      "Train Loss: 0.7694, Train Acc: 72.55%\n",
      "Test Loss: 0.6819, Test Acc: 76.19%\n",
      "\n",
      "Epoch 20/20\n"
     ]
    },
    {
     "name": "stderr",
     "output_type": "stream",
     "text": [
      "Training: 100%|██████████| 391/391 [00:22<00:00, 17.42it/s, loss=0.762, acc=72.9]\n"
     ]
    },
    {
     "name": "stdout",
     "output_type": "stream",
     "text": [
      "Train Loss: 0.7619, Train Acc: 72.91%\n",
      "Test Loss: 0.6784, Test Acc: 76.40%\n",
      "\n",
      "=== Running experiment with augmentation=autoaugment ===\n",
      "\n",
      "Epoch 1/20\n"
     ]
    },
    {
     "name": "stderr",
     "output_type": "stream",
     "text": [
      "Training: 100%|██████████| 391/391 [00:19<00:00, 20.46it/s, loss=1.92, acc=28.9]\n"
     ]
    },
    {
     "name": "stdout",
     "output_type": "stream",
     "text": [
      "Train Loss: 1.9082, Train Acc: 28.93%\n",
      "Test Loss: 1.5291, Test Acc: 44.54%\n",
      "\n",
      "Epoch 2/20\n"
     ]
    },
    {
     "name": "stderr",
     "output_type": "stream",
     "text": [
      "Training: 100%|██████████| 391/391 [00:21<00:00, 18.36it/s, loss=1.58, acc=42.6]\n"
     ]
    },
    {
     "name": "stdout",
     "output_type": "stream",
     "text": [
      "Train Loss: 1.5833, Train Acc: 42.60%\n",
      "Test Loss: 1.3203, Test Acc: 51.80%\n",
      "\n",
      "Epoch 3/20\n"
     ]
    },
    {
     "name": "stderr",
     "output_type": "stream",
     "text": [
      "Training: 100%|██████████| 391/391 [00:18<00:00, 20.93it/s, loss=1.49, acc=46.5]\n"
     ]
    },
    {
     "name": "stdout",
     "output_type": "stream",
     "text": [
      "Train Loss: 1.4808, Train Acc: 46.51%\n",
      "Test Loss: 1.2155, Test Acc: 55.79%\n",
      "\n",
      "Epoch 4/20\n"
     ]
    },
    {
     "name": "stderr",
     "output_type": "stream",
     "text": [
      "Training: 100%|██████████| 391/391 [00:19<00:00, 20.49it/s, loss=1.41, acc=49.8]\n"
     ]
    },
    {
     "name": "stdout",
     "output_type": "stream",
     "text": [
      "Train Loss: 1.4016, Train Acc: 49.78%\n",
      "Test Loss: 1.1152, Test Acc: 59.78%\n",
      "\n",
      "Epoch 5/20\n"
     ]
    },
    {
     "name": "stderr",
     "output_type": "stream",
     "text": [
      "Training: 100%|██████████| 391/391 [00:18<00:00, 20.61it/s, loss=1.34, acc=51.8]\n"
     ]
    },
    {
     "name": "stdout",
     "output_type": "stream",
     "text": [
      "Train Loss: 1.3395, Train Acc: 51.83%\n",
      "Test Loss: 1.0525, Test Acc: 62.06%\n",
      "\n",
      "Epoch 6/20\n"
     ]
    },
    {
     "name": "stderr",
     "output_type": "stream",
     "text": [
      "Training: 100%|██████████| 391/391 [00:18<00:00, 20.86it/s, loss=1.29, acc=53.6]\n"
     ]
    },
    {
     "name": "stdout",
     "output_type": "stream",
     "text": [
      "Train Loss: 1.2858, Train Acc: 53.62%\n",
      "Test Loss: 1.0622, Test Acc: 61.84%\n",
      "\n",
      "Epoch 7/20\n"
     ]
    },
    {
     "name": "stderr",
     "output_type": "stream",
     "text": [
      "Training: 100%|██████████| 391/391 [00:19<00:00, 20.41it/s, loss=1.24, acc=55.8]\n"
     ]
    },
    {
     "name": "stdout",
     "output_type": "stream",
     "text": [
      "Train Loss: 1.2383, Train Acc: 55.82%\n",
      "Test Loss: 0.9990, Test Acc: 64.32%\n",
      "\n",
      "Epoch 8/20\n"
     ]
    },
    {
     "name": "stderr",
     "output_type": "stream",
     "text": [
      "Training: 100%|██████████| 391/391 [00:19<00:00, 20.55it/s, loss=1.19, acc=57.8]\n"
     ]
    },
    {
     "name": "stdout",
     "output_type": "stream",
     "text": [
      "Train Loss: 1.1848, Train Acc: 57.76%\n",
      "Test Loss: 0.9290, Test Acc: 66.43%\n",
      "\n",
      "Epoch 9/20\n"
     ]
    },
    {
     "name": "stderr",
     "output_type": "stream",
     "text": [
      "Training: 100%|██████████| 391/391 [00:19<00:00, 20.38it/s, loss=1.15, acc=59.3]\n"
     ]
    },
    {
     "name": "stdout",
     "output_type": "stream",
     "text": [
      "Train Loss: 1.1464, Train Acc: 59.26%\n",
      "Test Loss: 0.8774, Test Acc: 68.72%\n",
      "\n",
      "Epoch 10/20\n"
     ]
    },
    {
     "name": "stderr",
     "output_type": "stream",
     "text": [
      "Training: 100%|██████████| 391/391 [00:18<00:00, 20.59it/s, loss=1.1, acc=60.9] \n"
     ]
    },
    {
     "name": "stdout",
     "output_type": "stream",
     "text": [
      "Train Loss: 1.0960, Train Acc: 60.87%\n",
      "Test Loss: 0.8666, Test Acc: 68.83%\n",
      "\n",
      "Epoch 11/20\n"
     ]
    },
    {
     "name": "stderr",
     "output_type": "stream",
     "text": [
      "Training: 100%|██████████| 391/391 [00:19<00:00, 20.51it/s, loss=1.06, acc=62.5]\n"
     ]
    },
    {
     "name": "stdout",
     "output_type": "stream",
     "text": [
      "Train Loss: 1.0558, Train Acc: 62.45%\n",
      "Test Loss: 0.8180, Test Acc: 71.16%\n",
      "\n",
      "Epoch 12/20\n"
     ]
    },
    {
     "name": "stderr",
     "output_type": "stream",
     "text": [
      "Training: 100%|██████████| 391/391 [00:18<00:00, 20.65it/s, loss=1.02, acc=63.9]\n"
     ]
    },
    {
     "name": "stdout",
     "output_type": "stream",
     "text": [
      "Train Loss: 1.0186, Train Acc: 63.90%\n",
      "Test Loss: 0.7851, Test Acc: 72.70%\n",
      "\n",
      "Epoch 13/20\n"
     ]
    },
    {
     "name": "stderr",
     "output_type": "stream",
     "text": [
      "Training: 100%|██████████| 391/391 [00:18<00:00, 20.58it/s, loss=0.981, acc=65.2]\n"
     ]
    },
    {
     "name": "stdout",
     "output_type": "stream",
     "text": [
      "Train Loss: 0.9812, Train Acc: 65.21%\n",
      "Test Loss: 0.7488, Test Acc: 73.62%\n",
      "\n",
      "Epoch 14/20\n"
     ]
    },
    {
     "name": "stderr",
     "output_type": "stream",
     "text": [
      "Training: 100%|██████████| 391/391 [00:18<00:00, 20.86it/s, loss=0.951, acc=66.4]\n"
     ]
    },
    {
     "name": "stdout",
     "output_type": "stream",
     "text": [
      "Train Loss: 0.9466, Train Acc: 66.42%\n",
      "Test Loss: 0.7175, Test Acc: 74.55%\n",
      "\n",
      "Epoch 15/20\n"
     ]
    },
    {
     "name": "stderr",
     "output_type": "stream",
     "text": [
      "Training: 100%|██████████| 391/391 [00:18<00:00, 20.63it/s, loss=0.928, acc=67.3]\n"
     ]
    },
    {
     "name": "stdout",
     "output_type": "stream",
     "text": [
      "Train Loss: 0.9256, Train Acc: 67.26%\n",
      "Test Loss: 0.6918, Test Acc: 75.54%\n",
      "\n",
      "Epoch 16/20\n"
     ]
    },
    {
     "name": "stderr",
     "output_type": "stream",
     "text": [
      "Training: 100%|██████████| 391/391 [00:18<00:00, 20.61it/s, loss=0.897, acc=68.3]\n"
     ]
    },
    {
     "name": "stdout",
     "output_type": "stream",
     "text": [
      "Train Loss: 0.8943, Train Acc: 68.31%\n",
      "Test Loss: 0.6916, Test Acc: 75.51%\n",
      "\n",
      "Epoch 17/20\n"
     ]
    },
    {
     "name": "stderr",
     "output_type": "stream",
     "text": [
      "Training: 100%|██████████| 391/391 [00:18<00:00, 20.71it/s, loss=0.879, acc=69.2]\n"
     ]
    },
    {
     "name": "stdout",
     "output_type": "stream",
     "text": [
      "Train Loss: 0.8748, Train Acc: 69.16%\n",
      "Test Loss: 0.6981, Test Acc: 75.46%\n",
      "\n",
      "Epoch 18/20\n"
     ]
    },
    {
     "name": "stderr",
     "output_type": "stream",
     "text": [
      "Training: 100%|██████████| 391/391 [00:18<00:00, 20.65it/s, loss=0.867, acc=69.3]\n"
     ]
    },
    {
     "name": "stdout",
     "output_type": "stream",
     "text": [
      "Train Loss: 0.8647, Train Acc: 69.28%\n",
      "Test Loss: 0.6661, Test Acc: 76.86%\n",
      "\n",
      "Epoch 19/20\n"
     ]
    },
    {
     "name": "stderr",
     "output_type": "stream",
     "text": [
      "Training: 100%|██████████| 391/391 [00:21<00:00, 18.46it/s, loss=0.853, acc=70.1]\n"
     ]
    },
    {
     "name": "stdout",
     "output_type": "stream",
     "text": [
      "Train Loss: 0.8525, Train Acc: 70.12%\n",
      "Test Loss: 0.6620, Test Acc: 76.89%\n",
      "\n",
      "Epoch 20/20\n"
     ]
    },
    {
     "name": "stderr",
     "output_type": "stream",
     "text": [
      "Training: 100%|██████████| 391/391 [00:20<00:00, 18.77it/s, loss=0.849, acc=70]  \n"
     ]
    },
    {
     "name": "stdout",
     "output_type": "stream",
     "text": [
      "Train Loss: 0.8468, Train Acc: 69.98%\n",
      "Test Loss: 0.6590, Test Acc: 76.92%\n",
      "\n",
      "=== Running experiment with augmentation=cutmix ===\n",
      "\n",
      "Epoch 1/20\n"
     ]
    },
    {
     "name": "stderr",
     "output_type": "stream",
     "text": [
      "Training: 100%|██████████| 391/391 [00:14<00:00, 26.52it/s, loss=1.71, acc=36.5]\n"
     ]
    },
    {
     "name": "stdout",
     "output_type": "stream",
     "text": [
      "Train Loss: 1.7019, Train Acc: 36.53%\n",
      "Test Loss: 1.4299, Test Acc: 47.24%\n",
      "\n",
      "Epoch 2/20\n"
     ]
    },
    {
     "name": "stderr",
     "output_type": "stream",
     "text": [
      "Training: 100%|██████████| 391/391 [00:14<00:00, 26.55it/s, loss=1.33, acc=52.1]\n"
     ]
    },
    {
     "name": "stdout",
     "output_type": "stream",
     "text": [
      "Train Loss: 1.3225, Train Acc: 52.08%\n",
      "Test Loss: 1.1797, Test Acc: 57.22%\n",
      "\n",
      "Epoch 3/20\n"
     ]
    },
    {
     "name": "stderr",
     "output_type": "stream",
     "text": [
      "Training: 100%|██████████| 391/391 [00:15<00:00, 26.07it/s, loss=1.19, acc=57.3]\n"
     ]
    },
    {
     "name": "stdout",
     "output_type": "stream",
     "text": [
      "Train Loss: 1.1904, Train Acc: 57.29%\n",
      "Test Loss: 1.1094, Test Acc: 60.46%\n",
      "\n",
      "Epoch 4/20\n"
     ]
    },
    {
     "name": "stderr",
     "output_type": "stream",
     "text": [
      "Training: 100%|██████████| 391/391 [00:15<00:00, 25.94it/s, loss=1.11, acc=60.4]\n"
     ]
    },
    {
     "name": "stdout",
     "output_type": "stream",
     "text": [
      "Train Loss: 1.1022, Train Acc: 60.38%\n",
      "Test Loss: 1.0243, Test Acc: 64.31%\n",
      "\n",
      "Epoch 5/20\n"
     ]
    },
    {
     "name": "stderr",
     "output_type": "stream",
     "text": [
      "Training: 100%|██████████| 391/391 [00:15<00:00, 26.04it/s, loss=1.04, acc=63.2]\n"
     ]
    },
    {
     "name": "stdout",
     "output_type": "stream",
     "text": [
      "Train Loss: 1.0334, Train Acc: 63.21%\n",
      "Test Loss: 1.0283, Test Acc: 63.18%\n",
      "\n",
      "Epoch 6/20\n"
     ]
    },
    {
     "name": "stderr",
     "output_type": "stream",
     "text": [
      "Training: 100%|██████████| 391/391 [00:14<00:00, 26.09it/s, loss=0.992, acc=64.8]\n"
     ]
    },
    {
     "name": "stdout",
     "output_type": "stream",
     "text": [
      "Train Loss: 0.9868, Train Acc: 64.78%\n",
      "Test Loss: 0.9329, Test Acc: 66.31%\n",
      "\n",
      "Epoch 7/20\n"
     ]
    },
    {
     "name": "stderr",
     "output_type": "stream",
     "text": [
      "Training: 100%|██████████| 391/391 [00:14<00:00, 26.17it/s, loss=0.922, acc=67.4]\n"
     ]
    },
    {
     "name": "stdout",
     "output_type": "stream",
     "text": [
      "Train Loss: 0.9175, Train Acc: 67.36%\n",
      "Test Loss: 0.8798, Test Acc: 68.58%\n",
      "\n",
      "Epoch 8/20\n"
     ]
    },
    {
     "name": "stderr",
     "output_type": "stream",
     "text": [
      "Training: 100%|██████████| 391/391 [00:15<00:00, 26.00it/s, loss=0.877, acc=69.1]\n"
     ]
    },
    {
     "name": "stdout",
     "output_type": "stream",
     "text": [
      "Train Loss: 0.8723, Train Acc: 69.07%\n",
      "Test Loss: 0.8520, Test Acc: 69.41%\n",
      "\n",
      "Epoch 9/20\n"
     ]
    },
    {
     "name": "stderr",
     "output_type": "stream",
     "text": [
      "Training: 100%|██████████| 391/391 [00:14<00:00, 26.10it/s, loss=0.827, acc=70.5]\n"
     ]
    },
    {
     "name": "stdout",
     "output_type": "stream",
     "text": [
      "Train Loss: 0.8229, Train Acc: 70.53%\n",
      "Test Loss: 0.8092, Test Acc: 70.47%\n",
      "\n",
      "Epoch 10/20\n"
     ]
    },
    {
     "name": "stderr",
     "output_type": "stream",
     "text": [
      "Training: 100%|██████████| 391/391 [00:14<00:00, 26.41it/s, loss=0.781, acc=72.7]\n"
     ]
    },
    {
     "name": "stdout",
     "output_type": "stream",
     "text": [
      "Train Loss: 0.7768, Train Acc: 72.66%\n",
      "Test Loss: 0.7958, Test Acc: 71.54%\n",
      "\n",
      "Epoch 11/20\n"
     ]
    },
    {
     "name": "stderr",
     "output_type": "stream",
     "text": [
      "Training: 100%|██████████| 391/391 [00:14<00:00, 26.48it/s, loss=0.734, acc=74.1]\n"
     ]
    },
    {
     "name": "stdout",
     "output_type": "stream",
     "text": [
      "Train Loss: 0.7306, Train Acc: 74.15%\n",
      "Test Loss: 0.7568, Test Acc: 73.76%\n",
      "\n",
      "Epoch 12/20\n"
     ]
    },
    {
     "name": "stderr",
     "output_type": "stream",
     "text": [
      "Training: 100%|██████████| 391/391 [00:14<00:00, 26.50it/s, loss=0.696, acc=75.8]\n"
     ]
    },
    {
     "name": "stdout",
     "output_type": "stream",
     "text": [
      "Train Loss: 0.6922, Train Acc: 75.79%\n",
      "Test Loss: 0.7021, Test Acc: 75.15%\n",
      "\n",
      "Epoch 13/20\n"
     ]
    },
    {
     "name": "stderr",
     "output_type": "stream",
     "text": [
      "Training: 100%|██████████| 391/391 [00:14<00:00, 26.42it/s, loss=0.659, acc=76.8]\n"
     ]
    },
    {
     "name": "stdout",
     "output_type": "stream",
     "text": [
      "Train Loss: 0.6571, Train Acc: 76.84%\n",
      "Test Loss: 0.6791, Test Acc: 76.16%\n",
      "\n",
      "Epoch 14/20\n"
     ]
    },
    {
     "name": "stderr",
     "output_type": "stream",
     "text": [
      "Training: 100%|██████████| 391/391 [00:14<00:00, 26.16it/s, loss=0.618, acc=78.4]\n"
     ]
    },
    {
     "name": "stdout",
     "output_type": "stream",
     "text": [
      "Train Loss: 0.6146, Train Acc: 78.41%\n",
      "Test Loss: 0.6541, Test Acc: 77.27%\n",
      "\n",
      "Epoch 15/20\n"
     ]
    },
    {
     "name": "stderr",
     "output_type": "stream",
     "text": [
      "Training: 100%|██████████| 391/391 [00:14<00:00, 26.27it/s, loss=0.586, acc=79.4]\n"
     ]
    },
    {
     "name": "stdout",
     "output_type": "stream",
     "text": [
      "Train Loss: 0.5831, Train Acc: 79.40%\n",
      "Test Loss: 0.6321, Test Acc: 78.06%\n",
      "\n",
      "Epoch 16/20\n"
     ]
    },
    {
     "name": "stderr",
     "output_type": "stream",
     "text": [
      "Training: 100%|██████████| 391/391 [00:15<00:00, 26.03it/s, loss=0.558, acc=80.3]\n"
     ]
    },
    {
     "name": "stdout",
     "output_type": "stream",
     "text": [
      "Train Loss: 0.5562, Train Acc: 80.25%\n",
      "Test Loss: 0.6384, Test Acc: 77.92%\n",
      "\n",
      "Epoch 17/20\n"
     ]
    },
    {
     "name": "stderr",
     "output_type": "stream",
     "text": [
      "Training: 100%|██████████| 391/391 [00:14<00:00, 26.55it/s, loss=0.54, acc=81.1] \n"
     ]
    },
    {
     "name": "stdout",
     "output_type": "stream",
     "text": [
      "Train Loss: 0.5371, Train Acc: 81.09%\n",
      "Test Loss: 0.6280, Test Acc: 78.59%\n",
      "\n",
      "Epoch 18/20\n"
     ]
    },
    {
     "name": "stderr",
     "output_type": "stream",
     "text": [
      "Training: 100%|██████████| 391/391 [00:14<00:00, 26.34it/s, loss=0.521, acc=81.6]\n"
     ]
    },
    {
     "name": "stdout",
     "output_type": "stream",
     "text": [
      "Train Loss: 0.5181, Train Acc: 81.60%\n",
      "Test Loss: 0.6179, Test Acc: 78.98%\n",
      "\n",
      "Epoch 19/20\n"
     ]
    },
    {
     "name": "stderr",
     "output_type": "stream",
     "text": [
      "Training: 100%|██████████| 391/391 [00:14<00:00, 26.59it/s, loss=0.51, acc=81.9] \n"
     ]
    },
    {
     "name": "stdout",
     "output_type": "stream",
     "text": [
      "Train Loss: 0.5073, Train Acc: 81.92%\n",
      "Test Loss: 0.6086, Test Acc: 79.35%\n",
      "\n",
      "Epoch 20/20\n"
     ]
    },
    {
     "name": "stderr",
     "output_type": "stream",
     "text": [
      "Training: 100%|██████████| 391/391 [00:14<00:00, 26.51it/s, loss=0.505, acc=82.1]\n"
     ]
    },
    {
     "name": "stdout",
     "output_type": "stream",
     "text": [
      "Train Loss: 0.5027, Train Acc: 82.11%\n",
      "Test Loss: 0.6100, Test Acc: 79.30%\n",
      "\n",
      "Final Best Test Accuracies with Different Augmentations:\n",
      "default: 79.56%\n",
      "strong: 76.40%\n",
      "autoaugment: 76.92%\n",
      "cutmix: 79.35%\n",
      "\n",
      "Best Augmentation: default (Test Acc: 79.56%)\n"
     ]
    }
   ],
   "source": [
    "if 'augmentation' in experiments_to_run:\n",
    "    print(\"\\n=== Running Data Augmentation Experiment ===\")\n",
    "    results['augmentation'] = run_augmentation_experiment(device, best_config)"
   ]
  },
  {
   "cell_type": "markdown",
   "metadata": {},
   "source": [
    "the default augmentation (simple cropping and flipping) outperforms more complex augmentation techniques on CIFAR-10. This suggests that Vision Transformers may be sensitive to excessive perturbations in small-scale datasets. Strong augmentation techniques like random rotations, color jittering, and random erasing actually hurt performance by creating training samples that deviate too far from the test distribution. AutoAugment, despite being optimized for CIFAR-10, also underperforms likely because its policy was developed for CNNs rather than transformer architectures. CutMix performs nearly as well as the default because it preserves more original image information while still providing regularization benefits. The results indicate that for Vision Transformers on small images, simpler augmentation strategies that maintain image integrity work best."
   ]
  },
  {
   "cell_type": "markdown",
   "metadata": {},
   "source": [
    "### Position Embedding"
   ]
  },
  {
   "cell_type": "code",
   "execution_count": 9,
   "metadata": {},
   "outputs": [],
   "source": [
    "import math \n",
    "\n",
    "class VisionTransformerWithPosEmbed(nn.Module):\n",
    "    def __init__(\n",
    "        self,\n",
    "        img_size=32,\n",
    "        patch_size=4,\n",
    "        in_channels=3,\n",
    "        num_classes=10,\n",
    "        embed_dim=256,\n",
    "        depth=6,\n",
    "        n_heads=8,\n",
    "        mlp_dim=512,\n",
    "        dropout=0.1,\n",
    "        pos_embedding_type='learned_1d'  \n",
    "    ):\n",
    "        super().__init__()\n",
    "        \n",
    "        self.patch_size = patch_size\n",
    "        self.num_patches = (img_size // patch_size) ** 2\n",
    "        self.pos_embedding_type = pos_embedding_type\n",
    "        \n",
    "        self.patch_embed = nn.Conv2d(\n",
    "            in_channels, embed_dim, \n",
    "            kernel_size=patch_size, stride=patch_size\n",
    "        )\n",
    "        \n",
    "        self.cls_token = nn.Parameter(torch.zeros(1, 1, embed_dim))\n",
    "        \n",
    "        if pos_embedding_type == 'none':\n",
    "            self.pos_embed = None\n",
    "        elif pos_embedding_type == 'learned_1d':\n",
    "            self.pos_embed = nn.Parameter(torch.zeros(1, self.num_patches + 1, embed_dim))\n",
    "        elif pos_embedding_type == 'learned_2d':\n",
    "            h_patches = w_patches = img_size // patch_size\n",
    "            self.pos_embed_x = nn.Parameter(torch.zeros(1, h_patches, embed_dim // 2))\n",
    "            self.pos_embed_y = nn.Parameter(torch.zeros(1, w_patches, embed_dim // 2))\n",
    "        elif pos_embedding_type == 'sinusoidal':\n",
    "            self.register_buffer('pos_embed', self._create_sinusoidal_embeddings(\n",
    "                self.num_patches + 1, embed_dim\n",
    "            ))\n",
    "        else:\n",
    "            raise ValueError(f\"Unknown positional embedding type: {pos_embedding_type}\")\n",
    "        \n",
    "        self.dropout = nn.Dropout(dropout)\n",
    "        \n",
    "        self.transformer_encoder = nn.ModuleList([\n",
    "            TransformerEncoderLayer(embed_dim, n_heads, mlp_dim, dropout)\n",
    "            for _ in range(depth)\n",
    "        ])\n",
    "        \n",
    "        self.norm = nn.LayerNorm(embed_dim)\n",
    "        self.head = nn.Linear(embed_dim, num_classes)\n",
    "\n",
    "        self._init_weights()\n",
    "    \n",
    "    def _init_weights(self):\n",
    "        nn.init.normal_(self.cls_token, std=0.02)\n",
    "        if self.pos_embedding_type == 'learned_1d':\n",
    "            nn.init.normal_(self.pos_embed, std=0.02)\n",
    "        elif self.pos_embedding_type == 'learned_2d':\n",
    "            nn.init.normal_(self.pos_embed_x, std=0.02)\n",
    "            nn.init.normal_(self.pos_embed_y, std=0.02)\n",
    "        \n",
    "        self.apply(self._init_linear_weights)\n",
    "    \n",
    "    def _init_linear_weights(self, m):\n",
    "        if isinstance(m, nn.Linear):\n",
    "            nn.init.normal_(m.weight, std=0.02)\n",
    "            if m.bias is not None:\n",
    "                nn.init.zeros_(m.bias)\n",
    "        elif isinstance(m, nn.LayerNorm):\n",
    "            nn.init.zeros_(m.bias)\n",
    "            nn.init.ones_(m.weight)\n",
    "    \n",
    "    def _create_sinusoidal_embeddings(self, seq_len, embed_dim):\n",
    "        position = torch.arange(seq_len).unsqueeze(1)\n",
    "        div_term = torch.exp(torch.arange(0, embed_dim, 2) * (-math.log(10000.0) / embed_dim))\n",
    "        \n",
    "        pos_embedding = torch.zeros(1, seq_len, embed_dim)\n",
    "        pos_embedding[0, :, 0::2] = torch.sin(position * div_term)\n",
    "        pos_embedding[0, :, 1::2] = torch.cos(position * div_term)\n",
    "        \n",
    "        return pos_embedding\n",
    "    \n",
    "    def _generate_2d_pos_embed(self, batch_size):\n",
    "        h_patches = w_patches = int(math.sqrt(self.num_patches))\n",
    "        \n",
    "        pos_embed_x = self.pos_embed_x.expand(batch_size, -1, -1)\n",
    "        pos_embed_y = self.pos_embed_y.expand(batch_size, -1, -1)\n",
    "        \n",
    "        x_emb = pos_embed_x.unsqueeze(2).repeat(1, 1, w_patches, 1)\n",
    "        y_emb = pos_embed_y.unsqueeze(1).repeat(1, h_patches, 1, 1)\n",
    "        \n",
    "        pos_2d = torch.cat([x_emb, y_emb], dim=-1)\n",
    "        pos_2d = pos_2d.reshape(batch_size, self.num_patches, -1)\n",
    "        \n",
    "        cls_pos = torch.zeros(batch_size, 1, pos_2d.size(-1), device=pos_2d.device)\n",
    "        pos_embedding = torch.cat([cls_pos, pos_2d], dim=1)\n",
    "        \n",
    "        return pos_embedding\n",
    "    \n",
    "    def forward(self, x):\n",
    "        batch_size = x.size(0)\n",
    "        \n",
    "        x = self.patch_embed(x)\n",
    "        \n",
    "        x = x.flatten(2)\n",
    "        x = x.transpose(1, 2)\n",
    "        \n",
    "        cls_tokens = self.cls_token.expand(batch_size, -1, -1)\n",
    "        x = torch.cat((cls_tokens, x), dim=1)\n",
    "        \n",
    "        if self.pos_embedding_type == 'none':\n",
    "            pass\n",
    "        elif self.pos_embedding_type == 'learned_1d':\n",
    "            x = x + self.pos_embed\n",
    "        elif self.pos_embedding_type == 'learned_2d':\n",
    "            pos_embedding = self._generate_2d_pos_embed(batch_size)\n",
    "            x = x + pos_embedding\n",
    "        elif self.pos_embedding_type == 'sinusoidal':\n",
    "            x = x + self.pos_embed\n",
    "        \n",
    "        x = self.dropout(x)\n",
    "        for layer in self.transformer_encoder:\n",
    "            x = layer(x)\n",
    "        x = self.norm(x)\n",
    "        x = x[:, 0]\n",
    "        x = self.head(x)\n",
    "        \n",
    "        return x\n"
   ]
  },
  {
   "cell_type": "code",
   "execution_count": 10,
   "metadata": {},
   "outputs": [],
   "source": [
    "def train_with_pos_embedding(pos_embedding_type, device, best_config, num_epochs=15):\n",
    "    print(f\"\\n=== Training with {pos_embedding_type} positional embedding ===\")\n",
    "    \n",
    "    batch_size = best_config['batch_size']\n",
    "    \n",
    "    transform_train = transforms.Compose([\n",
    "        transforms.RandomCrop(32, padding=4),\n",
    "        transforms.RandomHorizontalFlip(),\n",
    "        transforms.ToTensor(),\n",
    "        transforms.Normalize((0.4914, 0.4822, 0.4465), (0.2470, 0.2435, 0.2616)),\n",
    "    ])\n",
    "    \n",
    "    transform_test = transforms.Compose([\n",
    "        transforms.ToTensor(),\n",
    "        transforms.Normalize((0.4914, 0.4822, 0.4465), (0.2470, 0.2435, 0.2616)),\n",
    "    ])\n",
    "    \n",
    "    train_dataset = torchvision.datasets.CIFAR10(\n",
    "        root='./data', train=True, download=True, transform=transform_train)\n",
    "    \n",
    "    test_dataset = torchvision.datasets.CIFAR10(\n",
    "        root='./data', train=False, download=True, transform=transform_test)\n",
    "    \n",
    "    train_loader = torch.utils.data.DataLoader(\n",
    "        train_dataset, batch_size=batch_size, shuffle=True, num_workers=2)\n",
    "    \n",
    "    test_loader = torch.utils.data.DataLoader(\n",
    "        test_dataset, batch_size=batch_size, shuffle=False, num_workers=2)\n",
    "    \n",
    "    model = VisionTransformerWithPosEmbed(\n",
    "        img_size=32,\n",
    "        patch_size=best_config['patch_size'],\n",
    "        in_channels=3,\n",
    "        num_classes=10,\n",
    "        embed_dim=best_config['embed_dim'],\n",
    "        depth=best_config['depth'],\n",
    "        n_heads=best_config['n_heads'],\n",
    "        mlp_dim=best_config['mlp_dim'],\n",
    "        dropout=0.1,\n",
    "        pos_embedding_type=pos_embedding_type\n",
    "    ).to(device)\n",
    "    \n",
    "    criterion = nn.CrossEntropyLoss()\n",
    "    optimizer = optim.AdamW(model.parameters(), lr=best_config['lr'], weight_decay=best_config['weight_decay'])\n",
    "    scheduler = optim.lr_scheduler.CosineAnnealingLR(optimizer, T_max=num_epochs)\n",
    "    \n",
    "    train_losses, train_accs = [], []\n",
    "    test_losses, test_accs = [], []\n",
    "    best_test_acc = 0.0\n",
    "    best_model_state = None\n",
    "    \n",
    "    for epoch in range(num_epochs):\n",
    "        print(f\"\\nEpoch {epoch+1}/{num_epochs}\")\n",
    "        \n",
    "        train_loss, train_acc = train_epoch(model, train_loader, criterion, optimizer, device)\n",
    "        test_loss, test_acc = evaluate(model, test_loader, criterion, device)\n",
    "        \n",
    "        scheduler.step()\n",
    "        \n",
    "        train_losses.append(train_loss)\n",
    "        train_accs.append(train_acc)\n",
    "        test_losses.append(test_loss)\n",
    "        test_accs.append(test_acc)\n",
    "        \n",
    "        print(f'Train Loss: {train_loss:.4f}, Train Acc: {train_acc:.2f}%')\n",
    "        print(f'Test Loss: {test_loss:.4f}, Test Acc: {test_acc:.2f}%')\n",
    "        \n",
    "        if test_acc > best_test_acc:\n",
    "            best_test_acc = test_acc\n",
    "            best_model_state = copy.deepcopy(model.state_dict())\n",
    "    \n",
    "    if best_model_state is not None:\n",
    "        model.load_state_dict(best_model_state)\n",
    "    \n",
    "    if not os.path.exists('saved_models'):\n",
    "        os.makedirs('saved_models')\n",
    "    \n",
    "    model_path = f'saved_models/vit_cifar10_{pos_embedding_type}_best.pth'\n",
    "    torch.save({\n",
    "        'model_state_dict': model.state_dict(),\n",
    "        'optimizer_state_dict': optimizer.state_dict(),\n",
    "        'scheduler_state_dict': scheduler.state_dict(),\n",
    "        'best_test_acc': best_test_acc,\n",
    "        'config': best_config,\n",
    "        'pos_embedding_type': pos_embedding_type\n",
    "    }, model_path)\n",
    "    \n",
    "    print(f\"Model saved to {model_path}\")\n",
    "    \n",
    "    results = {\n",
    "        'pos_embedding_type': pos_embedding_type,\n",
    "        'train_losses': train_losses,\n",
    "        'train_accs': train_accs,\n",
    "        'test_losses': test_losses,\n",
    "        'test_accs': test_accs,\n",
    "        'final_test_acc': test_accs[-1],\n",
    "        'best_test_acc': best_test_acc,\n",
    "        'model_path': model_path\n",
    "    }\n",
    "    \n",
    "    return results, model\n",
    "\n",
    "def run_positional_embedding_experiment(device, best_config):\n",
    "    pos_embedding_types = ['none', 'learned_1d', 'learned_2d', 'sinusoidal']\n",
    "    all_results = {}\n",
    "    all_models = {}  \n",
    "    \n",
    "    for pe_type in pos_embedding_types:\n",
    "        results, model = train_with_pos_embedding(pe_type, device, best_config)\n",
    "        all_results[pe_type] = results\n",
    "        all_models[pe_type] = model\n",
    "    \n",
    "    plt.figure(figsize=(15, 10))\n",
    "    \n",
    "    plt.subplot(2, 2, 1)\n",
    "    for pe_type in pos_embedding_types:\n",
    "        plt.plot(all_results[pe_type]['train_losses'], label=f'{pe_type}')\n",
    "    plt.xlabel('Epoch')\n",
    "    plt.ylabel('Training Loss')\n",
    "    plt.legend()\n",
    "    plt.title('Training Loss vs. Epoch')\n",
    "    \n",
    "    plt.subplot(2, 2, 2)\n",
    "    for pe_type in pos_embedding_types:\n",
    "        plt.plot(all_results[pe_type]['test_losses'], label=f'{pe_type}')\n",
    "    plt.xlabel('Epoch')\n",
    "    plt.ylabel('Testing Loss')\n",
    "    plt.legend()\n",
    "    plt.title('Testing Loss vs. Epoch')\n",
    "    \n",
    "    plt.subplot(2, 2, 3)\n",
    "    for pe_type in pos_embedding_types:\n",
    "        plt.plot(all_results[pe_type]['train_accs'], label=f'{pe_type}')\n",
    "    plt.xlabel('Epoch')\n",
    "    plt.ylabel('Training Accuracy (%)')\n",
    "    plt.legend()\n",
    "    plt.title('Training Accuracy vs. Epoch')\n",
    "    \n",
    "    plt.subplot(2, 2, 4)\n",
    "    for pe_type in pos_embedding_types:\n",
    "        plt.plot(all_results[pe_type]['test_accs'], label=f'{pe_type}')\n",
    "    plt.xlabel('Epoch')\n",
    "    plt.ylabel('Testing Accuracy (%)')\n",
    "    plt.legend()\n",
    "    plt.title('Testing Accuracy vs. Epoch')\n",
    "    \n",
    "    plt.tight_layout()\n",
    "    plt.savefig('vit_positional_embedding_comparison.png')\n",
    "    plt.close()\n",
    "    \n",
    "    plt.figure(figsize=(10, 6))\n",
    "    final_accs = [all_results[pe_type]['best_test_acc'] for pe_type in pos_embedding_types]\n",
    "    plt.bar(pos_embedding_types, final_accs)\n",
    "    plt.xlabel('Positional Embedding Type')\n",
    "    plt.ylabel('Test Accuracy (%)')\n",
    "    plt.title('Best Test Accuracy by Positional Embedding Type')\n",
    "    for i, acc in enumerate(final_accs):\n",
    "        plt.text(i, acc + 0.5, f'{acc:.2f}%', ha='center')\n",
    "    plt.ylim(0, 100)\n",
    "    plt.savefig('vit_positional_embedding_final_accuracy.png')\n",
    "    plt.close()\n",
    "    \n",
    "    print(\"\\nBest Test Accuracies by Positional Embedding Type:\")\n",
    "    for pe_type in pos_embedding_types:\n",
    "        print(f\"{pe_type}: {all_results[pe_type]['best_test_acc']:.2f}%\")\n",
    "        print(f\"   Model saved at: {all_results[pe_type]['model_path']}\")\n",
    "    \n",
    "    return all_results, all_models"
   ]
  },
  {
   "cell_type": "code",
   "execution_count": 12,
   "metadata": {},
   "outputs": [
    {
     "name": "stdout",
     "output_type": "stream",
     "text": [
      "Using device: cuda\n",
      "\n",
      "=== Training with none positional embedding ===\n",
      "\n",
      "Epoch 1/15\n"
     ]
    },
    {
     "name": "stderr",
     "output_type": "stream",
     "text": [
      "Training: 100%|██████████| 391/391 [00:16<00:00, 23.09it/s, loss=1.73, acc=35.6]\n"
     ]
    },
    {
     "name": "stdout",
     "output_type": "stream",
     "text": [
      "Train Loss: 1.7218, Train Acc: 35.62%\n",
      "Test Loss: 1.4960, Test Acc: 46.14%\n",
      "\n",
      "Epoch 2/15\n"
     ]
    },
    {
     "name": "stderr",
     "output_type": "stream",
     "text": [
      "Training: 100%|██████████| 391/391 [00:14<00:00, 26.49it/s, loss=1.39, acc=50]  \n"
     ]
    },
    {
     "name": "stdout",
     "output_type": "stream",
     "text": [
      "Train Loss: 1.3806, Train Acc: 50.05%\n",
      "Test Loss: 1.3152, Test Acc: 52.98%\n",
      "\n",
      "Epoch 3/15\n"
     ]
    },
    {
     "name": "stderr",
     "output_type": "stream",
     "text": [
      "Training: 100%|██████████| 391/391 [00:14<00:00, 26.21it/s, loss=1.28, acc=54.1]\n"
     ]
    },
    {
     "name": "stdout",
     "output_type": "stream",
     "text": [
      "Train Loss: 1.2699, Train Acc: 54.14%\n",
      "Test Loss: 1.2383, Test Acc: 55.20%\n",
      "\n",
      "Epoch 4/15\n"
     ]
    },
    {
     "name": "stderr",
     "output_type": "stream",
     "text": [
      "Training: 100%|██████████| 391/391 [00:15<00:00, 26.00it/s, loss=1.21, acc=56.6]\n"
     ]
    },
    {
     "name": "stdout",
     "output_type": "stream",
     "text": [
      "Train Loss: 1.2040, Train Acc: 56.57%\n",
      "Test Loss: 1.1774, Test Acc: 57.90%\n",
      "\n",
      "Epoch 5/15\n"
     ]
    },
    {
     "name": "stderr",
     "output_type": "stream",
     "text": [
      "Training: 100%|██████████| 391/391 [00:14<00:00, 26.22it/s, loss=1.15, acc=59.1]\n"
     ]
    },
    {
     "name": "stdout",
     "output_type": "stream",
     "text": [
      "Train Loss: 1.1434, Train Acc: 59.07%\n",
      "Test Loss: 1.1617, Test Acc: 58.16%\n",
      "\n",
      "Epoch 6/15\n"
     ]
    },
    {
     "name": "stderr",
     "output_type": "stream",
     "text": [
      "Training: 100%|██████████| 391/391 [00:14<00:00, 26.25it/s, loss=1.1, acc=60.8] \n"
     ]
    },
    {
     "name": "stdout",
     "output_type": "stream",
     "text": [
      "Train Loss: 1.0909, Train Acc: 60.79%\n",
      "Test Loss: 1.1239, Test Acc: 59.89%\n",
      "\n",
      "Epoch 7/15\n"
     ]
    },
    {
     "name": "stderr",
     "output_type": "stream",
     "text": [
      "Training: 100%|██████████| 391/391 [00:14<00:00, 26.09it/s, loss=1.05, acc=62.7]\n"
     ]
    },
    {
     "name": "stdout",
     "output_type": "stream",
     "text": [
      "Train Loss: 1.0437, Train Acc: 62.71%\n",
      "Test Loss: 1.1242, Test Acc: 59.51%\n",
      "\n",
      "Epoch 8/15\n"
     ]
    },
    {
     "name": "stderr",
     "output_type": "stream",
     "text": [
      "Training: 100%|██████████| 391/391 [00:14<00:00, 26.09it/s, loss=0.998, acc=64.8]\n"
     ]
    },
    {
     "name": "stdout",
     "output_type": "stream",
     "text": [
      "Train Loss: 0.9931, Train Acc: 64.81%\n",
      "Test Loss: 1.0100, Test Acc: 64.11%\n",
      "\n",
      "Epoch 9/15\n"
     ]
    },
    {
     "name": "stderr",
     "output_type": "stream",
     "text": [
      "Training: 100%|██████████| 391/391 [00:15<00:00, 26.06it/s, loss=0.953, acc=66.1]\n"
     ]
    },
    {
     "name": "stdout",
     "output_type": "stream",
     "text": [
      "Train Loss: 0.9478, Train Acc: 66.13%\n",
      "Test Loss: 0.9865, Test Acc: 64.73%\n",
      "\n",
      "Epoch 10/15\n"
     ]
    },
    {
     "name": "stderr",
     "output_type": "stream",
     "text": [
      "Training: 100%|██████████| 391/391 [00:15<00:00, 25.94it/s, loss=0.908, acc=67.7]\n"
     ]
    },
    {
     "name": "stdout",
     "output_type": "stream",
     "text": [
      "Train Loss: 0.9037, Train Acc: 67.66%\n",
      "Test Loss: 0.9448, Test Acc: 66.72%\n",
      "\n",
      "Epoch 11/15\n"
     ]
    },
    {
     "name": "stderr",
     "output_type": "stream",
     "text": [
      "Training: 100%|██████████| 391/391 [00:15<00:00, 25.92it/s, loss=0.869, acc=69]  \n"
     ]
    },
    {
     "name": "stdout",
     "output_type": "stream",
     "text": [
      "Train Loss: 0.8645, Train Acc: 69.02%\n",
      "Test Loss: 0.9338, Test Acc: 67.02%\n",
      "\n",
      "Epoch 12/15\n"
     ]
    },
    {
     "name": "stderr",
     "output_type": "stream",
     "text": [
      "Training: 100%|██████████| 391/391 [00:15<00:00, 25.99it/s, loss=0.831, acc=70.4]\n"
     ]
    },
    {
     "name": "stdout",
     "output_type": "stream",
     "text": [
      "Train Loss: 0.8263, Train Acc: 70.38%\n",
      "Test Loss: 0.9129, Test Acc: 67.74%\n",
      "\n",
      "Epoch 13/15\n"
     ]
    },
    {
     "name": "stderr",
     "output_type": "stream",
     "text": [
      "Training: 100%|██████████| 391/391 [00:14<00:00, 26.12it/s, loss=0.807, acc=71.4]\n"
     ]
    },
    {
     "name": "stdout",
     "output_type": "stream",
     "text": [
      "Train Loss: 0.8029, Train Acc: 71.40%\n",
      "Test Loss: 0.8766, Test Acc: 69.08%\n",
      "\n",
      "Epoch 14/15\n"
     ]
    },
    {
     "name": "stderr",
     "output_type": "stream",
     "text": [
      "Training: 100%|██████████| 391/391 [00:15<00:00, 25.90it/s, loss=0.781, acc=72.3]\n"
     ]
    },
    {
     "name": "stdout",
     "output_type": "stream",
     "text": [
      "Train Loss: 0.7771, Train Acc: 72.30%\n",
      "Test Loss: 0.8730, Test Acc: 69.31%\n",
      "\n",
      "Epoch 15/15\n"
     ]
    },
    {
     "name": "stderr",
     "output_type": "stream",
     "text": [
      "Training: 100%|██████████| 391/391 [00:15<00:00, 25.82it/s, loss=0.777, acc=72.6]\n"
     ]
    },
    {
     "name": "stdout",
     "output_type": "stream",
     "text": [
      "Train Loss: 0.7730, Train Acc: 72.63%\n",
      "Test Loss: 0.8711, Test Acc: 69.60%\n",
      "Model saved to saved_models/vit_cifar10_none_best.pth\n",
      "\n",
      "=== Training with learned_1d positional embedding ===\n",
      "\n",
      "Epoch 1/15\n"
     ]
    },
    {
     "name": "stderr",
     "output_type": "stream",
     "text": [
      "Training: 100%|██████████| 391/391 [00:15<00:00, 25.66it/s, loss=1.71, acc=37.2]\n"
     ]
    },
    {
     "name": "stdout",
     "output_type": "stream",
     "text": [
      "Train Loss: 1.6966, Train Acc: 37.22%\n",
      "Test Loss: 1.4089, Test Acc: 48.57%\n",
      "\n",
      "Epoch 2/15\n"
     ]
    },
    {
     "name": "stderr",
     "output_type": "stream",
     "text": [
      "Training: 100%|██████████| 391/391 [00:15<00:00, 26.01it/s, loss=1.32, acc=52.7]\n"
     ]
    },
    {
     "name": "stdout",
     "output_type": "stream",
     "text": [
      "Train Loss: 1.3097, Train Acc: 52.66%\n",
      "Test Loss: 1.1801, Test Acc: 58.40%\n",
      "\n",
      "Epoch 3/15\n"
     ]
    },
    {
     "name": "stderr",
     "output_type": "stream",
     "text": [
      "Training: 100%|██████████| 391/391 [00:14<00:00, 26.08it/s, loss=1.18, acc=57.9]\n"
     ]
    },
    {
     "name": "stdout",
     "output_type": "stream",
     "text": [
      "Train Loss: 1.1703, Train Acc: 57.92%\n",
      "Test Loss: 1.0797, Test Acc: 61.29%\n",
      "\n",
      "Epoch 4/15\n"
     ]
    },
    {
     "name": "stderr",
     "output_type": "stream",
     "text": [
      "Training: 100%|██████████| 391/391 [00:15<00:00, 25.90it/s, loss=1.09, acc=61]  \n"
     ]
    },
    {
     "name": "stdout",
     "output_type": "stream",
     "text": [
      "Train Loss: 1.0875, Train Acc: 61.04%\n",
      "Test Loss: 1.0239, Test Acc: 63.43%\n",
      "\n",
      "Epoch 5/15\n"
     ]
    },
    {
     "name": "stderr",
     "output_type": "stream",
     "text": [
      "Training: 100%|██████████| 391/391 [00:15<00:00, 25.99it/s, loss=1.01, acc=64]  \n"
     ]
    },
    {
     "name": "stdout",
     "output_type": "stream",
     "text": [
      "Train Loss: 1.0067, Train Acc: 63.98%\n",
      "Test Loss: 0.9349, Test Acc: 66.55%\n",
      "\n",
      "Epoch 6/15\n"
     ]
    },
    {
     "name": "stderr",
     "output_type": "stream",
     "text": [
      "Training: 100%|██████████| 391/391 [00:15<00:00, 25.60it/s, loss=0.948, acc=66.3]\n"
     ]
    },
    {
     "name": "stdout",
     "output_type": "stream",
     "text": [
      "Train Loss: 0.9433, Train Acc: 66.30%\n",
      "Test Loss: 0.9673, Test Acc: 65.39%\n",
      "\n",
      "Epoch 7/15\n"
     ]
    },
    {
     "name": "stderr",
     "output_type": "stream",
     "text": [
      "Training: 100%|██████████| 391/391 [00:15<00:00, 25.85it/s, loss=0.892, acc=68.3]\n"
     ]
    },
    {
     "name": "stdout",
     "output_type": "stream",
     "text": [
      "Train Loss: 0.8870, Train Acc: 68.30%\n",
      "Test Loss: 0.8679, Test Acc: 69.00%\n",
      "\n",
      "Epoch 8/15\n"
     ]
    },
    {
     "name": "stderr",
     "output_type": "stream",
     "text": [
      "Training: 100%|██████████| 391/391 [00:15<00:00, 25.85it/s, loss=0.831, acc=70.6]\n"
     ]
    },
    {
     "name": "stdout",
     "output_type": "stream",
     "text": [
      "Train Loss: 0.8263, Train Acc: 70.58%\n",
      "Test Loss: 0.7956, Test Acc: 71.83%\n",
      "\n",
      "Epoch 9/15\n"
     ]
    },
    {
     "name": "stderr",
     "output_type": "stream",
     "text": [
      "Training: 100%|██████████| 391/391 [00:15<00:00, 25.96it/s, loss=0.782, acc=72.5]\n"
     ]
    },
    {
     "name": "stdout",
     "output_type": "stream",
     "text": [
      "Train Loss: 0.7781, Train Acc: 72.45%\n",
      "Test Loss: 0.7840, Test Acc: 72.95%\n",
      "\n",
      "Epoch 10/15\n"
     ]
    },
    {
     "name": "stderr",
     "output_type": "stream",
     "text": [
      "Training: 100%|██████████| 391/391 [00:15<00:00, 25.54it/s, loss=0.73, acc=74.3] \n"
     ]
    },
    {
     "name": "stdout",
     "output_type": "stream",
     "text": [
      "Train Loss: 0.7263, Train Acc: 74.30%\n",
      "Test Loss: 0.7454, Test Acc: 73.54%\n",
      "\n",
      "Epoch 11/15\n"
     ]
    },
    {
     "name": "stderr",
     "output_type": "stream",
     "text": [
      "Training: 100%|██████████| 391/391 [00:14<00:00, 26.08it/s, loss=0.693, acc=75.7]\n"
     ]
    },
    {
     "name": "stdout",
     "output_type": "stream",
     "text": [
      "Train Loss: 0.6897, Train Acc: 75.71%\n",
      "Test Loss: 0.7014, Test Acc: 75.47%\n",
      "\n",
      "Epoch 12/15\n"
     ]
    },
    {
     "name": "stderr",
     "output_type": "stream",
     "text": [
      "Training: 100%|██████████| 391/391 [00:15<00:00, 26.00it/s, loss=0.653, acc=77]  \n"
     ]
    },
    {
     "name": "stdout",
     "output_type": "stream",
     "text": [
      "Train Loss: 0.6497, Train Acc: 76.99%\n",
      "Test Loss: 0.6833, Test Acc: 76.33%\n",
      "\n",
      "Epoch 13/15\n"
     ]
    },
    {
     "name": "stderr",
     "output_type": "stream",
     "text": [
      "Training: 100%|██████████| 391/391 [00:14<00:00, 26.08it/s, loss=0.619, acc=78.3]\n"
     ]
    },
    {
     "name": "stdout",
     "output_type": "stream",
     "text": [
      "Train Loss: 0.6156, Train Acc: 78.27%\n",
      "Test Loss: 0.6647, Test Acc: 77.24%\n",
      "\n",
      "Epoch 14/15\n"
     ]
    },
    {
     "name": "stderr",
     "output_type": "stream",
     "text": [
      "Training: 100%|██████████| 391/391 [00:15<00:00, 25.97it/s, loss=0.598, acc=78.9]\n"
     ]
    },
    {
     "name": "stdout",
     "output_type": "stream",
     "text": [
      "Train Loss: 0.5950, Train Acc: 78.86%\n",
      "Test Loss: 0.6606, Test Acc: 77.32%\n",
      "\n",
      "Epoch 15/15\n"
     ]
    },
    {
     "name": "stderr",
     "output_type": "stream",
     "text": [
      "Training: 100%|██████████| 391/391 [00:15<00:00, 25.77it/s, loss=0.596, acc=79.2]\n"
     ]
    },
    {
     "name": "stdout",
     "output_type": "stream",
     "text": [
      "Train Loss: 0.5931, Train Acc: 79.17%\n",
      "Test Loss: 0.6541, Test Acc: 77.57%\n",
      "Model saved to saved_models/vit_cifar10_learned_1d_best.pth\n",
      "\n",
      "=== Training with learned_2d positional embedding ===\n",
      "\n",
      "Epoch 1/15\n"
     ]
    },
    {
     "name": "stderr",
     "output_type": "stream",
     "text": [
      "Training: 100%|██████████| 391/391 [00:15<00:00, 26.02it/s, loss=1.7, acc=37.1] \n"
     ]
    },
    {
     "name": "stdout",
     "output_type": "stream",
     "text": [
      "Train Loss: 1.6934, Train Acc: 37.14%\n",
      "Test Loss: 1.4421, Test Acc: 48.56%\n",
      "\n",
      "Epoch 2/15\n"
     ]
    },
    {
     "name": "stderr",
     "output_type": "stream",
     "text": [
      "Training: 100%|██████████| 391/391 [00:15<00:00, 25.41it/s, loss=1.3, acc=53.2] \n"
     ]
    },
    {
     "name": "stdout",
     "output_type": "stream",
     "text": [
      "Train Loss: 1.2947, Train Acc: 53.16%\n",
      "Test Loss: 1.1890, Test Acc: 57.18%\n",
      "\n",
      "Epoch 3/15\n"
     ]
    },
    {
     "name": "stderr",
     "output_type": "stream",
     "text": [
      "Training: 100%|██████████| 391/391 [00:15<00:00, 25.92it/s, loss=1.16, acc=58.6]\n"
     ]
    },
    {
     "name": "stdout",
     "output_type": "stream",
     "text": [
      "Train Loss: 1.1538, Train Acc: 58.61%\n",
      "Test Loss: 1.1344, Test Acc: 59.13%\n",
      "\n",
      "Epoch 4/15\n"
     ]
    },
    {
     "name": "stderr",
     "output_type": "stream",
     "text": [
      "Training: 100%|██████████| 391/391 [00:15<00:00, 25.29it/s, loss=1.07, acc=61.7]\n"
     ]
    },
    {
     "name": "stdout",
     "output_type": "stream",
     "text": [
      "Train Loss: 1.0639, Train Acc: 61.74%\n",
      "Test Loss: 1.0063, Test Acc: 64.00%\n",
      "\n",
      "Epoch 5/15\n"
     ]
    },
    {
     "name": "stderr",
     "output_type": "stream",
     "text": [
      "Training: 100%|██████████| 391/391 [00:15<00:00, 25.58it/s, loss=0.992, acc=64.7]\n"
     ]
    },
    {
     "name": "stdout",
     "output_type": "stream",
     "text": [
      "Train Loss: 0.9864, Train Acc: 64.70%\n",
      "Test Loss: 0.9095, Test Acc: 67.96%\n",
      "\n",
      "Epoch 6/15\n"
     ]
    },
    {
     "name": "stderr",
     "output_type": "stream",
     "text": [
      "Training: 100%|██████████| 391/391 [00:15<00:00, 25.78it/s, loss=0.93, acc=67.1] \n"
     ]
    },
    {
     "name": "stdout",
     "output_type": "stream",
     "text": [
      "Train Loss: 0.9250, Train Acc: 67.08%\n",
      "Test Loss: 0.8688, Test Acc: 69.06%\n",
      "\n",
      "Epoch 7/15\n"
     ]
    },
    {
     "name": "stderr",
     "output_type": "stream",
     "text": [
      "Training: 100%|██████████| 391/391 [00:15<00:00, 25.83it/s, loss=0.869, acc=69.2]\n"
     ]
    },
    {
     "name": "stdout",
     "output_type": "stream",
     "text": [
      "Train Loss: 0.8649, Train Acc: 69.15%\n",
      "Test Loss: 0.8337, Test Acc: 70.30%\n",
      "\n",
      "Epoch 8/15\n"
     ]
    },
    {
     "name": "stderr",
     "output_type": "stream",
     "text": [
      "Training: 100%|██████████| 391/391 [00:14<00:00, 26.17it/s, loss=0.816, acc=71.2]\n"
     ]
    },
    {
     "name": "stdout",
     "output_type": "stream",
     "text": [
      "Train Loss: 0.8118, Train Acc: 71.22%\n",
      "Test Loss: 0.7743, Test Acc: 72.52%\n",
      "\n",
      "Epoch 9/15\n"
     ]
    },
    {
     "name": "stderr",
     "output_type": "stream",
     "text": [
      "Training: 100%|██████████| 391/391 [00:15<00:00, 25.91it/s, loss=0.758, acc=73.4]\n"
     ]
    },
    {
     "name": "stdout",
     "output_type": "stream",
     "text": [
      "Train Loss: 0.7541, Train Acc: 73.38%\n",
      "Test Loss: 0.7401, Test Acc: 74.24%\n",
      "\n",
      "Epoch 10/15\n"
     ]
    },
    {
     "name": "stderr",
     "output_type": "stream",
     "text": [
      "Training: 100%|██████████| 391/391 [00:15<00:00, 26.05it/s, loss=0.718, acc=74.7]\n"
     ]
    },
    {
     "name": "stdout",
     "output_type": "stream",
     "text": [
      "Train Loss: 0.7139, Train Acc: 74.69%\n",
      "Test Loss: 0.7153, Test Acc: 74.84%\n",
      "\n",
      "Epoch 11/15\n"
     ]
    },
    {
     "name": "stderr",
     "output_type": "stream",
     "text": [
      "Training: 100%|██████████| 391/391 [00:15<00:00, 25.89it/s, loss=0.673, acc=76]  \n"
     ]
    },
    {
     "name": "stdout",
     "output_type": "stream",
     "text": [
      "Train Loss: 0.6692, Train Acc: 76.01%\n",
      "Test Loss: 0.6756, Test Acc: 76.51%\n",
      "\n",
      "Epoch 12/15\n"
     ]
    },
    {
     "name": "stderr",
     "output_type": "stream",
     "text": [
      "Training: 100%|██████████| 391/391 [00:14<00:00, 26.21it/s, loss=0.636, acc=77.6]\n"
     ]
    },
    {
     "name": "stdout",
     "output_type": "stream",
     "text": [
      "Train Loss: 0.6325, Train Acc: 77.59%\n",
      "Test Loss: 0.6547, Test Acc: 77.67%\n",
      "\n",
      "Epoch 13/15\n"
     ]
    },
    {
     "name": "stderr",
     "output_type": "stream",
     "text": [
      "Training: 100%|██████████| 391/391 [00:14<00:00, 26.12it/s, loss=0.611, acc=78.5]\n"
     ]
    },
    {
     "name": "stdout",
     "output_type": "stream",
     "text": [
      "Train Loss: 0.6074, Train Acc: 78.50%\n",
      "Test Loss: 0.6359, Test Acc: 78.20%\n",
      "\n",
      "Epoch 14/15\n"
     ]
    },
    {
     "name": "stderr",
     "output_type": "stream",
     "text": [
      "Training: 100%|██████████| 391/391 [00:15<00:00, 26.05it/s, loss=0.586, acc=79.2]\n"
     ]
    },
    {
     "name": "stdout",
     "output_type": "stream",
     "text": [
      "Train Loss: 0.5833, Train Acc: 79.24%\n",
      "Test Loss: 0.6314, Test Acc: 78.36%\n",
      "\n",
      "Epoch 15/15\n"
     ]
    },
    {
     "name": "stderr",
     "output_type": "stream",
     "text": [
      "Training: 100%|██████████| 391/391 [00:15<00:00, 25.71it/s, loss=0.577, acc=79.8]\n"
     ]
    },
    {
     "name": "stdout",
     "output_type": "stream",
     "text": [
      "Train Loss: 0.5742, Train Acc: 79.76%\n",
      "Test Loss: 0.6241, Test Acc: 78.64%\n",
      "Model saved to saved_models/vit_cifar10_learned_2d_best.pth\n",
      "\n",
      "=== Training with sinusoidal positional embedding ===\n",
      "\n",
      "Epoch 1/15\n"
     ]
    },
    {
     "name": "stderr",
     "output_type": "stream",
     "text": [
      "Training: 100%|██████████| 391/391 [00:15<00:00, 25.78it/s, loss=1.68, acc=38.4]\n"
     ]
    },
    {
     "name": "stdout",
     "output_type": "stream",
     "text": [
      "Train Loss: 1.6698, Train Acc: 38.43%\n",
      "Test Loss: 1.3834, Test Acc: 49.33%\n",
      "\n",
      "Epoch 2/15\n"
     ]
    },
    {
     "name": "stderr",
     "output_type": "stream",
     "text": [
      "Training: 100%|██████████| 391/391 [00:14<00:00, 26.28it/s, loss=1.36, acc=51]  \n"
     ]
    },
    {
     "name": "stdout",
     "output_type": "stream",
     "text": [
      "Train Loss: 1.3515, Train Acc: 51.00%\n",
      "Test Loss: 1.2199, Test Acc: 55.47%\n",
      "\n",
      "Epoch 3/15\n"
     ]
    },
    {
     "name": "stderr",
     "output_type": "stream",
     "text": [
      "Training: 100%|██████████| 391/391 [00:14<00:00, 26.30it/s, loss=1.23, acc=55.5]\n"
     ]
    },
    {
     "name": "stdout",
     "output_type": "stream",
     "text": [
      "Train Loss: 1.2285, Train Acc: 55.55%\n",
      "Test Loss: 1.1707, Test Acc: 58.17%\n",
      "\n",
      "Epoch 4/15\n"
     ]
    },
    {
     "name": "stderr",
     "output_type": "stream",
     "text": [
      "Training: 100%|██████████| 391/391 [00:14<00:00, 26.48it/s, loss=1.16, acc=58.6]\n"
     ]
    },
    {
     "name": "stdout",
     "output_type": "stream",
     "text": [
      "Train Loss: 1.1515, Train Acc: 58.63%\n",
      "Test Loss: 1.0475, Test Acc: 62.55%\n",
      "\n",
      "Epoch 5/15\n"
     ]
    },
    {
     "name": "stderr",
     "output_type": "stream",
     "text": [
      "Training: 100%|██████████| 391/391 [00:14<00:00, 26.30it/s, loss=1.07, acc=61.6]\n"
     ]
    },
    {
     "name": "stdout",
     "output_type": "stream",
     "text": [
      "Train Loss: 1.0666, Train Acc: 61.65%\n",
      "Test Loss: 1.0047, Test Acc: 64.05%\n",
      "\n",
      "Epoch 6/15\n"
     ]
    },
    {
     "name": "stderr",
     "output_type": "stream",
     "text": [
      "Training: 100%|██████████| 391/391 [00:15<00:00, 25.94it/s, loss=1, acc=64.2]    \n"
     ]
    },
    {
     "name": "stdout",
     "output_type": "stream",
     "text": [
      "Train Loss: 0.9970, Train Acc: 64.21%\n",
      "Test Loss: 0.9205, Test Acc: 67.57%\n",
      "\n",
      "Epoch 7/15\n"
     ]
    },
    {
     "name": "stderr",
     "output_type": "stream",
     "text": [
      "Training: 100%|██████████| 391/391 [00:15<00:00, 25.55it/s, loss=0.941, acc=66.4]\n"
     ]
    },
    {
     "name": "stdout",
     "output_type": "stream",
     "text": [
      "Train Loss: 0.9358, Train Acc: 66.38%\n",
      "Test Loss: 0.8956, Test Acc: 68.63%\n",
      "\n",
      "Epoch 8/15\n"
     ]
    },
    {
     "name": "stderr",
     "output_type": "stream",
     "text": [
      "Training: 100%|██████████| 391/391 [00:15<00:00, 25.95it/s, loss=0.888, acc=68.5]\n"
     ]
    },
    {
     "name": "stdout",
     "output_type": "stream",
     "text": [
      "Train Loss: 0.8833, Train Acc: 68.51%\n",
      "Test Loss: 0.8599, Test Acc: 68.99%\n",
      "\n",
      "Epoch 9/15\n"
     ]
    },
    {
     "name": "stderr",
     "output_type": "stream",
     "text": [
      "Training: 100%|██████████| 391/391 [00:14<00:00, 26.25it/s, loss=0.839, acc=70.4]\n"
     ]
    },
    {
     "name": "stdout",
     "output_type": "stream",
     "text": [
      "Train Loss: 0.8347, Train Acc: 70.38%\n",
      "Test Loss: 0.8018, Test Acc: 71.76%\n",
      "\n",
      "Epoch 10/15\n"
     ]
    },
    {
     "name": "stderr",
     "output_type": "stream",
     "text": [
      "Training: 100%|██████████| 391/391 [00:15<00:00, 25.96it/s, loss=0.784, acc=72.3]\n"
     ]
    },
    {
     "name": "stdout",
     "output_type": "stream",
     "text": [
      "Train Loss: 0.7803, Train Acc: 72.26%\n",
      "Test Loss: 0.7903, Test Acc: 72.33%\n",
      "\n",
      "Epoch 11/15\n"
     ]
    },
    {
     "name": "stderr",
     "output_type": "stream",
     "text": [
      "Training: 100%|██████████| 391/391 [00:14<00:00, 26.14it/s, loss=0.742, acc=74]  \n"
     ]
    },
    {
     "name": "stdout",
     "output_type": "stream",
     "text": [
      "Train Loss: 0.7385, Train Acc: 73.98%\n",
      "Test Loss: 0.7679, Test Acc: 73.03%\n",
      "\n",
      "Epoch 12/15\n"
     ]
    },
    {
     "name": "stderr",
     "output_type": "stream",
     "text": [
      "Training: 100%|██████████| 391/391 [00:15<00:00, 26.02it/s, loss=0.704, acc=75.1]\n"
     ]
    },
    {
     "name": "stdout",
     "output_type": "stream",
     "text": [
      "Train Loss: 0.7004, Train Acc: 75.14%\n",
      "Test Loss: 0.7201, Test Acc: 74.86%\n",
      "\n",
      "Epoch 13/15\n"
     ]
    },
    {
     "name": "stderr",
     "output_type": "stream",
     "text": [
      "Training: 100%|██████████| 391/391 [00:15<00:00, 25.86it/s, loss=0.676, acc=75.9]\n"
     ]
    },
    {
     "name": "stdout",
     "output_type": "stream",
     "text": [
      "Train Loss: 0.6730, Train Acc: 75.92%\n",
      "Test Loss: 0.7087, Test Acc: 75.27%\n",
      "\n",
      "Epoch 14/15\n"
     ]
    },
    {
     "name": "stderr",
     "output_type": "stream",
     "text": [
      "Training: 100%|██████████| 391/391 [00:15<00:00, 25.95it/s, loss=0.656, acc=76.9]\n"
     ]
    },
    {
     "name": "stdout",
     "output_type": "stream",
     "text": [
      "Train Loss: 0.6524, Train Acc: 76.85%\n",
      "Test Loss: 0.6977, Test Acc: 75.62%\n",
      "\n",
      "Epoch 15/15\n"
     ]
    },
    {
     "name": "stderr",
     "output_type": "stream",
     "text": [
      "Training: 100%|██████████| 391/391 [00:15<00:00, 25.58it/s, loss=0.645, acc=77.3]\n"
     ]
    },
    {
     "name": "stdout",
     "output_type": "stream",
     "text": [
      "Train Loss: 0.6417, Train Acc: 77.32%\n",
      "Test Loss: 0.6944, Test Acc: 75.85%\n",
      "Model saved to saved_models/vit_cifar10_sinusoidal_best.pth\n",
      "\n",
      "Best Test Accuracies by Positional Embedding Type:\n",
      "none: 69.60%\n",
      "   Model saved at: saved_models/vit_cifar10_none_best.pth\n",
      "learned_1d: 77.57%\n",
      "   Model saved at: saved_models/vit_cifar10_learned_1d_best.pth\n",
      "learned_2d: 78.64%\n",
      "   Model saved at: saved_models/vit_cifar10_learned_2d_best.pth\n",
      "sinusoidal: 75.85%\n",
      "   Model saved at: saved_models/vit_cifar10_sinusoidal_best.pth\n"
     ]
    }
   ],
   "source": [
    "torch.manual_seed(42)\n",
    "np.random.seed(42)\n",
    "\n",
    "device = torch.device('cuda' if torch.cuda.is_available() else 'cpu')\n",
    "print(f\"Using device: {device}\")\n",
    "\n",
    "best_config = {\n",
    "    'patch_size': 4,\n",
    "    'embed_dim': 256,\n",
    "    'depth': 6,\n",
    "    'n_heads': 8,\n",
    "    'mlp_dim': 512,\n",
    "    'batch_size': 128,\n",
    "    'lr': 0.0005,\n",
    "    'weight_decay': 0.05,\n",
    "}\n",
    "\n",
    "results = run_positional_embedding_experiment(device, best_config)"
   ]
  },
  {
   "cell_type": "markdown",
   "metadata": {},
   "source": [
    "The positional embedding comparison shows learned representations (especially 2D at 78.64%) significantly outperform fixed patterns (sinusoidal at 75.85%) and no position information (69.60%). This makes sense since learned embeddings can adapt to the specific spatial relationships in CIFAR-10 images, while the model without position embeddings struggles to understand spatial structure completely.\n",
    "For augmentations, the graph shows all methods eventually converge to similar accuracies, with default and cutmix slightly outperforming others. This suggests Vision Transformers are somewhat robust to augmentation choice on CIFAR-10, but simpler augmentations that maintain original image structure lead to more stable learning curves and marginally better performance."
   ]
  },
  {
   "cell_type": "code",
   "execution_count": 11,
   "metadata": {},
   "outputs": [],
   "source": [
    "class VisionTransformerForVisualization(nn.Module):\n",
    "    def __init__(self, pretrained_model):\n",
    "        super().__init__()\n",
    "        self.pretrained_model = pretrained_model\n",
    "        self.attention_weights = []\n",
    "    \n",
    "    def forward(self, x, return_attention=True):\n",
    "        batch_size = x.size(0)\n",
    "        \n",
    "        x = self.pretrained_model.patch_embed(x)        \n",
    "        x = x.flatten(2)\n",
    "        x = x.transpose(1, 2)\n",
    "        \n",
    "        cls_tokens = self.pretrained_model.cls_token.expand(batch_size, -1, -1)\n",
    "        x = torch.cat((cls_tokens, x), dim=1)\n",
    "        \n",
    "        if self.pretrained_model.pos_embed is not None:\n",
    "            x = x + self.pretrained_model.pos_embed\n",
    "        \n",
    "        x = self.pretrained_model.dropout(x)\n",
    "        \n",
    "        self.attention_weights = []\n",
    "        for layer in self.pretrained_model.transformer_encoder:\n",
    "            attn_output, attn_weights = layer.attention(x, x, x)\n",
    "            self.attention_weights.append(attn_weights)\n",
    "            \n",
    "            x = x + layer.dropout(attn_output)\n",
    "            x = layer.norm1(x)\n",
    "            \n",
    "            mlp_output = layer.mlp(x)\n",
    "            x = x + layer.dropout(mlp_output)\n",
    "            x = layer.norm2(x)\n",
    "        \n",
    "        x = self.pretrained_model.norm(x)\n",
    "        \n",
    "        x_cls = x[:, 0]\n",
    "        output = self.pretrained_model.head(x_cls)\n",
    "        \n",
    "        if return_attention:\n",
    "            return output, self.attention_weights\n",
    "        else:\n",
    "            return output\n",
    "\n",
    "def visualize_attention_maps(model, image, device,index, save_path='attention_maps'):\n",
    "    img_size = 32\n",
    "    patch_size = model.pretrained_model.patch_size\n",
    "    n_patches = (img_size // patch_size) ** 2\n",
    "    \n",
    "    model.eval()\n",
    "    with torch.no_grad():\n",
    "        if isinstance(image, np.ndarray):\n",
    "            image = torch.from_numpy(image).permute(2, 0, 1).unsqueeze(0).float()\n",
    "        if image.dim() == 3:\n",
    "            image = image.unsqueeze(0)\n",
    "        image = image.to(device)\n",
    "        \n",
    "        _, attention_weights = model(image, return_attention=True)\n",
    "    \n",
    "    os.makedirs(save_path, exist_ok=True)\n",
    "    \n",
    "    last_attn = attention_weights[-1][0]  \n",
    "    n_heads = last_attn.shape[0]\n",
    "    \n",
    "    fig, axes = plt.subplots(2, 4, figsize=(16, 8))\n",
    "    axes = axes.flatten()\n",
    "    \n",
    "    for i in range(min(n_heads, 8)):\n",
    "        cls_to_all = last_attn[i, 0, 1:]  # Exclude CLS->CLS attention\n",
    "        cls_to_all = cls_to_all.reshape(img_size // patch_size, img_size // patch_size)\n",
    "        \n",
    "        axes[i].imshow(cls_to_all.cpu().numpy(), cmap='hot')\n",
    "        axes[i].set_title(f'Head {i+1}')\n",
    "        axes[i].axis('off')\n",
    "    \n",
    "    plt.tight_layout()\n",
    "    plt.savefig(os.path.join(save_path, f'attention_heads_last_layer_{index}.png'))\n",
    "    plt.close()\n",
    "    \n",
    "    avg_attn = last_attn.mean(0)[0, 1:]  \n",
    "    avg_attn = avg_attn.reshape(img_size // patch_size, img_size // patch_size)\n",
    "    \n",
    "    plt.figure(figsize=(8, 8))\n",
    "    plt.imshow(avg_attn.cpu().numpy(), cmap='hot')\n",
    "    plt.title('Average Attention from CLS Token (Last Layer)')\n",
    "    plt.colorbar()\n",
    "    plt.savefig(os.path.join(save_path, f'average_attention_last_layer_{index}.png'))\n",
    "    plt.close()\n",
    "    \n",
    "    n_layers = len(attention_weights)\n",
    "    fig, axes = plt.subplots(2, 3, figsize=(15, 10))\n",
    "    axes = axes.flatten()\n",
    "    \n",
    "    for i in range(min(n_layers, 6)):\n",
    "        layer_attn = attention_weights[i][0].mean(0)[0, 1:]  # [n_patches]\n",
    "        layer_attn = layer_attn.reshape(img_size // patch_size, img_size // patch_size)\n",
    "        \n",
    "        axes[i].imshow(layer_attn.cpu().numpy(), cmap='hot')\n",
    "        axes[i].set_title(f'Layer {i+1}')\n",
    "        axes[i].axis('off')\n",
    "    \n",
    "    plt.tight_layout()\n",
    "    plt.savefig(os.path.join(save_path, f'attention_across_layers_{index}.png'))\n",
    "    plt.close()"
   ]
  },
  {
   "cell_type": "code",
   "execution_count": 12,
   "metadata": {},
   "outputs": [],
   "source": [
    "def attention_rollout(attention_weights, device):\n",
    "    attention_matrix = torch.eye(attention_weights[0].shape[-1]).to(device)\n",
    "    for layer_attn in attention_weights:\n",
    "        layer_attn = layer_attn.mean(1)\n",
    "        layer_attn = layer_attn + torch.eye(layer_attn.shape[-1]).to(device)\n",
    "        layer_attn = layer_attn / layer_attn.sum(dim=-1, keepdim=True)\n",
    "        attention_matrix = torch.matmul(layer_attn, attention_matrix)\n",
    "    \n",
    "    return attention_matrix\n",
    "\n",
    "def visualize_attention_rollout(model, image, device, index, save_path='attention_rollout'):\n",
    "    img_size = 32\n",
    "    patch_size = model.pretrained_model.patch_size\n",
    "    model.eval()\n",
    "    with torch.no_grad():\n",
    "        if isinstance(image, np.ndarray):\n",
    "            image = torch.from_numpy(image).permute(2, 0, 1).unsqueeze(0).float()\n",
    "        if image.dim() == 3:\n",
    "            image = image.unsqueeze(0)\n",
    "        image = image.to(device)\n",
    "        \n",
    "        _, attention_weights = model(image, return_attention=True)\n",
    "    \n",
    "    rollout_matrix = attention_rollout(attention_weights, device)[0] \n",
    "    \n",
    "    cls_to_all = rollout_matrix[0, 1:]  \n",
    "    cls_to_all = cls_to_all.reshape(img_size // patch_size, img_size // patch_size)\n",
    "    \n",
    "    os.makedirs(save_path, exist_ok=True)\n",
    "    \n",
    "    plt.figure(figsize=(8, 8))\n",
    "    plt.imshow(cls_to_all.cpu().numpy(), cmap='hot')\n",
    "    plt.title('Attention Rollout from CLS Token')\n",
    "    plt.colorbar()\n",
    "    plt.savefig(os.path.join(save_path, f'attention_rollout_{index}.png'))\n",
    "    plt.close()\n",
    "    \n",
    "    fig, (ax1, ax2) = plt.subplots(1, 2, figsize=(12, 6))\n",
    "    \n",
    "    original_img = image[0].cpu().numpy().transpose(1, 2, 0)\n",
    "    mean = np.array([0.4914, 0.4822, 0.4465])\n",
    "    std = np.array([0.2470, 0.2435, 0.2616])\n",
    "    original_img = original_img * std + mean\n",
    "    original_img = np.clip(original_img, 0, 1)\n",
    "    \n",
    "    ax1.imshow(original_img)\n",
    "    ax1.set_title('Original Image')\n",
    "    ax1.axis('off')\n",
    "    \n",
    "    ax2.imshow(cls_to_all.cpu().numpy(), cmap='hot')\n",
    "    ax2.set_title('Attention Rollout')\n",
    "    ax2.axis('off')\n",
    "    \n",
    "    plt.tight_layout()\n",
    "    plt.savefig(os.path.join(save_path, f'attention_rollout_comparison_{index}.png'))\n",
    "    plt.close()\n"
   ]
  },
  {
   "cell_type": "code",
   "execution_count": 24,
   "metadata": {},
   "outputs": [],
   "source": [
    "def visualize_positional_embeddings(model,index, save_path='positional_embeddings'):\n",
    "    pos_embed = model.pretrained_model.pos_embed[0] \n",
    "    sim_matrix = torch.matmul(pos_embed, pos_embed.transpose(0, 1))\n",
    "    \n",
    "    os.makedirs(save_path, exist_ok=True)\n",
    "    \n",
    "    plt.figure(figsize=(10, 8))\n",
    "    plt.imshow(sim_matrix.detach().cpu().numpy(), cmap='viridis')\n",
    "    plt.title('Positional Embedding Similarity Matrix')\n",
    "    plt.xlabel('Position')\n",
    "    plt.ylabel('Position')\n",
    "    plt.colorbar()\n",
    "    plt.tight_layout()\n",
    "    plt.savefig(os.path.join(save_path, f'pos_embed_similarity_{index}.png'))\n",
    "    plt.close()\n",
    "    \n",
    "    dist_matrix = torch.cdist(pos_embed, pos_embed, p=2)\n",
    "    \n",
    "    plt.figure(figsize=(10, 8))\n",
    "    plt.imshow(dist_matrix.detach().cpu().numpy(), cmap='viridis')\n",
    "    plt.title('Positional Embedding Distance Matrix')\n",
    "    plt.xlabel('Position')\n",
    "    plt.ylabel('Position')\n",
    "    plt.colorbar()\n",
    "    plt.tight_layout()\n",
    "    plt.savefig(os.path.join(save_path, f'pos_embed_distance_{index}.png'))\n",
    "    plt.close()\n",
    "\n",
    "\n",
    "def run_all_visualizations(model_path, device, index):\n",
    "    checkpoint = torch.load(model_path, map_location=device)\n",
    "\n",
    "    best_config = checkpoint['config']\n",
    "    pos_embedding_type = checkpoint['pos_embedding_type']\n",
    "    print(pos_embedding_type)\n",
    "  \n",
    "    pretrained_model = VisionTransformerWithPosEmbed(\n",
    "        img_size=32,\n",
    "        patch_size=best_config['patch_size'],\n",
    "        in_channels=3,\n",
    "        num_classes=10,\n",
    "        embed_dim=best_config['embed_dim'],\n",
    "        depth=best_config['depth'],\n",
    "        n_heads=best_config['n_heads'],\n",
    "        mlp_dim=best_config['mlp_dim'],\n",
    "        dropout=0.1,\n",
    "        pos_embedding_type=pos_embedding_type\n",
    "    ).to(device)\n",
    "    \n",
    "    pretrained_model.load_state_dict(checkpoint['model_state_dict'])\n",
    "    vis_model = VisionTransformerForVisualization(pretrained_model)\n",
    "    \n",
    "    transform_test = transforms.Compose([\n",
    "        transforms.ToTensor(),\n",
    "        transforms.Normalize((0.4914, 0.4822, 0.4465), (0.2470, 0.2435, 0.2616)),\n",
    "    ])\n",
    "    \n",
    "    test_dataset = torchvision.datasets.CIFAR10(\n",
    "        root='./data', train=False, download=True, transform=transform_test)\n",
    "    \n",
    "    sample_idx = 100 \n",
    "    sample_image, sample_label = test_dataset[sample_idx]\n",
    "    \n",
    "    print(f\"Visualizing model with {pos_embedding_type} positional embedding...\")\n",
    "    print(\"Visualizing attention maps...\")\n",
    "    visualize_attention_maps(vis_model, sample_image, device, index, 'attention_maps')\n",
    "    \n",
    "    print(\"Visualizing attention rollout...\")\n",
    "    visualize_attention_rollout(vis_model, sample_image, device, index, 'attention_rollout')\n",
    "    \n",
    "    print(\"Visualizing positional embeddings...\")\n",
    "    visualize_positional_embeddings(vis_model, index, 'positional_embeddings')\n",
    "    \n",
    "    print(\"All visualizations completed!\")\n"
   ]
  },
  {
   "cell_type": "code",
   "execution_count": 25,
   "metadata": {},
   "outputs": [
    {
     "name": "stdout",
     "output_type": "stream",
     "text": [
      "learned_1d\n",
      "Visualizing model with learned_1d positional embedding...\n",
      "Visualizing attention maps...\n",
      "Visualizing attention rollout...\n",
      "Visualizing positional embeddings...\n",
      "All visualizations completed!\n"
     ]
    }
   ],
   "source": [
    "model_path = './saved_models/vit_cifar10_learned_1d_best.pth'\n",
    "index = 'learned_1d'\n",
    "device = torch.device('cuda' if torch.cuda.is_available() else 'cpu')\n",
    "run_all_visualizations(model_path, device, index)"
   ]
  },
  {
   "cell_type": "code",
   "execution_count": 30,
   "metadata": {},
   "outputs": [
    {
     "name": "stdout",
     "output_type": "stream",
     "text": [
      "sinusoidal\n",
      "Visualizing model with sinusoidal positional embedding...\n",
      "Visualizing attention maps...\n",
      "Visualizing attention rollout...\n",
      "Visualizing positional embeddings...\n",
      "All visualizations completed!\n"
     ]
    }
   ],
   "source": [
    "model_path = './saved_models/vit_cifar10_sinusoidal_best.pth'\n",
    "index = 'sinusoidal'\n",
    "device = torch.device('cuda' if torch.cuda.is_available() else 'cpu')\n",
    "run_all_visualizations(model_path, device, index)"
   ]
  },
  {
   "cell_type": "markdown",
   "metadata": {},
   "source": [
    "### Attention maps:\n",
    "Image 1 shows attention patterns across six transformer layers, progressing from broad, diffuse attention in early layers (Layer 1) to more focused, object-specific attention in later layers (Layers 4-6). Image 2 displays different specializations across eight attention heads in the final layer, with some heads focusing on specific features (like edges or shapes) while others attend to broader patterns. Image 3 shows the average attention from the CLS token to all patches, highlighting the model's focus on salient image regions, with brighter areas (particularly at coordinates (4,4), (2,6), and (7,6)) receiving significantly more attention for classification.\n",
    "\n",
    "### Attention rollout:\n",
    "The attention rollout visualizations reveal how the ViT model integrates information across transformer layers when classifying images. In Image 1, we see a dog image (left) and its corresponding attention rollout map (right), which shows the model strongly focuses on the central region where the dog's face and body are located, with the brightest spots (white/yellow) highlighting the most important features for classification. Image 2 presents the same information as a heatmap with grid coordinates, clearly showing intense focus on patches (3,3) and (3,4) which correspond to the dog's main features, while maintaining moderate attention (red areas) to surrounding contextual regions. Attention rollout differs from regular attention maps as it accounts for information flow through all layers simultaneously by propagating attention in a principled way, providing a holistic view of how the model makes classification decisions.\n",
    "\n",
    "### Positional Embeddings\n",
    "Image 1 shows the L2 distance matrix between positional embeddings. The dark diagonal represents zero distance between identical positions, while increasing brightness (yellow) indicates greater distance between positions that are far apart. The periodic patterns and grid-like structures suggest the model has learned systematic spatial relationships where nearby positions have similar embeddings.\n",
    "Image 2 displays the dot product similarity matrix of the same embeddings, essentially showing the inverse relationship. Higher similarity (green/yellow) appears between positions close to each other, while lower similarity (dark blue/purple) appears between distant positions. The model exhibits a gradual transition from highly similar adjacent positions to dissimilar distant ones.\n",
    "Both visualizations confirm that the ViT has successfully learned meaningful 1D positional encodings that respect spatial locality - positions that are close together have similar embeddings, while those far apart have more distinct representations. This spatial awareness is crucial for the model to understand image structure despite the token sequence being flattened.RetryClaude can make mistakes. Please double-check responses. 3.7 Sonnet\n"
   ]
  }
 ],
 "metadata": {
  "kernelspec": {
   "display_name": "research",
   "language": "python",
   "name": "python3"
  },
  "language_info": {
   "codemirror_mode": {
    "name": "ipython",
    "version": 3
   },
   "file_extension": ".py",
   "mimetype": "text/x-python",
   "name": "python",
   "nbconvert_exporter": "python",
   "pygments_lexer": "ipython3",
   "version": "3.12.8"
  }
 },
 "nbformat": 4,
 "nbformat_minor": 2
}
